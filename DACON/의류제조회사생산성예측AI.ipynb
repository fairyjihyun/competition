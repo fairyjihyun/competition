{
  "nbformat": 4,
  "nbformat_minor": 0,
  "metadata": {
    "colab": {
      "provenance": [],
      "machine_shape": "hm",
      "collapsed_sections": [
        "SUlo_sSL-dPK"
      ],
      "authorship_tag": "ABX9TyPO4h3oui5lNYUgTJM8ubir",
      "include_colab_link": true
    },
    "kernelspec": {
      "name": "python3",
      "display_name": "Python 3"
    },
    "language_info": {
      "name": "python"
    },
    "accelerator": "GPU",
    "gpuClass": "standard"
  },
  "cells": [
    {
      "cell_type": "markdown",
      "metadata": {
        "id": "view-in-github",
        "colab_type": "text"
      },
      "source": [
        "<a href=\"https://colab.research.google.com/github/fairyjihyun/competition/blob/main/DACON/%EC%9D%98%EB%A5%98%EC%A0%9C%EC%A1%B0%ED%9A%8C%EC%82%AC%EC%83%9D%EC%82%B0%EC%84%B1%EC%98%88%EC%B8%A1AI.ipynb\" target=\"_parent\"><img src=\"https://colab.research.google.com/assets/colab-badge.svg\" alt=\"Open In Colab\"/></a>"
      ]
    },
    {
      "cell_type": "code",
      "source": [
        "# 실행 후 런타임 다시 시작\n",
        "!sudo apt-get install -y fonts-nanum\n",
        "!sudo fc-cache -fv\n",
        "!rm ~/.cache/matplotlib -rf"
      ],
      "metadata": {
        "id": "Uk-ck4qev3F7"
      },
      "execution_count": null,
      "outputs": []
    },
    {
      "cell_type": "code",
      "source": [
        "from google.colab import drive\n",
        "drive.mount('/content/drive')"
      ],
      "metadata": {
        "colab": {
          "base_uri": "https://localhost:8080/"
        },
        "id": "v2fJ90Mck8M9",
        "outputId": "0fd23693-8b9b-47f7-b3b0-0df33a4e41bc"
      },
      "execution_count": null,
      "outputs": [
        {
          "output_type": "stream",
          "name": "stdout",
          "text": [
            "Mounted at /content/drive\n"
          ]
        }
      ]
    },
    {
      "cell_type": "code",
      "execution_count": null,
      "metadata": {
        "id": "f-7dYKLFkvuH"
      },
      "outputs": [],
      "source": [
        "# Data Handling\n",
        "import pandas as pd\n",
        "import numpy as np\n",
        "import random\n",
        "import os\n",
        "import warnings\n",
        "warnings.filterwarnings(action='ignore')\n",
        "\n",
        "# Data visualization\n",
        "import matplotlib as mpl\n",
        "import matplotlib.pyplot as plt\n",
        "%matplotlib inline\n",
        "plt.rc('font', family='NanumBarunGothic')\n",
        "import seaborn as sns\n",
        "sns.set(font=\"NanumBarunGothic\",\n",
        "        rc={\"axes.unicode_minus\":False},\n",
        "        style='darkgrid')"
      ]
    },
    {
      "cell_type": "code",
      "source": [
        "def seed_everything(seed):\n",
        "    random.seed(seed)\n",
        "    os.environ['PYTHONHASHSEED'] = str(seed)\n",
        "    np.random.seed(seed)\n",
        "seed_everything(42) "
      ],
      "metadata": {
        "id": "7KtkzgWPlsBg"
      },
      "execution_count": null,
      "outputs": []
    },
    {
      "cell_type": "markdown",
      "source": [
        "## Load the data"
      ],
      "metadata": {
        "id": "fZhia4UOmliO"
      }
    },
    {
      "cell_type": "code",
      "source": [
        "cd/content/drive/MyDrive/Colab Notebooks/DACON/의류 제조 회사 생산성 예측 AI/open"
      ],
      "metadata": {
        "colab": {
          "base_uri": "https://localhost:8080/"
        },
        "id": "5UVf5OAymA00",
        "outputId": "4c012aeb-a423-42b5-c9f0-a63d8f25642b"
      },
      "execution_count": null,
      "outputs": [
        {
          "output_type": "stream",
          "name": "stdout",
          "text": [
            "/content/drive/MyDrive/Colab Notebooks/DACON/의류 제조 회사 생산성 예측 AI/open\n"
          ]
        }
      ]
    },
    {
      "cell_type": "code",
      "source": [
        "train = pd.read_csv('train.csv')\n",
        "train_x = train.drop(columns=[\"ID\", \"actual_productivity\"])\n",
        "train_y = train[\"actual_productivity\"]\n",
        "test = pd.read_csv('test.csv').drop(columns=['ID'])"
      ],
      "metadata": {
        "id": "jXaGMuh_l4oJ"
      },
      "execution_count": null,
      "outputs": []
    },
    {
      "cell_type": "code",
      "source": [
        "# column info\n",
        "info = pd.read_csv('column_info.csv')\n",
        "info"
      ],
      "metadata": {
        "colab": {
          "base_uri": "https://localhost:8080/",
          "height": 488
        },
        "id": "hITLrei3tcjj",
        "outputId": "5e0eae0b-d558-4c4a-f468-81032c49d00e"
      },
      "execution_count": null,
      "outputs": [
        {
          "output_type": "execute_result",
          "data": {
            "text/plain": [
              "                  Column명                                           설명\n",
              "0                      ID                                        샘플 ID\n",
              "1                 quarter  한 달을 4개의 기간으로 분할한 단위 (예시: 1주차, 2주차, 3주차 ..)\n",
              "2              department                                   인스턴스 관련 부서\n",
              "3                     day                                           요일\n",
              "4   targeted_productivity                                   설정한 목표 생산성\n",
              "5                     smv                               작업에 할당된 시간 (분)\n",
              "6                     wip           작업 진행 중인 품목 수 (제품에 대한 미완성 품목 수 포함)\n",
              "7               over_time                          각 팀별 초과 근무 정도 (0~1)\n",
              "8               incentive                          재정적 인센티브 양 (BDT 단위)\n",
              "9               idle_time                                   생산이 중단된 시간\n",
              "10               idle_men                               생산 중단으로 유휴인원 수\n",
              "11     no_of_style_change                             특정 제품의 스타일 변경 횟수\n",
              "12          no_of_workers                                     팀별 작업자 수\n",
              "13    actual_productivity                                 생산량 (target)"
            ],
            "text/html": [
              "\n",
              "  <div id=\"df-28c9b8ba-6cc3-4102-9ec3-5f6497d91e90\">\n",
              "    <div class=\"colab-df-container\">\n",
              "      <div>\n",
              "<style scoped>\n",
              "    .dataframe tbody tr th:only-of-type {\n",
              "        vertical-align: middle;\n",
              "    }\n",
              "\n",
              "    .dataframe tbody tr th {\n",
              "        vertical-align: top;\n",
              "    }\n",
              "\n",
              "    .dataframe thead th {\n",
              "        text-align: right;\n",
              "    }\n",
              "</style>\n",
              "<table border=\"1\" class=\"dataframe\">\n",
              "  <thead>\n",
              "    <tr style=\"text-align: right;\">\n",
              "      <th></th>\n",
              "      <th>Column명</th>\n",
              "      <th>설명</th>\n",
              "    </tr>\n",
              "  </thead>\n",
              "  <tbody>\n",
              "    <tr>\n",
              "      <th>0</th>\n",
              "      <td>ID</td>\n",
              "      <td>샘플 ID</td>\n",
              "    </tr>\n",
              "    <tr>\n",
              "      <th>1</th>\n",
              "      <td>quarter</td>\n",
              "      <td>한 달을 4개의 기간으로 분할한 단위 (예시: 1주차, 2주차, 3주차 ..)</td>\n",
              "    </tr>\n",
              "    <tr>\n",
              "      <th>2</th>\n",
              "      <td>department</td>\n",
              "      <td>인스턴스 관련 부서</td>\n",
              "    </tr>\n",
              "    <tr>\n",
              "      <th>3</th>\n",
              "      <td>day</td>\n",
              "      <td>요일</td>\n",
              "    </tr>\n",
              "    <tr>\n",
              "      <th>4</th>\n",
              "      <td>targeted_productivity</td>\n",
              "      <td>설정한 목표 생산성</td>\n",
              "    </tr>\n",
              "    <tr>\n",
              "      <th>5</th>\n",
              "      <td>smv</td>\n",
              "      <td>작업에 할당된 시간 (분)</td>\n",
              "    </tr>\n",
              "    <tr>\n",
              "      <th>6</th>\n",
              "      <td>wip</td>\n",
              "      <td>작업 진행 중인 품목 수 (제품에 대한 미완성 품목 수 포함)</td>\n",
              "    </tr>\n",
              "    <tr>\n",
              "      <th>7</th>\n",
              "      <td>over_time</td>\n",
              "      <td>각 팀별 초과 근무 정도 (0~1)</td>\n",
              "    </tr>\n",
              "    <tr>\n",
              "      <th>8</th>\n",
              "      <td>incentive</td>\n",
              "      <td>재정적 인센티브 양 (BDT 단위)</td>\n",
              "    </tr>\n",
              "    <tr>\n",
              "      <th>9</th>\n",
              "      <td>idle_time</td>\n",
              "      <td>생산이 중단된 시간</td>\n",
              "    </tr>\n",
              "    <tr>\n",
              "      <th>10</th>\n",
              "      <td>idle_men</td>\n",
              "      <td>생산 중단으로 유휴인원 수</td>\n",
              "    </tr>\n",
              "    <tr>\n",
              "      <th>11</th>\n",
              "      <td>no_of_style_change</td>\n",
              "      <td>특정 제품의 스타일 변경 횟수</td>\n",
              "    </tr>\n",
              "    <tr>\n",
              "      <th>12</th>\n",
              "      <td>no_of_workers</td>\n",
              "      <td>팀별 작업자 수</td>\n",
              "    </tr>\n",
              "    <tr>\n",
              "      <th>13</th>\n",
              "      <td>actual_productivity</td>\n",
              "      <td>생산량 (target)</td>\n",
              "    </tr>\n",
              "  </tbody>\n",
              "</table>\n",
              "</div>\n",
              "      <button class=\"colab-df-convert\" onclick=\"convertToInteractive('df-28c9b8ba-6cc3-4102-9ec3-5f6497d91e90')\"\n",
              "              title=\"Convert this dataframe to an interactive table.\"\n",
              "              style=\"display:none;\">\n",
              "        \n",
              "  <svg xmlns=\"http://www.w3.org/2000/svg\" height=\"24px\"viewBox=\"0 0 24 24\"\n",
              "       width=\"24px\">\n",
              "    <path d=\"M0 0h24v24H0V0z\" fill=\"none\"/>\n",
              "    <path d=\"M18.56 5.44l.94 2.06.94-2.06 2.06-.94-2.06-.94-.94-2.06-.94 2.06-2.06.94zm-11 1L8.5 8.5l.94-2.06 2.06-.94-2.06-.94L8.5 2.5l-.94 2.06-2.06.94zm10 10l.94 2.06.94-2.06 2.06-.94-2.06-.94-.94-2.06-.94 2.06-2.06.94z\"/><path d=\"M17.41 7.96l-1.37-1.37c-.4-.4-.92-.59-1.43-.59-.52 0-1.04.2-1.43.59L10.3 9.45l-7.72 7.72c-.78.78-.78 2.05 0 2.83L4 21.41c.39.39.9.59 1.41.59.51 0 1.02-.2 1.41-.59l7.78-7.78 2.81-2.81c.8-.78.8-2.07 0-2.86zM5.41 20L4 18.59l7.72-7.72 1.47 1.35L5.41 20z\"/>\n",
              "  </svg>\n",
              "      </button>\n",
              "      \n",
              "  <style>\n",
              "    .colab-df-container {\n",
              "      display:flex;\n",
              "      flex-wrap:wrap;\n",
              "      gap: 12px;\n",
              "    }\n",
              "\n",
              "    .colab-df-convert {\n",
              "      background-color: #E8F0FE;\n",
              "      border: none;\n",
              "      border-radius: 50%;\n",
              "      cursor: pointer;\n",
              "      display: none;\n",
              "      fill: #1967D2;\n",
              "      height: 32px;\n",
              "      padding: 0 0 0 0;\n",
              "      width: 32px;\n",
              "    }\n",
              "\n",
              "    .colab-df-convert:hover {\n",
              "      background-color: #E2EBFA;\n",
              "      box-shadow: 0px 1px 2px rgba(60, 64, 67, 0.3), 0px 1px 3px 1px rgba(60, 64, 67, 0.15);\n",
              "      fill: #174EA6;\n",
              "    }\n",
              "\n",
              "    [theme=dark] .colab-df-convert {\n",
              "      background-color: #3B4455;\n",
              "      fill: #D2E3FC;\n",
              "    }\n",
              "\n",
              "    [theme=dark] .colab-df-convert:hover {\n",
              "      background-color: #434B5C;\n",
              "      box-shadow: 0px 1px 3px 1px rgba(0, 0, 0, 0.15);\n",
              "      filter: drop-shadow(0px 1px 2px rgba(0, 0, 0, 0.3));\n",
              "      fill: #FFFFFF;\n",
              "    }\n",
              "  </style>\n",
              "\n",
              "      <script>\n",
              "        const buttonEl =\n",
              "          document.querySelector('#df-28c9b8ba-6cc3-4102-9ec3-5f6497d91e90 button.colab-df-convert');\n",
              "        buttonEl.style.display =\n",
              "          google.colab.kernel.accessAllowed ? 'block' : 'none';\n",
              "\n",
              "        async function convertToInteractive(key) {\n",
              "          const element = document.querySelector('#df-28c9b8ba-6cc3-4102-9ec3-5f6497d91e90');\n",
              "          const dataTable =\n",
              "            await google.colab.kernel.invokeFunction('convertToInteractive',\n",
              "                                                     [key], {});\n",
              "          if (!dataTable) return;\n",
              "\n",
              "          const docLinkHtml = 'Like what you see? Visit the ' +\n",
              "            '<a target=\"_blank\" href=https://colab.research.google.com/notebooks/data_table.ipynb>data table notebook</a>'\n",
              "            + ' to learn more about interactive tables.';\n",
              "          element.innerHTML = '';\n",
              "          dataTable['output_type'] = 'display_data';\n",
              "          await google.colab.output.renderOutput(dataTable, element);\n",
              "          const docLink = document.createElement('div');\n",
              "          docLink.innerHTML = docLinkHtml;\n",
              "          element.appendChild(docLink);\n",
              "        }\n",
              "      </script>\n",
              "    </div>\n",
              "  </div>\n",
              "  "
            ]
          },
          "metadata": {},
          "execution_count": 7
        }
      ]
    },
    {
      "cell_type": "code",
      "source": [
        "# train data : target은 actual_productivity\n",
        "print(train.shape)\n",
        "print(train.columns)\n",
        "train.head()"
      ],
      "metadata": {
        "colab": {
          "base_uri": "https://localhost:8080/",
          "height": 361
        },
        "id": "tnJB1q1q7mFL",
        "outputId": "2bd9b8f7-d7eb-4b0e-d56e-1ab38793e019"
      },
      "execution_count": null,
      "outputs": [
        {
          "output_type": "stream",
          "name": "stdout",
          "text": [
            "(1197, 14)\n",
            "Index(['ID', 'quarter', 'department', 'day', 'targeted_productivity', 'smv',\n",
            "       'wip', 'over_time', 'incentive', 'idle_time', 'idle_men',\n",
            "       'no_of_style_change', 'no_of_workers', 'actual_productivity'],\n",
            "      dtype='object')\n"
          ]
        },
        {
          "output_type": "execute_result",
          "data": {
            "text/plain": [
              "           ID   quarter department       day  targeted_productivity    smv  \\\n",
              "0  TRAIN_0000  Quarter1     sweing  Thursday                   0.80  26.16   \n",
              "1  TRAIN_0001  Quarter1  finishing  Thursday                   0.75   3.94   \n",
              "2  TRAIN_0002  Quarter1     sweing  Thursday                   0.80  11.41   \n",
              "3  TRAIN_0003  Quarter1     sweing  Thursday                   0.80  11.41   \n",
              "4  TRAIN_0004  Quarter1     sweing  Thursday                   0.80  25.90   \n",
              "\n",
              "    wip  over_time  incentive  idle_time  idle_men  no_of_style_change  \\\n",
              "0  1108    0.27315         98          0         0                   0   \n",
              "1  1190    0.03704          0          0         0                   0   \n",
              "2   968    0.14120         50          0         0                   0   \n",
              "3   968    0.14120         50          0         0                   0   \n",
              "4  1170    0.07407         50          0         0                   0   \n",
              "\n",
              "   no_of_workers  actual_productivity  \n",
              "0             59              0.94073  \n",
              "1              8              0.88650  \n",
              "2             30              0.80057  \n",
              "3             30              0.80057  \n",
              "4             56              0.80038  "
            ],
            "text/html": [
              "\n",
              "  <div id=\"df-925292f5-6fe5-4364-97df-8e3f8e74ab48\">\n",
              "    <div class=\"colab-df-container\">\n",
              "      <div>\n",
              "<style scoped>\n",
              "    .dataframe tbody tr th:only-of-type {\n",
              "        vertical-align: middle;\n",
              "    }\n",
              "\n",
              "    .dataframe tbody tr th {\n",
              "        vertical-align: top;\n",
              "    }\n",
              "\n",
              "    .dataframe thead th {\n",
              "        text-align: right;\n",
              "    }\n",
              "</style>\n",
              "<table border=\"1\" class=\"dataframe\">\n",
              "  <thead>\n",
              "    <tr style=\"text-align: right;\">\n",
              "      <th></th>\n",
              "      <th>ID</th>\n",
              "      <th>quarter</th>\n",
              "      <th>department</th>\n",
              "      <th>day</th>\n",
              "      <th>targeted_productivity</th>\n",
              "      <th>smv</th>\n",
              "      <th>wip</th>\n",
              "      <th>over_time</th>\n",
              "      <th>incentive</th>\n",
              "      <th>idle_time</th>\n",
              "      <th>idle_men</th>\n",
              "      <th>no_of_style_change</th>\n",
              "      <th>no_of_workers</th>\n",
              "      <th>actual_productivity</th>\n",
              "    </tr>\n",
              "  </thead>\n",
              "  <tbody>\n",
              "    <tr>\n",
              "      <th>0</th>\n",
              "      <td>TRAIN_0000</td>\n",
              "      <td>Quarter1</td>\n",
              "      <td>sweing</td>\n",
              "      <td>Thursday</td>\n",
              "      <td>0.80</td>\n",
              "      <td>26.16</td>\n",
              "      <td>1108</td>\n",
              "      <td>0.27315</td>\n",
              "      <td>98</td>\n",
              "      <td>0</td>\n",
              "      <td>0</td>\n",
              "      <td>0</td>\n",
              "      <td>59</td>\n",
              "      <td>0.94073</td>\n",
              "    </tr>\n",
              "    <tr>\n",
              "      <th>1</th>\n",
              "      <td>TRAIN_0001</td>\n",
              "      <td>Quarter1</td>\n",
              "      <td>finishing</td>\n",
              "      <td>Thursday</td>\n",
              "      <td>0.75</td>\n",
              "      <td>3.94</td>\n",
              "      <td>1190</td>\n",
              "      <td>0.03704</td>\n",
              "      <td>0</td>\n",
              "      <td>0</td>\n",
              "      <td>0</td>\n",
              "      <td>0</td>\n",
              "      <td>8</td>\n",
              "      <td>0.88650</td>\n",
              "    </tr>\n",
              "    <tr>\n",
              "      <th>2</th>\n",
              "      <td>TRAIN_0002</td>\n",
              "      <td>Quarter1</td>\n",
              "      <td>sweing</td>\n",
              "      <td>Thursday</td>\n",
              "      <td>0.80</td>\n",
              "      <td>11.41</td>\n",
              "      <td>968</td>\n",
              "      <td>0.14120</td>\n",
              "      <td>50</td>\n",
              "      <td>0</td>\n",
              "      <td>0</td>\n",
              "      <td>0</td>\n",
              "      <td>30</td>\n",
              "      <td>0.80057</td>\n",
              "    </tr>\n",
              "    <tr>\n",
              "      <th>3</th>\n",
              "      <td>TRAIN_0003</td>\n",
              "      <td>Quarter1</td>\n",
              "      <td>sweing</td>\n",
              "      <td>Thursday</td>\n",
              "      <td>0.80</td>\n",
              "      <td>11.41</td>\n",
              "      <td>968</td>\n",
              "      <td>0.14120</td>\n",
              "      <td>50</td>\n",
              "      <td>0</td>\n",
              "      <td>0</td>\n",
              "      <td>0</td>\n",
              "      <td>30</td>\n",
              "      <td>0.80057</td>\n",
              "    </tr>\n",
              "    <tr>\n",
              "      <th>4</th>\n",
              "      <td>TRAIN_0004</td>\n",
              "      <td>Quarter1</td>\n",
              "      <td>sweing</td>\n",
              "      <td>Thursday</td>\n",
              "      <td>0.80</td>\n",
              "      <td>25.90</td>\n",
              "      <td>1170</td>\n",
              "      <td>0.07407</td>\n",
              "      <td>50</td>\n",
              "      <td>0</td>\n",
              "      <td>0</td>\n",
              "      <td>0</td>\n",
              "      <td>56</td>\n",
              "      <td>0.80038</td>\n",
              "    </tr>\n",
              "  </tbody>\n",
              "</table>\n",
              "</div>\n",
              "      <button class=\"colab-df-convert\" onclick=\"convertToInteractive('df-925292f5-6fe5-4364-97df-8e3f8e74ab48')\"\n",
              "              title=\"Convert this dataframe to an interactive table.\"\n",
              "              style=\"display:none;\">\n",
              "        \n",
              "  <svg xmlns=\"http://www.w3.org/2000/svg\" height=\"24px\"viewBox=\"0 0 24 24\"\n",
              "       width=\"24px\">\n",
              "    <path d=\"M0 0h24v24H0V0z\" fill=\"none\"/>\n",
              "    <path d=\"M18.56 5.44l.94 2.06.94-2.06 2.06-.94-2.06-.94-.94-2.06-.94 2.06-2.06.94zm-11 1L8.5 8.5l.94-2.06 2.06-.94-2.06-.94L8.5 2.5l-.94 2.06-2.06.94zm10 10l.94 2.06.94-2.06 2.06-.94-2.06-.94-.94-2.06-.94 2.06-2.06.94z\"/><path d=\"M17.41 7.96l-1.37-1.37c-.4-.4-.92-.59-1.43-.59-.52 0-1.04.2-1.43.59L10.3 9.45l-7.72 7.72c-.78.78-.78 2.05 0 2.83L4 21.41c.39.39.9.59 1.41.59.51 0 1.02-.2 1.41-.59l7.78-7.78 2.81-2.81c.8-.78.8-2.07 0-2.86zM5.41 20L4 18.59l7.72-7.72 1.47 1.35L5.41 20z\"/>\n",
              "  </svg>\n",
              "      </button>\n",
              "      \n",
              "  <style>\n",
              "    .colab-df-container {\n",
              "      display:flex;\n",
              "      flex-wrap:wrap;\n",
              "      gap: 12px;\n",
              "    }\n",
              "\n",
              "    .colab-df-convert {\n",
              "      background-color: #E8F0FE;\n",
              "      border: none;\n",
              "      border-radius: 50%;\n",
              "      cursor: pointer;\n",
              "      display: none;\n",
              "      fill: #1967D2;\n",
              "      height: 32px;\n",
              "      padding: 0 0 0 0;\n",
              "      width: 32px;\n",
              "    }\n",
              "\n",
              "    .colab-df-convert:hover {\n",
              "      background-color: #E2EBFA;\n",
              "      box-shadow: 0px 1px 2px rgba(60, 64, 67, 0.3), 0px 1px 3px 1px rgba(60, 64, 67, 0.15);\n",
              "      fill: #174EA6;\n",
              "    }\n",
              "\n",
              "    [theme=dark] .colab-df-convert {\n",
              "      background-color: #3B4455;\n",
              "      fill: #D2E3FC;\n",
              "    }\n",
              "\n",
              "    [theme=dark] .colab-df-convert:hover {\n",
              "      background-color: #434B5C;\n",
              "      box-shadow: 0px 1px 3px 1px rgba(0, 0, 0, 0.15);\n",
              "      filter: drop-shadow(0px 1px 2px rgba(0, 0, 0, 0.3));\n",
              "      fill: #FFFFFF;\n",
              "    }\n",
              "  </style>\n",
              "\n",
              "      <script>\n",
              "        const buttonEl =\n",
              "          document.querySelector('#df-925292f5-6fe5-4364-97df-8e3f8e74ab48 button.colab-df-convert');\n",
              "        buttonEl.style.display =\n",
              "          google.colab.kernel.accessAllowed ? 'block' : 'none';\n",
              "\n",
              "        async function convertToInteractive(key) {\n",
              "          const element = document.querySelector('#df-925292f5-6fe5-4364-97df-8e3f8e74ab48');\n",
              "          const dataTable =\n",
              "            await google.colab.kernel.invokeFunction('convertToInteractive',\n",
              "                                                     [key], {});\n",
              "          if (!dataTable) return;\n",
              "\n",
              "          const docLinkHtml = 'Like what you see? Visit the ' +\n",
              "            '<a target=\"_blank\" href=https://colab.research.google.com/notebooks/data_table.ipynb>data table notebook</a>'\n",
              "            + ' to learn more about interactive tables.';\n",
              "          element.innerHTML = '';\n",
              "          dataTable['output_type'] = 'display_data';\n",
              "          await google.colab.output.renderOutput(dataTable, element);\n",
              "          const docLink = document.createElement('div');\n",
              "          docLink.innerHTML = docLinkHtml;\n",
              "          element.appendChild(docLink);\n",
              "        }\n",
              "      </script>\n",
              "    </div>\n",
              "  </div>\n",
              "  "
            ]
          },
          "metadata": {},
          "execution_count": 8
        }
      ]
    },
    {
      "cell_type": "code",
      "source": [
        "# test data\n",
        "print(test.shape)\n",
        "print(test.columns)\n",
        "test.head()"
      ],
      "metadata": {
        "colab": {
          "base_uri": "https://localhost:8080/",
          "height": 361
        },
        "id": "lwYeZYuw7uM5",
        "outputId": "01b6b83e-d7b9-4ec9-b7b8-c3b9e69dc883"
      },
      "execution_count": null,
      "outputs": [
        {
          "output_type": "stream",
          "name": "stdout",
          "text": [
            "(818, 12)\n",
            "Index(['quarter', 'department', 'day', 'targeted_productivity', 'smv', 'wip',\n",
            "       'over_time', 'incentive', 'idle_time', 'idle_men', 'no_of_style_change',\n",
            "       'no_of_workers'],\n",
            "      dtype='object')\n"
          ]
        },
        {
          "output_type": "execute_result",
          "data": {
            "text/plain": [
              "    quarter department       day  targeted_productivity       smv   wip  \\\n",
              "0  Quarter2     sweing    Sunday                0.58792  37.82119   732   \n",
              "1  Quarter1     sweing    Sunday                0.70000  37.88145   710   \n",
              "2  Quarter2     sweing  Thursday                0.63145  38.49087   722   \n",
              "3  Quarter2     sweing    Sunday                0.61823  39.06224   729   \n",
              "4  Quarter2  finishing    Sunday                0.64060   3.91624  1190   \n",
              "\n",
              "   over_time  incentive  idle_time  idle_men  no_of_style_change  \\\n",
              "0    0.39583          7          0         0                   0   \n",
              "1    0.35666          0          0         0                   0   \n",
              "2    0.39515          4          0         0                   0   \n",
              "3    0.39583          5          0         0                   0   \n",
              "4    0.04456          0          0         0                   0   \n",
              "\n",
              "   no_of_workers  \n",
              "0             57  \n",
              "1             57  \n",
              "2             56  \n",
              "3             57  \n",
              "4              8  "
            ],
            "text/html": [
              "\n",
              "  <div id=\"df-e664e130-06d3-4707-ba1a-3fcd7d81328a\">\n",
              "    <div class=\"colab-df-container\">\n",
              "      <div>\n",
              "<style scoped>\n",
              "    .dataframe tbody tr th:only-of-type {\n",
              "        vertical-align: middle;\n",
              "    }\n",
              "\n",
              "    .dataframe tbody tr th {\n",
              "        vertical-align: top;\n",
              "    }\n",
              "\n",
              "    .dataframe thead th {\n",
              "        text-align: right;\n",
              "    }\n",
              "</style>\n",
              "<table border=\"1\" class=\"dataframe\">\n",
              "  <thead>\n",
              "    <tr style=\"text-align: right;\">\n",
              "      <th></th>\n",
              "      <th>quarter</th>\n",
              "      <th>department</th>\n",
              "      <th>day</th>\n",
              "      <th>targeted_productivity</th>\n",
              "      <th>smv</th>\n",
              "      <th>wip</th>\n",
              "      <th>over_time</th>\n",
              "      <th>incentive</th>\n",
              "      <th>idle_time</th>\n",
              "      <th>idle_men</th>\n",
              "      <th>no_of_style_change</th>\n",
              "      <th>no_of_workers</th>\n",
              "    </tr>\n",
              "  </thead>\n",
              "  <tbody>\n",
              "    <tr>\n",
              "      <th>0</th>\n",
              "      <td>Quarter2</td>\n",
              "      <td>sweing</td>\n",
              "      <td>Sunday</td>\n",
              "      <td>0.58792</td>\n",
              "      <td>37.82119</td>\n",
              "      <td>732</td>\n",
              "      <td>0.39583</td>\n",
              "      <td>7</td>\n",
              "      <td>0</td>\n",
              "      <td>0</td>\n",
              "      <td>0</td>\n",
              "      <td>57</td>\n",
              "    </tr>\n",
              "    <tr>\n",
              "      <th>1</th>\n",
              "      <td>Quarter1</td>\n",
              "      <td>sweing</td>\n",
              "      <td>Sunday</td>\n",
              "      <td>0.70000</td>\n",
              "      <td>37.88145</td>\n",
              "      <td>710</td>\n",
              "      <td>0.35666</td>\n",
              "      <td>0</td>\n",
              "      <td>0</td>\n",
              "      <td>0</td>\n",
              "      <td>0</td>\n",
              "      <td>57</td>\n",
              "    </tr>\n",
              "    <tr>\n",
              "      <th>2</th>\n",
              "      <td>Quarter2</td>\n",
              "      <td>sweing</td>\n",
              "      <td>Thursday</td>\n",
              "      <td>0.63145</td>\n",
              "      <td>38.49087</td>\n",
              "      <td>722</td>\n",
              "      <td>0.39515</td>\n",
              "      <td>4</td>\n",
              "      <td>0</td>\n",
              "      <td>0</td>\n",
              "      <td>0</td>\n",
              "      <td>56</td>\n",
              "    </tr>\n",
              "    <tr>\n",
              "      <th>3</th>\n",
              "      <td>Quarter2</td>\n",
              "      <td>sweing</td>\n",
              "      <td>Sunday</td>\n",
              "      <td>0.61823</td>\n",
              "      <td>39.06224</td>\n",
              "      <td>729</td>\n",
              "      <td>0.39583</td>\n",
              "      <td>5</td>\n",
              "      <td>0</td>\n",
              "      <td>0</td>\n",
              "      <td>0</td>\n",
              "      <td>57</td>\n",
              "    </tr>\n",
              "    <tr>\n",
              "      <th>4</th>\n",
              "      <td>Quarter2</td>\n",
              "      <td>finishing</td>\n",
              "      <td>Sunday</td>\n",
              "      <td>0.64060</td>\n",
              "      <td>3.91624</td>\n",
              "      <td>1190</td>\n",
              "      <td>0.04456</td>\n",
              "      <td>0</td>\n",
              "      <td>0</td>\n",
              "      <td>0</td>\n",
              "      <td>0</td>\n",
              "      <td>8</td>\n",
              "    </tr>\n",
              "  </tbody>\n",
              "</table>\n",
              "</div>\n",
              "      <button class=\"colab-df-convert\" onclick=\"convertToInteractive('df-e664e130-06d3-4707-ba1a-3fcd7d81328a')\"\n",
              "              title=\"Convert this dataframe to an interactive table.\"\n",
              "              style=\"display:none;\">\n",
              "        \n",
              "  <svg xmlns=\"http://www.w3.org/2000/svg\" height=\"24px\"viewBox=\"0 0 24 24\"\n",
              "       width=\"24px\">\n",
              "    <path d=\"M0 0h24v24H0V0z\" fill=\"none\"/>\n",
              "    <path d=\"M18.56 5.44l.94 2.06.94-2.06 2.06-.94-2.06-.94-.94-2.06-.94 2.06-2.06.94zm-11 1L8.5 8.5l.94-2.06 2.06-.94-2.06-.94L8.5 2.5l-.94 2.06-2.06.94zm10 10l.94 2.06.94-2.06 2.06-.94-2.06-.94-.94-2.06-.94 2.06-2.06.94z\"/><path d=\"M17.41 7.96l-1.37-1.37c-.4-.4-.92-.59-1.43-.59-.52 0-1.04.2-1.43.59L10.3 9.45l-7.72 7.72c-.78.78-.78 2.05 0 2.83L4 21.41c.39.39.9.59 1.41.59.51 0 1.02-.2 1.41-.59l7.78-7.78 2.81-2.81c.8-.78.8-2.07 0-2.86zM5.41 20L4 18.59l7.72-7.72 1.47 1.35L5.41 20z\"/>\n",
              "  </svg>\n",
              "      </button>\n",
              "      \n",
              "  <style>\n",
              "    .colab-df-container {\n",
              "      display:flex;\n",
              "      flex-wrap:wrap;\n",
              "      gap: 12px;\n",
              "    }\n",
              "\n",
              "    .colab-df-convert {\n",
              "      background-color: #E8F0FE;\n",
              "      border: none;\n",
              "      border-radius: 50%;\n",
              "      cursor: pointer;\n",
              "      display: none;\n",
              "      fill: #1967D2;\n",
              "      height: 32px;\n",
              "      padding: 0 0 0 0;\n",
              "      width: 32px;\n",
              "    }\n",
              "\n",
              "    .colab-df-convert:hover {\n",
              "      background-color: #E2EBFA;\n",
              "      box-shadow: 0px 1px 2px rgba(60, 64, 67, 0.3), 0px 1px 3px 1px rgba(60, 64, 67, 0.15);\n",
              "      fill: #174EA6;\n",
              "    }\n",
              "\n",
              "    [theme=dark] .colab-df-convert {\n",
              "      background-color: #3B4455;\n",
              "      fill: #D2E3FC;\n",
              "    }\n",
              "\n",
              "    [theme=dark] .colab-df-convert:hover {\n",
              "      background-color: #434B5C;\n",
              "      box-shadow: 0px 1px 3px 1px rgba(0, 0, 0, 0.15);\n",
              "      filter: drop-shadow(0px 1px 2px rgba(0, 0, 0, 0.3));\n",
              "      fill: #FFFFFF;\n",
              "    }\n",
              "  </style>\n",
              "\n",
              "      <script>\n",
              "        const buttonEl =\n",
              "          document.querySelector('#df-e664e130-06d3-4707-ba1a-3fcd7d81328a button.colab-df-convert');\n",
              "        buttonEl.style.display =\n",
              "          google.colab.kernel.accessAllowed ? 'block' : 'none';\n",
              "\n",
              "        async function convertToInteractive(key) {\n",
              "          const element = document.querySelector('#df-e664e130-06d3-4707-ba1a-3fcd7d81328a');\n",
              "          const dataTable =\n",
              "            await google.colab.kernel.invokeFunction('convertToInteractive',\n",
              "                                                     [key], {});\n",
              "          if (!dataTable) return;\n",
              "\n",
              "          const docLinkHtml = 'Like what you see? Visit the ' +\n",
              "            '<a target=\"_blank\" href=https://colab.research.google.com/notebooks/data_table.ipynb>data table notebook</a>'\n",
              "            + ' to learn more about interactive tables.';\n",
              "          element.innerHTML = '';\n",
              "          dataTable['output_type'] = 'display_data';\n",
              "          await google.colab.output.renderOutput(dataTable, element);\n",
              "          const docLink = document.createElement('div');\n",
              "          docLink.innerHTML = docLinkHtml;\n",
              "          element.appendChild(docLink);\n",
              "        }\n",
              "      </script>\n",
              "    </div>\n",
              "  </div>\n",
              "  "
            ]
          },
          "metadata": {},
          "execution_count": 9
        }
      ]
    },
    {
      "cell_type": "code",
      "source": [
        "# Check duplicate\n",
        "print(sum(train.duplicated()))\n",
        "print(sum(test.duplicated()))"
      ],
      "metadata": {
        "colab": {
          "base_uri": "https://localhost:8080/"
        },
        "id": "uMuWk-SD79p3",
        "outputId": "d87037d8-49dc-44c1-9486-44f18a1faace"
      },
      "execution_count": null,
      "outputs": [
        {
          "output_type": "stream",
          "name": "stdout",
          "text": [
            "0\n",
            "7\n"
          ]
        }
      ]
    },
    {
      "cell_type": "code",
      "source": [
        "# Check Na\n",
        "train.info()"
      ],
      "metadata": {
        "colab": {
          "base_uri": "https://localhost:8080/"
        },
        "id": "8_VjRDCf9aIc",
        "outputId": "4d55ebb5-37bd-4f89-9d67-8a32cfe3e50e"
      },
      "execution_count": null,
      "outputs": [
        {
          "output_type": "stream",
          "name": "stdout",
          "text": [
            "<class 'pandas.core.frame.DataFrame'>\n",
            "RangeIndex: 1197 entries, 0 to 1196\n",
            "Data columns (total 14 columns):\n",
            " #   Column                 Non-Null Count  Dtype  \n",
            "---  ------                 --------------  -----  \n",
            " 0   ID                     1197 non-null   object \n",
            " 1   quarter                1197 non-null   object \n",
            " 2   department             1197 non-null   object \n",
            " 3   day                    1197 non-null   object \n",
            " 4   targeted_productivity  1197 non-null   float64\n",
            " 5   smv                    1197 non-null   float64\n",
            " 6   wip                    1197 non-null   int64  \n",
            " 7   over_time              1197 non-null   float64\n",
            " 8   incentive              1197 non-null   int64  \n",
            " 9   idle_time              1197 non-null   int64  \n",
            " 10  idle_men               1197 non-null   int64  \n",
            " 11  no_of_style_change     1197 non-null   int64  \n",
            " 12  no_of_workers          1197 non-null   int64  \n",
            " 13  actual_productivity    1197 non-null   float64\n",
            "dtypes: float64(4), int64(6), object(4)\n",
            "memory usage: 131.0+ KB\n"
          ]
        }
      ]
    },
    {
      "cell_type": "code",
      "source": [
        "train.isna().sum()"
      ],
      "metadata": {
        "colab": {
          "base_uri": "https://localhost:8080/"
        },
        "id": "30SrT2c79ifQ",
        "outputId": "55bd2dba-682a-4afc-e194-948ecd448e81"
      },
      "execution_count": null,
      "outputs": [
        {
          "output_type": "execute_result",
          "data": {
            "text/plain": [
              "ID                       0\n",
              "quarter                  0\n",
              "department               0\n",
              "day                      0\n",
              "targeted_productivity    0\n",
              "smv                      0\n",
              "wip                      0\n",
              "over_time                0\n",
              "incentive                0\n",
              "idle_time                0\n",
              "idle_men                 0\n",
              "no_of_style_change       0\n",
              "no_of_workers            0\n",
              "actual_productivity      0\n",
              "dtype: int64"
            ]
          },
          "metadata": {},
          "execution_count": 12
        }
      ]
    },
    {
      "cell_type": "code",
      "source": [
        "test.isna().sum()"
      ],
      "metadata": {
        "colab": {
          "base_uri": "https://localhost:8080/"
        },
        "id": "tdIJVWCY9kGY",
        "outputId": "4e10192e-853f-46af-ad02-f139e98dc4e9"
      },
      "execution_count": null,
      "outputs": [
        {
          "output_type": "execute_result",
          "data": {
            "text/plain": [
              "quarter                  0\n",
              "department               0\n",
              "day                      0\n",
              "targeted_productivity    0\n",
              "smv                      0\n",
              "wip                      0\n",
              "over_time                0\n",
              "incentive                0\n",
              "idle_time                0\n",
              "idle_men                 0\n",
              "no_of_style_change       0\n",
              "no_of_workers            0\n",
              "dtype: int64"
            ]
          },
          "metadata": {},
          "execution_count": 13
        }
      ]
    },
    {
      "cell_type": "markdown",
      "source": [
        "## EDA"
      ],
      "metadata": {
        "id": "SUlo_sSL-dPK"
      }
    },
    {
      "cell_type": "code",
      "source": [
        "# x는 나머지 feature, y는 target 고정\n",
        "target = 'actual_productivity'\n",
        "train[target]"
      ],
      "metadata": {
        "colab": {
          "base_uri": "https://localhost:8080/"
        },
        "id": "2m_DQOZrEyiA",
        "outputId": "ed512548-5cf6-4b42-8b29-2f02f6baccee"
      },
      "execution_count": null,
      "outputs": [
        {
          "output_type": "execute_result",
          "data": {
            "text/plain": [
              "0       0.94073\n",
              "1       0.88650\n",
              "2       0.80057\n",
              "3       0.80057\n",
              "4       0.80038\n",
              "         ...   \n",
              "1192    0.62833\n",
              "1193    0.62562\n",
              "1194    0.62562\n",
              "1195    0.50589\n",
              "1196    0.39472\n",
              "Name: actual_productivity, Length: 1197, dtype: float64"
            ]
          },
          "metadata": {},
          "execution_count": 14
        }
      ]
    },
    {
      "cell_type": "code",
      "source": [
        "_ = plt.hist(train.actual_productivity, 10)"
      ],
      "metadata": {
        "colab": {
          "base_uri": "https://localhost:8080/"
        },
        "id": "xDsTqbUZFZM2",
        "outputId": "d38455a1-03cd-49d2-d8d2-d4fa09434fa4"
      },
      "execution_count": null,
      "outputs": [
        {
          "output_type": "stream",
          "name": "stderr",
          "text": [
            "WARNING:matplotlib.font_manager:findfont: Font family ['NanumBarunGothic'] not found. Falling back to DejaVu Sans.\n"
          ]
        },
        {
          "output_type": "display_data",
          "data": {
            "text/plain": [
              "<Figure size 432x288 with 1 Axes>"
            ],
            "image/png": "[encoded data removed]"
          },
          "metadata": {}
        }
      ]
    },
    {
      "cell_type": "code",
      "source": [
        "train.groupby('department').sum()[target]"
      ],
      "metadata": {
        "colab": {
          "base_uri": "https://localhost:8080/"
        },
        "id": "4upaRsLEFr5B",
        "outputId": "3afd0b49-516e-4cf8-b8c6-a05b15086989"
      },
      "execution_count": null,
      "outputs": [
        {
          "output_type": "execute_result",
          "data": {
            "text/plain": [
              "department\n",
              "finishing    380.99299\n",
              "sweing       498.91090\n",
              "Name: actual_productivity, dtype: float64"
            ]
          },
          "metadata": {},
          "execution_count": 16
        }
      ]
    },
    {
      "cell_type": "code",
      "source": [
        "_ = train[train.department=='finishing'][target].sort_values().reset_index(drop = True).plot()\n",
        "_ = train[train.department=='sweing'][target].sort_values().reset_index(drop = True).plot()\n",
        "\n",
        "_ = plt.title('부서별 실 생산성')\n",
        "_ = plt.legend(['finishing', 'sweing'])"
      ],
      "metadata": {
        "colab": {
          "base_uri": "https://localhost:8080/"
        },
        "id": "aBvpb3sSFt3n",
        "outputId": "142651a0-cddf-464f-9eac-5c67d1db071f"
      },
      "execution_count": null,
      "outputs": [
        {
          "output_type": "stream",
          "name": "stderr",
          "text": [
            "WARNING:matplotlib.font_manager:findfont: Font family ['NanumBarunGothic'] not found. Falling back to DejaVu Sans.\n"
          ]
        },
        {
          "output_type": "display_data",
          "data": {
            "text/plain": [
              "<Figure size 432x288 with 1 Axes>"
            ],
            "image/png": "[encoded data removed]"
          },
          "metadata": {}
        }
      ]
    },
    {
      "cell_type": "code",
      "source": [
        "def vibox(var): # 양적변수\n",
        "    _ = plt.figure(figsize = (5, 8))\n",
        "    _ = plt.violinplot(var, data = train)\n",
        "    _ = plt.boxplot(var, data = train)\n",
        "    _ = plt.title(f'{var} 이상치 및 분포')"
      ],
      "metadata": {
        "id": "0_BZatZ9Fw7i"
      },
      "execution_count": null,
      "outputs": []
    },
    {
      "cell_type": "code",
      "source": [
        "## for loop 밖에서 그림판 먼저 만들어주기\n",
        "fig = plt.figure(figsize = (15, 8))\n",
        "rows = 2\n",
        "cols = 5\n",
        "for enu,i in enumerate(train.columns[5:]):\n",
        "    ax = fig.add_subplot(rows, cols, enu+1)\n",
        "    # vibox(i)\n",
        "    _ = ax.violinplot(i, data = train)\n",
        "    _ = ax.boxplot(i, data = train)\n",
        "    _ = ax.set_title(i + '이상치 및 분포')\n",
        "plt.tight_layout()"
      ],
      "metadata": {
        "colab": {
          "base_uri": "https://localhost:8080/"
        },
        "id": "blACpnerF-E5",
        "outputId": "f9295e3d-e0fa-4ed4-8da4-c5073860d5b1"
      },
      "execution_count": null,
      "outputs": [
        {
          "output_type": "display_data",
          "data": {
            "text/plain": [
              "<Figure size 1080x576 with 9 Axes>"
            ],
            "image/png": "[encoded data removed]"
          },
          "metadata": {}
        }
      ]
    },
    {
      "cell_type": "markdown",
      "source": [
        "## Data Preprocessing"
      ],
      "metadata": {
        "id": "yw5cWa1XIXYi"
      }
    },
    {
      "cell_type": "code",
      "source": [
        "# NaN to mean\n",
        "train_wip_mean = np.mean(train_x[\"wip\"])\n",
        "train_x = train_x.replace({'wip': np.nan}, train_wip_mean)\n",
        "test_X = test.replace({'wip': np.nan}, train_wip_mean) # Test 'wip' 데이터의 평균으로 대체 시 Data Leakage이므로, Train 'wip' 데이터의 평균으로 결측치 대체합니다."
      ],
      "metadata": {
        "id": "c55FRGaOJlKD"
      },
      "execution_count": null,
      "outputs": []
    },
    {
      "cell_type": "code",
      "source": [
        "# Data Engineering\n",
        "from sklearn.preprocessing import LabelEncoder\n",
        "from sklearn.preprocessing import StandardScaler\n",
        "from scipy.stats import norm, skew"
      ],
      "metadata": {
        "id": "pH0ZoWTnfAJ9"
      },
      "execution_count": null,
      "outputs": []
    },
    {
      "cell_type": "code",
      "source": [
        "# qualitative to quantitative\n",
        "from sklearn.preprocessing import LabelEncoder\n",
        "\n",
        "qual_col = ['quarter','department','day']\n",
        "\n",
        "for i in qual_col:\n",
        "    le = LabelEncoder()\n",
        "    le = le.fit(train_x[i])\n",
        "    train_x[i] = le.transform(train_x[i])\n",
        "    \n",
        "    for label in np.unique(test[i]): \n",
        "        if label not in le.classes_: \n",
        "            le.classes_ = np.append(le.classes_, label)\n",
        "    # Label Encoder가 Test 데이터로부터 Fitting되는 것은 Data Leakage이므로, Test 데이터에는 Train 데이터로 Fitting된 Label Encoder로부터 transform만 수행되어야 합니다.\n",
        "    test[i] = le.transform(test[i]) \n",
        "print('Done.')"
      ],
      "metadata": {
        "colab": {
          "base_uri": "https://localhost:8080/"
        },
        "id": "z6KyoGL9J3l5",
        "outputId": "3653b34a-b195-4448-c7fd-c3363553cd73"
      },
      "execution_count": null,
      "outputs": [
        {
          "output_type": "stream",
          "name": "stdout",
          "text": [
            "Done.\n"
          ]
        }
      ]
    },
    {
      "cell_type": "markdown",
      "source": [
        "### 로그 변환"
      ],
      "metadata": {
        "id": "wKcGXEASjTaS"
      }
    },
    {
      "cell_type": "code",
      "source": [
        "# actual_productivity 의 분포 파악\n",
        "sns.distplot(train['actual_productivity'])"
      ],
      "metadata": {
        "colab": {
          "base_uri": "https://localhost:8080/",
          "height": 303
        },
        "id": "YdkJecpljJMo",
        "outputId": "4bfa972f-b606-4fa6-b5b3-3081a1452efc"
      },
      "execution_count": null,
      "outputs": [
        {
          "output_type": "execute_result",
          "data": {
            "text/plain": [
              "<matplotlib.axes._subplots.AxesSubplot at 0x7f07e86d1250>"
            ]
          },
          "metadata": {},
          "execution_count": 23
        },
        {
          "output_type": "display_data",
          "data": {
            "text/plain": [
              "<Figure size 432x288 with 1 Axes>"
            ],
            "image/png": "[encoded data removed]"
          },
          "metadata": {}
        }
      ]
    },
    {
      "cell_type": "code",
      "source": [
        "# 로그변환 후\n",
        "sns.distplot(np.log1p(train['actual_productivity']))"
      ],
      "metadata": {
        "colab": {
          "base_uri": "https://localhost:8080/",
          "height": 303
        },
        "id": "1n9fu762jSI2",
        "outputId": "a295ec31-399a-407e-a117-c93dce270489"
      },
      "execution_count": null,
      "outputs": [
        {
          "output_type": "execute_result",
          "data": {
            "text/plain": [
              "<matplotlib.axes._subplots.AxesSubplot at 0x7f07e85cd890>"
            ]
          },
          "metadata": {},
          "execution_count": 24
        },
        {
          "output_type": "display_data",
          "data": {
            "text/plain": [
              "<Figure size 432x288 with 1 Axes>"
            ],
            "image/png": "[encoded data removed]"
          },
          "metadata": {}
        }
      ]
    },
    {
      "cell_type": "code",
      "source": [
        "train['actual_productivity'] = np.log1p(train['actual_productivity'])\n",
        "\n",
        "display(train.head())"
      ],
      "metadata": {
        "colab": {
          "base_uri": "https://localhost:8080/",
          "height": 270
        },
        "id": "wuj9FBnwjbPC",
        "outputId": "5fbba051-4816-48ab-c4c4-bc0f252376c7"
      },
      "execution_count": null,
      "outputs": [
        {
          "output_type": "display_data",
          "data": {
            "text/plain": [
              "           ID   quarter department       day  targeted_productivity    smv  \\\n",
              "0  TRAIN_0000  Quarter1     sweing  Thursday                   0.80  26.16   \n",
              "1  TRAIN_0001  Quarter1  finishing  Thursday                   0.75   3.94   \n",
              "2  TRAIN_0002  Quarter1     sweing  Thursday                   0.80  11.41   \n",
              "3  TRAIN_0003  Quarter1     sweing  Thursday                   0.80  11.41   \n",
              "4  TRAIN_0004  Quarter1     sweing  Thursday                   0.80  25.90   \n",
              "\n",
              "    wip  over_time  incentive  idle_time  idle_men  no_of_style_change  \\\n",
              "0  1108    0.27315         98          0         0                   0   \n",
              "1  1190    0.03704          0          0         0                   0   \n",
              "2   968    0.14120         50          0         0                   0   \n",
              "3   968    0.14120         50          0         0                   0   \n",
              "4  1170    0.07407         50          0         0                   0   \n",
              "\n",
              "   no_of_workers  actual_productivity  \n",
              "0             59             0.663064  \n",
              "1              8             0.634723  \n",
              "2             30             0.588103  \n",
              "3             30             0.588103  \n",
              "4             56             0.587998  "
            ],
            "text/html": [
              "\n",
              "  <div id=\"df-7c3e6ce3-3ea7-49a2-a157-b03403e46687\">\n",
              "    <div class=\"colab-df-container\">\n",
              "      <div>\n",
              "<style scoped>\n",
              "    .dataframe tbody tr th:only-of-type {\n",
              "        vertical-align: middle;\n",
              "    }\n",
              "\n",
              "    .dataframe tbody tr th {\n",
              "        vertical-align: top;\n",
              "    }\n",
              "\n",
              "    .dataframe thead th {\n",
              "        text-align: right;\n",
              "    }\n",
              "</style>\n",
              "<table border=\"1\" class=\"dataframe\">\n",
              "  <thead>\n",
              "    <tr style=\"text-align: right;\">\n",
              "      <th></th>\n",
              "      <th>ID</th>\n",
              "      <th>quarter</th>\n",
              "      <th>department</th>\n",
              "      <th>day</th>\n",
              "      <th>targeted_productivity</th>\n",
              "      <th>smv</th>\n",
              "      <th>wip</th>\n",
              "      <th>over_time</th>\n",
              "      <th>incentive</th>\n",
              "      <th>idle_time</th>\n",
              "      <th>idle_men</th>\n",
              "      <th>no_of_style_change</th>\n",
              "      <th>no_of_workers</th>\n",
              "      <th>actual_productivity</th>\n",
              "    </tr>\n",
              "  </thead>\n",
              "  <tbody>\n",
              "    <tr>\n",
              "      <th>0</th>\n",
              "      <td>TRAIN_0000</td>\n",
              "      <td>Quarter1</td>\n",
              "      <td>sweing</td>\n",
              "      <td>Thursday</td>\n",
              "      <td>0.80</td>\n",
              "      <td>26.16</td>\n",
              "      <td>1108</td>\n",
              "      <td>0.27315</td>\n",
              "      <td>98</td>\n",
              "      <td>0</td>\n",
              "      <td>0</td>\n",
              "      <td>0</td>\n",
              "      <td>59</td>\n",
              "      <td>0.663064</td>\n",
              "    </tr>\n",
              "    <tr>\n",
              "      <th>1</th>\n",
              "      <td>TRAIN_0001</td>\n",
              "      <td>Quarter1</td>\n",
              "      <td>finishing</td>\n",
              "      <td>Thursday</td>\n",
              "      <td>0.75</td>\n",
              "      <td>3.94</td>\n",
              "      <td>1190</td>\n",
              "      <td>0.03704</td>\n",
              "      <td>0</td>\n",
              "      <td>0</td>\n",
              "      <td>0</td>\n",
              "      <td>0</td>\n",
              "      <td>8</td>\n",
              "      <td>0.634723</td>\n",
              "    </tr>\n",
              "    <tr>\n",
              "      <th>2</th>\n",
              "      <td>TRAIN_0002</td>\n",
              "      <td>Quarter1</td>\n",
              "      <td>sweing</td>\n",
              "      <td>Thursday</td>\n",
              "      <td>0.80</td>\n",
              "      <td>11.41</td>\n",
              "      <td>968</td>\n",
              "      <td>0.14120</td>\n",
              "      <td>50</td>\n",
              "      <td>0</td>\n",
              "      <td>0</td>\n",
              "      <td>0</td>\n",
              "      <td>30</td>\n",
              "      <td>0.588103</td>\n",
              "    </tr>\n",
              "    <tr>\n",
              "      <th>3</th>\n",
              "      <td>TRAIN_0003</td>\n",
              "      <td>Quarter1</td>\n",
              "      <td>sweing</td>\n",
              "      <td>Thursday</td>\n",
              "      <td>0.80</td>\n",
              "      <td>11.41</td>\n",
              "      <td>968</td>\n",
              "      <td>0.14120</td>\n",
              "      <td>50</td>\n",
              "      <td>0</td>\n",
              "      <td>0</td>\n",
              "      <td>0</td>\n",
              "      <td>30</td>\n",
              "      <td>0.588103</td>\n",
              "    </tr>\n",
              "    <tr>\n",
              "      <th>4</th>\n",
              "      <td>TRAIN_0004</td>\n",
              "      <td>Quarter1</td>\n",
              "      <td>sweing</td>\n",
              "      <td>Thursday</td>\n",
              "      <td>0.80</td>\n",
              "      <td>25.90</td>\n",
              "      <td>1170</td>\n",
              "      <td>0.07407</td>\n",
              "      <td>50</td>\n",
              "      <td>0</td>\n",
              "      <td>0</td>\n",
              "      <td>0</td>\n",
              "      <td>56</td>\n",
              "      <td>0.587998</td>\n",
              "    </tr>\n",
              "  </tbody>\n",
              "</table>\n",
              "</div>\n",
              "      <button class=\"colab-df-convert\" onclick=\"convertToInteractive('df-7c3e6ce3-3ea7-49a2-a157-b03403e46687')\"\n",
              "              title=\"Convert this dataframe to an interactive table.\"\n",
              "              style=\"display:none;\">\n",
              "        \n",
              "  <svg xmlns=\"http://www.w3.org/2000/svg\" height=\"24px\"viewBox=\"0 0 24 24\"\n",
              "       width=\"24px\">\n",
              "    <path d=\"M0 0h24v24H0V0z\" fill=\"none\"/>\n",
              "    <path d=\"M18.56 5.44l.94 2.06.94-2.06 2.06-.94-2.06-.94-.94-2.06-.94 2.06-2.06.94zm-11 1L8.5 8.5l.94-2.06 2.06-.94-2.06-.94L8.5 2.5l-.94 2.06-2.06.94zm10 10l.94 2.06.94-2.06 2.06-.94-2.06-.94-.94-2.06-.94 2.06-2.06.94z\"/><path d=\"M17.41 7.96l-1.37-1.37c-.4-.4-.92-.59-1.43-.59-.52 0-1.04.2-1.43.59L10.3 9.45l-7.72 7.72c-.78.78-.78 2.05 0 2.83L4 21.41c.39.39.9.59 1.41.59.51 0 1.02-.2 1.41-.59l7.78-7.78 2.81-2.81c.8-.78.8-2.07 0-2.86zM5.41 20L4 18.59l7.72-7.72 1.47 1.35L5.41 20z\"/>\n",
              "  </svg>\n",
              "      </button>\n",
              "      \n",
              "  <style>\n",
              "    .colab-df-container {\n",
              "      display:flex;\n",
              "      flex-wrap:wrap;\n",
              "      gap: 12px;\n",
              "    }\n",
              "\n",
              "    .colab-df-convert {\n",
              "      background-color: #E8F0FE;\n",
              "      border: none;\n",
              "      border-radius: 50%;\n",
              "      cursor: pointer;\n",
              "      display: none;\n",
              "      fill: #1967D2;\n",
              "      height: 32px;\n",
              "      padding: 0 0 0 0;\n",
              "      width: 32px;\n",
              "    }\n",
              "\n",
              "    .colab-df-convert:hover {\n",
              "      background-color: #E2EBFA;\n",
              "      box-shadow: 0px 1px 2px rgba(60, 64, 67, 0.3), 0px 1px 3px 1px rgba(60, 64, 67, 0.15);\n",
              "      fill: #174EA6;\n",
              "    }\n",
              "\n",
              "    [theme=dark] .colab-df-convert {\n",
              "      background-color: #3B4455;\n",
              "      fill: #D2E3FC;\n",
              "    }\n",
              "\n",
              "    [theme=dark] .colab-df-convert:hover {\n",
              "      background-color: #434B5C;\n",
              "      box-shadow: 0px 1px 3px 1px rgba(0, 0, 0, 0.15);\n",
              "      filter: drop-shadow(0px 1px 2px rgba(0, 0, 0, 0.3));\n",
              "      fill: #FFFFFF;\n",
              "    }\n",
              "  </style>\n",
              "\n",
              "      <script>\n",
              "        const buttonEl =\n",
              "          document.querySelector('#df-7c3e6ce3-3ea7-49a2-a157-b03403e46687 button.colab-df-convert');\n",
              "        buttonEl.style.display =\n",
              "          google.colab.kernel.accessAllowed ? 'block' : 'none';\n",
              "\n",
              "        async function convertToInteractive(key) {\n",
              "          const element = document.querySelector('#df-7c3e6ce3-3ea7-49a2-a157-b03403e46687');\n",
              "          const dataTable =\n",
              "            await google.colab.kernel.invokeFunction('convertToInteractive',\n",
              "                                                     [key], {});\n",
              "          if (!dataTable) return;\n",
              "\n",
              "          const docLinkHtml = 'Like what you see? Visit the ' +\n",
              "            '<a target=\"_blank\" href=https://colab.research.google.com/notebooks/data_table.ipynb>data table notebook</a>'\n",
              "            + ' to learn more about interactive tables.';\n",
              "          element.innerHTML = '';\n",
              "          dataTable['output_type'] = 'display_data';\n",
              "          await google.colab.output.renderOutput(dataTable, element);\n",
              "          const docLink = document.createElement('div');\n",
              "          docLink.innerHTML = docLinkHtml;\n",
              "          element.appendChild(docLink);\n",
              "        }\n",
              "      </script>\n",
              "    </div>\n",
              "  </div>\n",
              "  "
            ]
          },
          "metadata": {}
        }
      ]
    },
    {
      "cell_type": "code",
      "source": [
        "numeric_feats = train_x.dtypes[train_x.dtypes != \"object\"].index\n",
        "skewed_feats = train_x[numeric_feats].apply(lambda x: skew(x.dropna())).sort_values(ascending=False)\n",
        "print(\"\\nSkew in numerical features: \\n\")\n",
        "skewness = pd.DataFrame({'Skew' :skewed_feats})\n",
        "skewness"
      ],
      "metadata": {
        "colab": {
          "base_uri": "https://localhost:8080/",
          "height": 480
        },
        "id": "-rISBCg9fBs0",
        "outputId": "a74b2707-e88f-4e98-f0b2-4eb42e7614ba"
      },
      "execution_count": null,
      "outputs": [
        {
          "output_type": "stream",
          "name": "stdout",
          "text": [
            "\n",
            "Skew in numerical features: \n",
            "\n"
          ]
        },
        {
          "output_type": "execute_result",
          "data": {
            "text/plain": [
              "                            Skew\n",
              "idle_time              20.523423\n",
              "incentive              15.770951\n",
              "wip                    12.794304\n",
              "idle_men                9.842725\n",
              "no_of_style_change      2.938817\n",
              "over_time               0.672453\n",
              "smv                     0.405428\n",
              "quarter                 0.385998\n",
              "day                    -0.029600\n",
              "no_of_workers          -0.110826\n",
              "department             -0.312865\n",
              "targeted_productivity  -2.141462"
            ],
            "text/html": [
              "\n",
              "  <div id=\"df-2cd6987a-5a52-40e4-8719-4c6f25944107\">\n",
              "    <div class=\"colab-df-container\">\n",
              "      <div>\n",
              "<style scoped>\n",
              "    .dataframe tbody tr th:only-of-type {\n",
              "        vertical-align: middle;\n",
              "    }\n",
              "\n",
              "    .dataframe tbody tr th {\n",
              "        vertical-align: top;\n",
              "    }\n",
              "\n",
              "    .dataframe thead th {\n",
              "        text-align: right;\n",
              "    }\n",
              "</style>\n",
              "<table border=\"1\" class=\"dataframe\">\n",
              "  <thead>\n",
              "    <tr style=\"text-align: right;\">\n",
              "      <th></th>\n",
              "      <th>Skew</th>\n",
              "    </tr>\n",
              "  </thead>\n",
              "  <tbody>\n",
              "    <tr>\n",
              "      <th>idle_time</th>\n",
              "      <td>20.523423</td>\n",
              "    </tr>\n",
              "    <tr>\n",
              "      <th>incentive</th>\n",
              "      <td>15.770951</td>\n",
              "    </tr>\n",
              "    <tr>\n",
              "      <th>wip</th>\n",
              "      <td>12.794304</td>\n",
              "    </tr>\n",
              "    <tr>\n",
              "      <th>idle_men</th>\n",
              "      <td>9.842725</td>\n",
              "    </tr>\n",
              "    <tr>\n",
              "      <th>no_of_style_change</th>\n",
              "      <td>2.938817</td>\n",
              "    </tr>\n",
              "    <tr>\n",
              "      <th>over_time</th>\n",
              "      <td>0.672453</td>\n",
              "    </tr>\n",
              "    <tr>\n",
              "      <th>smv</th>\n",
              "      <td>0.405428</td>\n",
              "    </tr>\n",
              "    <tr>\n",
              "      <th>quarter</th>\n",
              "      <td>0.385998</td>\n",
              "    </tr>\n",
              "    <tr>\n",
              "      <th>day</th>\n",
              "      <td>-0.029600</td>\n",
              "    </tr>\n",
              "    <tr>\n",
              "      <th>no_of_workers</th>\n",
              "      <td>-0.110826</td>\n",
              "    </tr>\n",
              "    <tr>\n",
              "      <th>department</th>\n",
              "      <td>-0.312865</td>\n",
              "    </tr>\n",
              "    <tr>\n",
              "      <th>targeted_productivity</th>\n",
              "      <td>-2.141462</td>\n",
              "    </tr>\n",
              "  </tbody>\n",
              "</table>\n",
              "</div>\n",
              "      <button class=\"colab-df-convert\" onclick=\"convertToInteractive('df-2cd6987a-5a52-40e4-8719-4c6f25944107')\"\n",
              "              title=\"Convert this dataframe to an interactive table.\"\n",
              "              style=\"display:none;\">\n",
              "        \n",
              "  <svg xmlns=\"http://www.w3.org/2000/svg\" height=\"24px\"viewBox=\"0 0 24 24\"\n",
              "       width=\"24px\">\n",
              "    <path d=\"M0 0h24v24H0V0z\" fill=\"none\"/>\n",
              "    <path d=\"M18.56 5.44l.94 2.06.94-2.06 2.06-.94-2.06-.94-.94-2.06-.94 2.06-2.06.94zm-11 1L8.5 8.5l.94-2.06 2.06-.94-2.06-.94L8.5 2.5l-.94 2.06-2.06.94zm10 10l.94 2.06.94-2.06 2.06-.94-2.06-.94-.94-2.06-.94 2.06-2.06.94z\"/><path d=\"M17.41 7.96l-1.37-1.37c-.4-.4-.92-.59-1.43-.59-.52 0-1.04.2-1.43.59L10.3 9.45l-7.72 7.72c-.78.78-.78 2.05 0 2.83L4 21.41c.39.39.9.59 1.41.59.51 0 1.02-.2 1.41-.59l7.78-7.78 2.81-2.81c.8-.78.8-2.07 0-2.86zM5.41 20L4 18.59l7.72-7.72 1.47 1.35L5.41 20z\"/>\n",
              "  </svg>\n",
              "      </button>\n",
              "      \n",
              "  <style>\n",
              "    .colab-df-container {\n",
              "      display:flex;\n",
              "      flex-wrap:wrap;\n",
              "      gap: 12px;\n",
              "    }\n",
              "\n",
              "    .colab-df-convert {\n",
              "      background-color: #E8F0FE;\n",
              "      border: none;\n",
              "      border-radius: 50%;\n",
              "      cursor: pointer;\n",
              "      display: none;\n",
              "      fill: #1967D2;\n",
              "      height: 32px;\n",
              "      padding: 0 0 0 0;\n",
              "      width: 32px;\n",
              "    }\n",
              "\n",
              "    .colab-df-convert:hover {\n",
              "      background-color: #E2EBFA;\n",
              "      box-shadow: 0px 1px 2px rgba(60, 64, 67, 0.3), 0px 1px 3px 1px rgba(60, 64, 67, 0.15);\n",
              "      fill: #174EA6;\n",
              "    }\n",
              "\n",
              "    [theme=dark] .colab-df-convert {\n",
              "      background-color: #3B4455;\n",
              "      fill: #D2E3FC;\n",
              "    }\n",
              "\n",
              "    [theme=dark] .colab-df-convert:hover {\n",
              "      background-color: #434B5C;\n",
              "      box-shadow: 0px 1px 3px 1px rgba(0, 0, 0, 0.15);\n",
              "      filter: drop-shadow(0px 1px 2px rgba(0, 0, 0, 0.3));\n",
              "      fill: #FFFFFF;\n",
              "    }\n",
              "  </style>\n",
              "\n",
              "      <script>\n",
              "        const buttonEl =\n",
              "          document.querySelector('#df-2cd6987a-5a52-40e4-8719-4c6f25944107 button.colab-df-convert');\n",
              "        buttonEl.style.display =\n",
              "          google.colab.kernel.accessAllowed ? 'block' : 'none';\n",
              "\n",
              "        async function convertToInteractive(key) {\n",
              "          const element = document.querySelector('#df-2cd6987a-5a52-40e4-8719-4c6f25944107');\n",
              "          const dataTable =\n",
              "            await google.colab.kernel.invokeFunction('convertToInteractive',\n",
              "                                                     [key], {});\n",
              "          if (!dataTable) return;\n",
              "\n",
              "          const docLinkHtml = 'Like what you see? Visit the ' +\n",
              "            '<a target=\"_blank\" href=https://colab.research.google.com/notebooks/data_table.ipynb>data table notebook</a>'\n",
              "            + ' to learn more about interactive tables.';\n",
              "          element.innerHTML = '';\n",
              "          dataTable['output_type'] = 'display_data';\n",
              "          await google.colab.output.renderOutput(dataTable, element);\n",
              "          const docLink = document.createElement('div');\n",
              "          docLink.innerHTML = docLinkHtml;\n",
              "          element.appendChild(docLink);\n",
              "        }\n",
              "      </script>\n",
              "    </div>\n",
              "  </div>\n",
              "  "
            ]
          },
          "metadata": {},
          "execution_count": 26
        }
      ]
    },
    {
      "cell_type": "code",
      "source": [
        "# 이 중에서 원래 범주형 변수였으며 수치 간 범위가 적은 피처를 제외하고 확인 및 log화 진행\n",
        "skewness = skewness[abs(skewness)['Skew'] > 0.75]\n",
        "skewness"
      ],
      "metadata": {
        "colab": {
          "base_uri": "https://localhost:8080/",
          "height": 237
        },
        "id": "s-I8NW1tfmtL",
        "outputId": "568d0a45-fd58-4453-aaa6-2b151db9dea3"
      },
      "execution_count": null,
      "outputs": [
        {
          "output_type": "execute_result",
          "data": {
            "text/plain": [
              "                            Skew\n",
              "idle_time              20.523423\n",
              "incentive              15.770951\n",
              "wip                    12.794304\n",
              "idle_men                9.842725\n",
              "no_of_style_change      2.938817\n",
              "targeted_productivity  -2.141462"
            ],
            "text/html": [
              "\n",
              "  <div id=\"df-5cc7ea51-f862-4046-882b-80a9c3b36340\">\n",
              "    <div class=\"colab-df-container\">\n",
              "      <div>\n",
              "<style scoped>\n",
              "    .dataframe tbody tr th:only-of-type {\n",
              "        vertical-align: middle;\n",
              "    }\n",
              "\n",
              "    .dataframe tbody tr th {\n",
              "        vertical-align: top;\n",
              "    }\n",
              "\n",
              "    .dataframe thead th {\n",
              "        text-align: right;\n",
              "    }\n",
              "</style>\n",
              "<table border=\"1\" class=\"dataframe\">\n",
              "  <thead>\n",
              "    <tr style=\"text-align: right;\">\n",
              "      <th></th>\n",
              "      <th>Skew</th>\n",
              "    </tr>\n",
              "  </thead>\n",
              "  <tbody>\n",
              "    <tr>\n",
              "      <th>idle_time</th>\n",
              "      <td>20.523423</td>\n",
              "    </tr>\n",
              "    <tr>\n",
              "      <th>incentive</th>\n",
              "      <td>15.770951</td>\n",
              "    </tr>\n",
              "    <tr>\n",
              "      <th>wip</th>\n",
              "      <td>12.794304</td>\n",
              "    </tr>\n",
              "    <tr>\n",
              "      <th>idle_men</th>\n",
              "      <td>9.842725</td>\n",
              "    </tr>\n",
              "    <tr>\n",
              "      <th>no_of_style_change</th>\n",
              "      <td>2.938817</td>\n",
              "    </tr>\n",
              "    <tr>\n",
              "      <th>targeted_productivity</th>\n",
              "      <td>-2.141462</td>\n",
              "    </tr>\n",
              "  </tbody>\n",
              "</table>\n",
              "</div>\n",
              "      <button class=\"colab-df-convert\" onclick=\"convertToInteractive('df-5cc7ea51-f862-4046-882b-80a9c3b36340')\"\n",
              "              title=\"Convert this dataframe to an interactive table.\"\n",
              "              style=\"display:none;\">\n",
              "        \n",
              "  <svg xmlns=\"http://www.w3.org/2000/svg\" height=\"24px\"viewBox=\"0 0 24 24\"\n",
              "       width=\"24px\">\n",
              "    <path d=\"M0 0h24v24H0V0z\" fill=\"none\"/>\n",
              "    <path d=\"M18.56 5.44l.94 2.06.94-2.06 2.06-.94-2.06-.94-.94-2.06-.94 2.06-2.06.94zm-11 1L8.5 8.5l.94-2.06 2.06-.94-2.06-.94L8.5 2.5l-.94 2.06-2.06.94zm10 10l.94 2.06.94-2.06 2.06-.94-2.06-.94-.94-2.06-.94 2.06-2.06.94z\"/><path d=\"M17.41 7.96l-1.37-1.37c-.4-.4-.92-.59-1.43-.59-.52 0-1.04.2-1.43.59L10.3 9.45l-7.72 7.72c-.78.78-.78 2.05 0 2.83L4 21.41c.39.39.9.59 1.41.59.51 0 1.02-.2 1.41-.59l7.78-7.78 2.81-2.81c.8-.78.8-2.07 0-2.86zM5.41 20L4 18.59l7.72-7.72 1.47 1.35L5.41 20z\"/>\n",
              "  </svg>\n",
              "      </button>\n",
              "      \n",
              "  <style>\n",
              "    .colab-df-container {\n",
              "      display:flex;\n",
              "      flex-wrap:wrap;\n",
              "      gap: 12px;\n",
              "    }\n",
              "\n",
              "    .colab-df-convert {\n",
              "      background-color: #E8F0FE;\n",
              "      border: none;\n",
              "      border-radius: 50%;\n",
              "      cursor: pointer;\n",
              "      display: none;\n",
              "      fill: #1967D2;\n",
              "      height: 32px;\n",
              "      padding: 0 0 0 0;\n",
              "      width: 32px;\n",
              "    }\n",
              "\n",
              "    .colab-df-convert:hover {\n",
              "      background-color: #E2EBFA;\n",
              "      box-shadow: 0px 1px 2px rgba(60, 64, 67, 0.3), 0px 1px 3px 1px rgba(60, 64, 67, 0.15);\n",
              "      fill: #174EA6;\n",
              "    }\n",
              "\n",
              "    [theme=dark] .colab-df-convert {\n",
              "      background-color: #3B4455;\n",
              "      fill: #D2E3FC;\n",
              "    }\n",
              "\n",
              "    [theme=dark] .colab-df-convert:hover {\n",
              "      background-color: #434B5C;\n",
              "      box-shadow: 0px 1px 3px 1px rgba(0, 0, 0, 0.15);\n",
              "      filter: drop-shadow(0px 1px 2px rgba(0, 0, 0, 0.3));\n",
              "      fill: #FFFFFF;\n",
              "    }\n",
              "  </style>\n",
              "\n",
              "      <script>\n",
              "        const buttonEl =\n",
              "          document.querySelector('#df-5cc7ea51-f862-4046-882b-80a9c3b36340 button.colab-df-convert');\n",
              "        buttonEl.style.display =\n",
              "          google.colab.kernel.accessAllowed ? 'block' : 'none';\n",
              "\n",
              "        async function convertToInteractive(key) {\n",
              "          const element = document.querySelector('#df-5cc7ea51-f862-4046-882b-80a9c3b36340');\n",
              "          const dataTable =\n",
              "            await google.colab.kernel.invokeFunction('convertToInteractive',\n",
              "                                                     [key], {});\n",
              "          if (!dataTable) return;\n",
              "\n",
              "          const docLinkHtml = 'Like what you see? Visit the ' +\n",
              "            '<a target=\"_blank\" href=https://colab.research.google.com/notebooks/data_table.ipynb>data table notebook</a>'\n",
              "            + ' to learn more about interactive tables.';\n",
              "          element.innerHTML = '';\n",
              "          dataTable['output_type'] = 'display_data';\n",
              "          await google.colab.output.renderOutput(dataTable, element);\n",
              "          const docLink = document.createElement('div');\n",
              "          docLink.innerHTML = docLinkHtml;\n",
              "          element.appendChild(docLink);\n",
              "        }\n",
              "      </script>\n",
              "    </div>\n",
              "  </div>\n",
              "  "
            ]
          },
          "metadata": {},
          "execution_count": 27
        }
      ]
    },
    {
      "cell_type": "code",
      "source": [
        "skewness_features = ['idle_time', 'incentive', 'wip', 'idle_men', 'no_of_style_change', 'targeted_productivity']\n",
        "skewness_features"
      ],
      "metadata": {
        "colab": {
          "base_uri": "https://localhost:8080/"
        },
        "id": "tnCz5UZifwhM",
        "outputId": "693283f3-72be-4653-f7ab-b577bf45866e"
      },
      "execution_count": null,
      "outputs": [
        {
          "output_type": "execute_result",
          "data": {
            "text/plain": [
              "['idle_time',\n",
              " 'incentive',\n",
              " 'wip',\n",
              " 'idle_men',\n",
              " 'no_of_style_change',\n",
              " 'targeted_productivity']"
            ]
          },
          "metadata": {},
          "execution_count": 28
        }
      ]
    },
    {
      "cell_type": "code",
      "source": [
        "train_x[skewness_features] = np.log1p(train_x[skewness_features])\n",
        "test[skewness_features] = np.log1p(test[skewness_features])"
      ],
      "metadata": {
        "id": "RE8s90Mjf1pK"
      },
      "execution_count": null,
      "outputs": []
    },
    {
      "cell_type": "code",
      "source": [
        "# 피처변환 - 스케일링\n",
        "# scaling된 데이터는 scaled를 붙임\n",
        "scaler = StandardScaler()\n",
        "train_scaled = scaler.fit_transform(train_x)\n",
        "test_scaled = scaler.transform(test)\n",
        "print(train_scaled.shape, test_scaled.shape)"
      ],
      "metadata": {
        "colab": {
          "base_uri": "https://localhost:8080/"
        },
        "id": "bTFML91qf684",
        "outputId": "6039c525-9291-4616-8d5c-ee622f2361ca"
      },
      "execution_count": null,
      "outputs": [
        {
          "output_type": "stream",
          "name": "stdout",
          "text": [
            "(1197, 12) (818, 12)\n"
          ]
        }
      ]
    },
    {
      "cell_type": "code",
      "source": [
        "# 최종 피처 선택\n",
        "# selection의 약자로 sel를 사용\n",
        "# 원래 이 부분에서 항상 percentile를 통한 피처설렉션 과정을 거치기에 약자인 'sel'를 이용하였는데, 피처가 적어 그대로 진행\n",
        "train_sel = train_scaled\n",
        "test_sel = test_scaled\n",
        "print(train_sel.shape, test_sel.shape)"
      ],
      "metadata": {
        "colab": {
          "base_uri": "https://localhost:8080/"
        },
        "id": "lBx2bNL0gFI5",
        "outputId": "25a189af-2d2c-41eb-9160-40160fa5e20f"
      },
      "execution_count": null,
      "outputs": [
        {
          "output_type": "stream",
          "name": "stdout",
          "text": [
            "(1197, 12) (818, 12)\n"
          ]
        }
      ]
    },
    {
      "cell_type": "markdown",
      "source": [
        "## Modeling"
      ],
      "metadata": {
        "id": "uevkasRwKFPU"
      }
    },
    {
      "cell_type": "code",
      "source": [
        "X = train_x.copy()\n",
        "y = np.log1p(train_y)\n",
        "X_test0 = test.copy()"
      ],
      "metadata": {
        "id": "2NIDERPbmAHP"
      },
      "execution_count": null,
      "outputs": []
    },
    {
      "cell_type": "code",
      "source": [
        "from sklearn.model_selection import train_test_split\n",
        "\n",
        "X_train, X_valid, y_train, y_valid = train_test_split(X, y, test_size=0.2, random_state=0)\n",
        "X_train.shape, X_valid.shape"
      ],
      "metadata": {
        "colab": {
          "base_uri": "https://localhost:8080/"
        },
        "id": "EE63Vdm3mJ1W",
        "outputId": "b8b10553-dd34-44db-8ad7-4a66fca96d84"
      },
      "execution_count": null,
      "outputs": [
        {
          "output_type": "execute_result",
          "data": {
            "text/plain": [
              "((957, 12), (240, 12))"
            ]
          },
          "metadata": {},
          "execution_count": 33
        }
      ]
    },
    {
      "cell_type": "code",
      "source": [
        "from sklearn.metrics import make_scorer\n",
        "\n",
        "def NMAE(true, pred):\n",
        "    mae = np.mean(np.abs(true - pred))\n",
        "    score = mae / np.mean(np.abs(true))\n",
        "    return score\n",
        "\n",
        "nmae_score = make_scorer(NMAE, greater_is_better=False)"
      ],
      "metadata": {
        "id": "l-tVDrdrmOBs"
      },
      "execution_count": null,
      "outputs": []
    },
    {
      "cell_type": "code",
      "source": [
        "!pip install catboost\n",
        "!pip install ngboost"
      ],
      "metadata": {
        "id": "Bbathnb-hlUv"
      },
      "execution_count": null,
      "outputs": []
    },
    {
      "cell_type": "code",
      "source": [
        "from sklearn.ensemble import RandomForestRegressor, GradientBoostingRegressor\n",
        "from sklearn.tree import DecisionTreeRegressor\n",
        "from sklearn.ensemble import ExtraTreesRegressor\n",
        "from xgboost import XGBRegressor\n",
        "from lightgbm import LGBMRegressor\n",
        "from sklearn.linear_model import ElasticNet\n",
        "from sklearn.ensemble import AdaBoostRegressor\n",
        "from catboost import CatBoostRegressor, Pool\n",
        "from ngboost import NGBRegressor\n",
        "from sklearn.ensemble import HistGradientBoostingRegressor\n",
        "from sklearn.linear_model import LinearRegression, Lasso, Ridge, ElasticNet"
      ],
      "metadata": {
        "id": "4AIbko_4iStH"
      },
      "execution_count": null,
      "outputs": []
    },
    {
      "cell_type": "code",
      "source": [
        "etr=ExtraTreesRegressor(n_estimators=200)\n",
        "lr=LinearRegression()\n",
        "rg=Ridge()\n",
        "rf=RandomForestRegressor(random_state = 42, criterion = 'mae')\n",
        "gbr=GradientBoostingRegressor(random_state = 42, max_depth = 4, learning_rate=0.09, loss='huber', n_estimators=130)\n",
        "xgb=XGBRegressor(random_state = 42, learning_rate=0.05, n_estimators=200)\n",
        "lgb=LGBMRegressor(random_state = 42, learning_rate=0.05, n_estimators=200)\n",
        "ada=AdaBoostRegressor(random_state = 42, learning_rate=0.03, n_estimators=100)\n",
        "hgb=HistGradientBoostingRegressor(random_state=42, scoring=nmae_score, learning_rate=0.09)\n",
        "ngb=NGBRegressor(random_state = 42, n_estimators = 500, verbose = 0, learning_rate = 0.03)\n",
        "cat_reg=CatBoostRegressor(depth = 4, random_state = 42, loss_function = 'MAE', n_estimators = 3000, learning_rate = 0.03, verbose = 0)"
      ],
      "metadata": {
        "id": "4VrpmEeChKUl"
      },
      "execution_count": null,
      "outputs": []
    },
    {
      "cell_type": "code",
      "source": [
        "etr.fit(X_train,y_train)\n",
        "lr.fit(X_train,y_train)\n",
        "rg.fit(X_train,y_train)\n",
        "rf.fit(X_train,y_train)\n",
        "gbr.fit(X_train,y_train)\n",
        "xgb.fit(X_train,y_train)\n",
        "lgb.fit(X_train,y_train)\n",
        "ada.fit(X_train,y_train)\n",
        "hgb.fit(X_train,y_train)\n",
        "ngb.fit(X_train,y_train)\n",
        "cat_reg.fit(X_train,y_train)"
      ],
      "metadata": {
        "colab": {
          "base_uri": "https://localhost:8080/"
        },
        "id": "ZXfVMid3lIyx",
        "outputId": "16b51a25-d827-4243-a7af-cb41aee38203"
      },
      "execution_count": null,
      "outputs": [
        {
          "output_type": "stream",
          "name": "stdout",
          "text": [
            "[14:06:29] WARNING: /workspace/src/objective/regression_obj.cu:152: reg:linear is now deprecated in favor of reg:squarederror.\n"
          ]
        },
        {
          "output_type": "execute_result",
          "data": {
            "text/plain": [
              "<catboost.core.CatBoostRegressor at 0x7f07d2f03110>"
            ]
          },
          "metadata": {},
          "execution_count": 40
        }
      ]
    },
    {
      "cell_type": "code",
      "source": [
        "y_etr=etr.predict(X_valid)\n",
        "y_lr=lr.predict(X_valid)\n",
        "y_rg=rg.predict(X_valid)\n",
        "y_rf=rf.predict(X_valid)\n",
        "y_gbr=gbr.predict(X_valid)\n",
        "y_xgb=xgb.predict(X_valid)\n",
        "y_lgb=lgb.predict(X_valid)\n",
        "y_ada=ada.predict(X_valid)\n",
        "y_hgb=hgb.predict(X_valid)\n",
        "y_ngb=ngb.predict(X_valid)\n",
        "y_cat=cat_reg.predict(X_valid)"
      ],
      "metadata": {
        "id": "c0kGVZy3lKYf"
      },
      "execution_count": null,
      "outputs": []
    },
    {
      "cell_type": "code",
      "source": [
        "score_etr=NMAE(y_valid, y_etr)\n",
        "score_lr=NMAE(y_valid, y_lr)\n",
        "score_rg=NMAE(y_valid, y_rg)\n",
        "score_rf=NMAE(y_valid, y_rf)\n",
        "score_gbr=NMAE(y_valid, y_gbr)\n",
        "score_xgb=NMAE(y_valid, y_xgb)\n",
        "score_lgb=NMAE(y_valid, y_lgb)\n",
        "score_ada=NMAE(y_valid, y_ada)\n",
        "score_hgb=NMAE(y_valid, y_hgb)\n",
        "score_ngb=NMAE(y_valid, y_ngb)\n",
        "score_cat=NMAE(y_valid, y_cat)"
      ],
      "metadata": {
        "id": "1_xzG0XimcFI"
      },
      "execution_count": null,
      "outputs": []
    },
    {
      "cell_type": "code",
      "source": [
        "print(score_etr)\n",
        "print(score_lr)\n",
        "print(score_rg)\n",
        "print(score_rf)\n",
        "print(score_gbr)\n",
        "print(score_xgb)\n",
        "print(score_lgb)\n",
        "print(score_ada)\n",
        "print(score_hgb)\n",
        "print(score_ngb)\n",
        "print(score_cat)"
      ],
      "metadata": {
        "colab": {
          "base_uri": "https://localhost:8080/"
        },
        "id": "_fWpkCUlmdMY",
        "outputId": "8b2cd90e-8f1f-46ef-b0e4-fff00a5a79c0"
      },
      "execution_count": null,
      "outputs": [
        {
          "output_type": "stream",
          "name": "stdout",
          "text": [
            "0.07866563519645892\n",
            "0.09628124993609183\n",
            "0.09885104764296512\n",
            "0.07891420186982555\n",
            "0.07054117959449903\n",
            "0.07545822065512765\n",
            "0.0817625489585103\n",
            "0.09125368901131252\n",
            "0.0813302897108832\n",
            "0.07415309817394333\n",
            "0.06831969913654026\n"
          ]
        }
      ]
    },
    {
      "cell_type": "markdown",
      "source": [
        "`좋은 결과를 보이고 있는 모델들만 선정해줍니다. => ETR + RF + GBR + XGB + LGB + HGB + NGB + CAT`"
      ],
      "metadata": {
        "id": "6-uYFzH2nU6b"
      }
    },
    {
      "cell_type": "markdown",
      "source": [
        "### KFold"
      ],
      "metadata": {
        "id": "JtpdQlkSr8lN"
      }
    },
    {
      "cell_type": "code",
      "source": [
        "from sklearn.model_selection import KFold\n",
        "kf = KFold(n_splits = 10, random_state = 42, shuffle = True)"
      ],
      "metadata": {
        "id": "2zQn8sSur50d"
      },
      "execution_count": null,
      "outputs": []
    },
    {
      "cell_type": "code",
      "source": [
        "X = train_x.copy()\n",
        "y = np.log1p(train_y)\n",
        "X_test = test.copy()\n",
        "target = X_test"
      ],
      "metadata": {
        "id": "20w_OerXrnsk"
      },
      "execution_count": null,
      "outputs": []
    },
    {
      "cell_type": "code",
      "source": [
        "# ExtraTreesRegression\n",
        "etr_pred = np.zeros(target.shape[0])\n",
        "etr_val = []\n",
        "for n, (tr_idx, val_idx) in enumerate(kf.split(X, y)) :\n",
        "    tr_x, tr_y = X.iloc[tr_idx], y.iloc[tr_idx]\n",
        "    val_x, val_y = X.iloc[val_idx], np.expm1(y.iloc[val_idx])\n",
        "    \n",
        "    etr = ExtraTreesRegressor(n_estimators=200)\n",
        "    etr.fit(tr_x, tr_y)\n",
        "    \n",
        "    val_pred = np.expm1(etr.predict(val_x))\n",
        "    val_nmae = NMAE(val_y, val_pred)\n",
        "    etr_val.append(val_nmae)\n",
        "    print(f'{n + 1} FOLD NMAE = {val_nmae}')\n",
        "    \n",
        "    target_data = Pool(data = target, label = None)\n",
        "    fold_pred = etr.predict(target) / 10\n",
        "    etr_pred += fold_pred\n",
        "print(f'10FOLD Mean of NMAE = {np.mean(etr_val)}')"
      ],
      "metadata": {
        "colab": {
          "base_uri": "https://localhost:8080/"
        },
        "id": "9-p9ouLGrzCr",
        "outputId": "52b70f99-8877-482c-dda0-f1009bbdda45"
      },
      "execution_count": null,
      "outputs": [
        {
          "output_type": "stream",
          "name": "stdout",
          "text": [
            "1 FOLD NMAE = 0.06826208108928102\n",
            "2 FOLD NMAE = 0.07494057100714331\n",
            "3 FOLD NMAE = 0.10058837880126154\n",
            "4 FOLD NMAE = 0.0818034161125297\n",
            "5 FOLD NMAE = 0.07696228949375038\n",
            "6 FOLD NMAE = 0.08720047713687624\n",
            "7 FOLD NMAE = 0.10823490044156402\n",
            "8 FOLD NMAE = 0.07425942285693315\n",
            "9 FOLD NMAE = 0.08536259988831188\n",
            "10 FOLD NMAE = 0.09290347993102281\n",
            "10FOLD Mean of NMAE = 0.0850517616758674\n"
          ]
        }
      ]
    },
    {
      "cell_type": "code",
      "source": [
        "# RandomForestRegressor\n",
        "rf_pred = np.zeros(target.shape[0])\n",
        "rf_val = []\n",
        "for n, (tr_idx, val_idx) in enumerate(kf.split(X, y)) :\n",
        "    tr_x, tr_y = X.iloc[tr_idx], y.iloc[tr_idx]\n",
        "    val_x, val_y = X.iloc[val_idx], np.expm1(y.iloc[val_idx])\n",
        "    \n",
        "    rf = RandomForestRegressor(random_state = 42, criterion = 'mae')\n",
        "    rf.fit(tr_x, tr_y)\n",
        "    \n",
        "    val_pred = np.expm1(rf.predict(val_x))\n",
        "    val_nmae = NMAE(val_y, val_pred)\n",
        "    rf_val.append(val_nmae)\n",
        "    print(f'{n + 1} FOLD NMAE = {val_nmae}')\n",
        "    \n",
        "    fold_pred = rf.predict(target) / 10\n",
        "    rf_pred += fold_pred\n",
        "print(f'10FOLD Mean of NMAE = {np.mean(rf_val)}')"
      ],
      "metadata": {
        "colab": {
          "base_uri": "https://localhost:8080/"
        },
        "id": "zHE_8EOgr2JZ",
        "outputId": "93996b61-955c-4f02-cc4f-ac4b38d3bf16"
      },
      "execution_count": null,
      "outputs": [
        {
          "output_type": "stream",
          "name": "stdout",
          "text": [
            "1 FOLD NMAE = 0.06831074876117758\n",
            "2 FOLD NMAE = 0.08059384230922809\n",
            "3 FOLD NMAE = 0.10613085991458993\n",
            "4 FOLD NMAE = 0.07499388461483687\n",
            "5 FOLD NMAE = 0.07529506543043493\n",
            "6 FOLD NMAE = 0.09534155151012663\n",
            "7 FOLD NMAE = 0.10498396949141468\n",
            "8 FOLD NMAE = 0.08207570113998333\n",
            "9 FOLD NMAE = 0.08719463914990877\n",
            "10 FOLD NMAE = 0.08736164273043462\n",
            "10FOLD Mean of NMAE = 0.08622819050521355\n"
          ]
        }
      ]
    },
    {
      "cell_type": "code",
      "source": [
        "# GradientBoostingRegressor\n",
        "gbr_pred = np.zeros(target.shape[0])\n",
        "gbr_val = []\n",
        "for n, (tr_idx, val_idx) in enumerate(kf.split(X, y)) :\n",
        "    tr_x, tr_y = X.iloc[tr_idx], y.iloc[tr_idx]\n",
        "    val_x, val_y = X.iloc[val_idx], np.expm1(y.iloc[val_idx])\n",
        "    \n",
        "    gbr = GradientBoostingRegressor(random_state = 42, max_depth = 4, learning_rate=0.09, loss='huber', n_estimators=130)\n",
        "    gbr.fit(tr_x, tr_y)\n",
        "    \n",
        "    val_pred = np.expm1(gbr.predict(val_x))\n",
        "    val_nmae = NMAE(val_y, val_pred)\n",
        "    gbr_val.append(val_nmae)\n",
        "    print(f'{n + 1} FOLD NMAE = {val_nmae}')\n",
        "    \n",
        "    fold_pred = gbr.predict(target) / 10\n",
        "    gbr_pred += fold_pred\n",
        "print(f'10FOLD Mean of NMAE = {np.mean(gbr_val)}')"
      ],
      "metadata": {
        "colab": {
          "base_uri": "https://localhost:8080/"
        },
        "id": "bB-22nwisoKT",
        "outputId": "aff9a658-5cda-4e3d-f5f8-9bb97a17c0fa"
      },
      "execution_count": null,
      "outputs": [
        {
          "output_type": "stream",
          "name": "stdout",
          "text": [
            "1 FOLD NMAE = 0.06529631783212067\n",
            "2 FOLD NMAE = 0.09397257911281993\n",
            "3 FOLD NMAE = 0.10202667775263127\n",
            "4 FOLD NMAE = 0.07756934089124773\n",
            "5 FOLD NMAE = 0.07265185485516226\n",
            "6 FOLD NMAE = 0.08258520322844086\n",
            "7 FOLD NMAE = 0.10289438429026558\n",
            "8 FOLD NMAE = 0.07884480371453775\n",
            "9 FOLD NMAE = 0.07637248830752219\n",
            "10 FOLD NMAE = 0.08332494479919537\n",
            "10FOLD Mean of NMAE = 0.08355385947839436\n"
          ]
        }
      ]
    },
    {
      "cell_type": "code",
      "source": [
        "# xgbr\n",
        "xgb_pred = np.zeros(target.shape[0])\n",
        "xgb_val = []\n",
        "for n, (tr_idx, val_idx) in enumerate(kf.split(X, y)) :\n",
        "    tr_x, tr_y = X.iloc[tr_idx], y.iloc[tr_idx]\n",
        "    val_x, val_y = X.iloc[val_idx], np.expm1(y.iloc[val_idx])\n",
        "    \n",
        "    xgb = XGBRegressor(random_state = 42, learning_rate=0.05, n_estimators=200)\n",
        "    xgb.fit(tr_x, tr_y)\n",
        "    \n",
        "    val_pred = np.expm1(xgb.predict(val_x))\n",
        "    val_nmae = NMAE(val_y, val_pred)\n",
        "    xgb_val.append(val_nmae)\n",
        "    print(f'{n + 1} FOLD NMAE = {val_nmae}')\n",
        "    \n",
        "    fold_pred = xgb.predict(target) / 10\n",
        "    xgb_pred += fold_pred\n",
        "print(f'10FOLD Mean of NMAE = {np.mean(xgb_val)}')"
      ],
      "metadata": {
        "colab": {
          "base_uri": "https://localhost:8080/"
        },
        "id": "DylRIVa2spjX",
        "outputId": "058bb67d-3a06-4b14-c608-2ae4907c0d6d"
      },
      "execution_count": null,
      "outputs": [
        {
          "output_type": "stream",
          "name": "stdout",
          "text": [
            "[14:07:29] WARNING: /workspace/src/objective/regression_obj.cu:152: reg:linear is now deprecated in favor of reg:squarederror.\n",
            "1 FOLD NMAE = 0.07186768514719463\n",
            "[14:07:29] WARNING: /workspace/src/objective/regression_obj.cu:152: reg:linear is now deprecated in favor of reg:squarederror.\n",
            "2 FOLD NMAE = 0.09579800002765715\n",
            "[14:07:29] WARNING: /workspace/src/objective/regression_obj.cu:152: reg:linear is now deprecated in favor of reg:squarederror.\n",
            "3 FOLD NMAE = 0.1108497261895095\n",
            "[14:07:29] WARNING: /workspace/src/objective/regression_obj.cu:152: reg:linear is now deprecated in favor of reg:squarederror.\n",
            "4 FOLD NMAE = 0.07933394212885465\n",
            "[14:07:30] WARNING: /workspace/src/objective/regression_obj.cu:152: reg:linear is now deprecated in favor of reg:squarederror.\n",
            "5 FOLD NMAE = 0.0802563505933003\n",
            "[14:07:30] WARNING: /workspace/src/objective/regression_obj.cu:152: reg:linear is now deprecated in favor of reg:squarederror.\n",
            "6 FOLD NMAE = 0.0929858027128361\n",
            "[14:07:30] WARNING: /workspace/src/objective/regression_obj.cu:152: reg:linear is now deprecated in favor of reg:squarederror.\n",
            "7 FOLD NMAE = 0.11098929707838125\n",
            "[14:07:30] WARNING: /workspace/src/objective/regression_obj.cu:152: reg:linear is now deprecated in favor of reg:squarederror.\n",
            "8 FOLD NMAE = 0.08098649339303278\n",
            "[14:07:30] WARNING: /workspace/src/objective/regression_obj.cu:152: reg:linear is now deprecated in favor of reg:squarederror.\n",
            "9 FOLD NMAE = 0.08352174550057645\n",
            "[14:07:30] WARNING: /workspace/src/objective/regression_obj.cu:152: reg:linear is now deprecated in favor of reg:squarederror.\n",
            "10 FOLD NMAE = 0.08928334802333937\n",
            "10FOLD Mean of NMAE = 0.08958723907946822\n"
          ]
        }
      ]
    },
    {
      "cell_type": "code",
      "source": [
        "# lgbr\n",
        "lgb_pred = np.zeros(target.shape[0])\n",
        "lgb_val = []\n",
        "for n, (tr_idx, val_idx) in enumerate(kf.split(X, y)) :\n",
        "    tr_x, tr_y = X.iloc[tr_idx], y.iloc[tr_idx]\n",
        "    val_x, val_y = X.iloc[val_idx], np.expm1(y.iloc[val_idx])\n",
        "    \n",
        "    lgb = LGBMRegressor(random_state = 42, learning_rate=0.05, n_estimators=200)\n",
        "    lgb.fit(tr_x, tr_y)\n",
        "    \n",
        "    val_pred = np.expm1(lgb.predict(val_x))\n",
        "    val_nmae = NMAE(val_y, val_pred)\n",
        "    lgb_val.append(val_nmae)\n",
        "    print(f'{n + 1} FOLD NMAE = {val_nmae}')\n",
        "    \n",
        "    fold_pred = lgb.predict(target) / 10\n",
        "    lgb_pred += fold_pred\n",
        "print(f'10FOLD Mean of NMAE = {np.mean(lgb_val)}')"
      ],
      "metadata": {
        "colab": {
          "base_uri": "https://localhost:8080/"
        },
        "id": "Om_Mc0CMsqzh",
        "outputId": "9874a593-74b0-4cb0-a7c2-e74326f42ced"
      },
      "execution_count": null,
      "outputs": [
        {
          "output_type": "stream",
          "name": "stdout",
          "text": [
            "1 FOLD NMAE = 0.08135974745788849\n",
            "2 FOLD NMAE = 0.09530452934956568\n",
            "3 FOLD NMAE = 0.110063422693218\n",
            "4 FOLD NMAE = 0.08689140545324389\n",
            "5 FOLD NMAE = 0.08124893343357897\n",
            "6 FOLD NMAE = 0.0937845279810962\n",
            "7 FOLD NMAE = 0.10727125393461602\n",
            "8 FOLD NMAE = 0.08974568684583788\n",
            "9 FOLD NMAE = 0.08814118565662374\n",
            "10 FOLD NMAE = 0.08972579429581733\n",
            "10FOLD Mean of NMAE = 0.09235364871014862\n"
          ]
        }
      ]
    },
    {
      "cell_type": "code",
      "source": [
        "# HGBRegressor\n",
        "hgbr_pred = np.zeros(target.shape[0])\n",
        "hgbr_val = []\n",
        "for n, (tr_idx, val_idx) in enumerate(kf.split(X, y)) :\n",
        "    tr_x, tr_y = X.iloc[tr_idx], y.iloc[tr_idx]\n",
        "    val_x, val_y = X.iloc[val_idx], np.expm1(y.iloc[val_idx])\n",
        "    \n",
        "    hgbr = HistGradientBoostingRegressor(random_state=42, scoring=nmae_score, learning_rate=0.09)\n",
        "    hgbr.fit(tr_x, tr_y)\n",
        "    \n",
        "    val_pred = np.expm1(hgbr.predict(val_x))\n",
        "    val_nmae = NMAE(val_y, val_pred)\n",
        "    hgbr_val.append(val_nmae)\n",
        "    print(f'{n + 1} FOLD NMAE = {val_nmae}')\n",
        "    \n",
        "    fold_pred = hgbr.predict(target) / 10\n",
        "    hgbr_pred += fold_pred\n",
        "print(f'10FOLD Mean of NMAE = {np.mean(hgbr_val)}')"
      ],
      "metadata": {
        "colab": {
          "base_uri": "https://localhost:8080/"
        },
        "id": "2HN5g1RyssFi",
        "outputId": "7b4dc6c0-bf89-4943-a093-76c96c5a199d"
      },
      "execution_count": null,
      "outputs": [
        {
          "output_type": "stream",
          "name": "stdout",
          "text": [
            "1 FOLD NMAE = 0.08145900160316864\n",
            "2 FOLD NMAE = 0.09172045131030787\n",
            "3 FOLD NMAE = 0.11096070013234259\n",
            "4 FOLD NMAE = 0.08473174696796712\n",
            "5 FOLD NMAE = 0.0793613710229947\n",
            "6 FOLD NMAE = 0.09389893794966692\n",
            "7 FOLD NMAE = 0.10582649516176315\n",
            "8 FOLD NMAE = 0.0888945780930183\n",
            "9 FOLD NMAE = 0.08874410325347025\n",
            "10 FOLD NMAE = 0.09186433571859831\n",
            "10FOLD Mean of NMAE = 0.09174617212132978\n"
          ]
        }
      ]
    },
    {
      "cell_type": "code",
      "source": [
        "# NGBRegressor\n",
        "ngb_pred = np.zeros(target.shape[0])\n",
        "ngb_val = []\n",
        "for n, (tr_idx, val_idx) in enumerate(kf.split(X, y)) :\n",
        "    tr_x, tr_y = X.iloc[tr_idx], y.iloc[tr_idx]\n",
        "    val_x, val_y = X.iloc[val_idx], np.expm1(y.iloc[val_idx])\n",
        "    \n",
        "    ngb = NGBRegressor(random_state = 42, n_estimators = 500, verbose = 0, learning_rate = 0.03)\n",
        "    ngb.fit(tr_x, tr_y, val_x, val_y, early_stopping_rounds = 300)\n",
        "    \n",
        "    val_pred = np.expm1(ngb.predict(val_x))\n",
        "    val_nmae = NMAE(val_y, val_pred)\n",
        "    ngb_val.append(val_nmae)\n",
        "    print(f'{n + 1} FOLD NMAE = {val_nmae}')\n",
        "    \n",
        "    target_data = Pool(data = target, label = None)\n",
        "    fold_pred = ngb.predict(target) / 10\n",
        "    ngb_pred += fold_pred\n",
        "print(f'10FOLD Mean of NMAE = {np.mean(ngb_val)}')"
      ],
      "metadata": {
        "colab": {
          "base_uri": "https://localhost:8080/"
        },
        "id": "QpyQJjIvst5T",
        "outputId": "267e0bcc-612d-44e1-e52f-5e1bc9483295"
      },
      "execution_count": null,
      "outputs": [
        {
          "output_type": "stream",
          "name": "stdout",
          "text": [
            "1 FOLD NMAE = 0.07178842038102698\n",
            "2 FOLD NMAE = 0.09524815331315886\n",
            "3 FOLD NMAE = 0.1097951288241936\n",
            "4 FOLD NMAE = 0.07942602389684174\n",
            "5 FOLD NMAE = 0.08098582600283528\n",
            "6 FOLD NMAE = 0.09289199861225515\n",
            "7 FOLD NMAE = 0.11028345796172924\n",
            "8 FOLD NMAE = 0.08009110764750017\n",
            "9 FOLD NMAE = 0.08483129799104287\n",
            "10 FOLD NMAE = 0.08970746348447384\n",
            "10FOLD Mean of NMAE = 0.08950488781150578\n"
          ]
        }
      ]
    },
    {
      "cell_type": "code",
      "source": [
        "# cat\n",
        "cat_pred = np.zeros(target.shape[0])\n",
        "cat_val = []\n",
        "for n, (tr_idx, val_idx) in enumerate(kf.split(X, y)) :\n",
        "    tr_x, tr_y = X.iloc[tr_idx], y.iloc[tr_idx]\n",
        "    val_x, val_y = X.iloc[val_idx], np.expm1(y.iloc[val_idx])\n",
        "    \n",
        "    tr_data = Pool(data = tr_x, label = tr_y)\n",
        "    val_data = Pool(data = val_x, label = val_y)\n",
        "    \n",
        "    cat = CatBoostRegressor(depth = 4, random_state = 42, loss_function = 'MAE', n_estimators = 3000, learning_rate = 0.03, verbose = 0)\n",
        "    cat.fit(tr_data, eval_set = val_data, early_stopping_rounds = 750, verbose = 1000)\n",
        "    \n",
        "    val_pred = np.expm1(cat.predict(val_x))\n",
        "    val_nmae = NMAE(val_y, val_pred)\n",
        "    cat_val.append(val_nmae)\n",
        "    print(f'{n + 1} FOLD NMAE = {val_nmae}')\n",
        "    \n",
        "    target_data = Pool(data = target, label = None)\n",
        "    fold_pred = cat.predict(target) / 10\n",
        "    cat_pred += fold_pred\n",
        "print(f'10FOLD Mean of NMAE = {np.mean(cat_val)}')"
      ],
      "metadata": {
        "colab": {
          "base_uri": "https://localhost:8080/"
        },
        "id": "reU82GBFsvaz",
        "outputId": "a257c02b-262b-41e3-9cec-9c1822b7b50b"
      },
      "execution_count": null,
      "outputs": [
        {
          "output_type": "stream",
          "name": "stdout",
          "text": [
            "0:\tlearn: 0.0517657\ttest: 0.1245977\tbest: 0.1245977 (0)\ttotal: 696us\tremaining: 2.09s\n",
            "1000:\tlearn: 0.0243648\ttest: 0.1220530\tbest: 0.1201752 (295)\ttotal: 497ms\tremaining: 992ms\n",
            "Stopped by overfitting detector  (750 iterations wait)\n",
            "\n",
            "bestTest = 0.1201752365\n",
            "bestIteration = 295\n",
            "\n",
            "Shrink model to first 296 iterations.\n",
            "1 FOLD NMAE = 0.06299483416492738\n",
            "0:\tlearn: 0.0508419\ttest: 0.1234689\tbest: 0.1234689 (0)\ttotal: 512us\tremaining: 1.53s\n",
            "Stopped by overfitting detector  (750 iterations wait)\n",
            "\n",
            "bestTest = 0.1234688761\n",
            "bestIteration = 0\n",
            "\n",
            "Shrink model to first 1 iterations.\n",
            "2 FOLD NMAE = 0.14168159063266034\n",
            "0:\tlearn: 0.0504318\ttest: 0.1299696\tbest: 0.1299696 (0)\ttotal: 552us\tremaining: 1.66s\n",
            "Stopped by overfitting detector  (750 iterations wait)\n",
            "\n",
            "bestTest = 0.1262961432\n",
            "bestIteration = 228\n",
            "\n",
            "Shrink model to first 229 iterations.\n",
            "3 FOLD NMAE = 0.10720141845273883\n",
            "0:\tlearn: 0.0513457\ttest: 0.1306619\tbest: 0.1306619 (0)\ttotal: 509us\tremaining: 1.53s\n",
            "Stopped by overfitting detector  (750 iterations wait)\n",
            "\n",
            "bestTest = 0.1203985203\n",
            "bestIteration = 207\n",
            "\n",
            "Shrink model to first 208 iterations.\n",
            "4 FOLD NMAE = 0.08120053972091193\n",
            "0:\tlearn: 0.0516307\ttest: 0.1348316\tbest: 0.1348316 (0)\ttotal: 576us\tremaining: 1.73s\n",
            "1000:\tlearn: 0.0243322\ttest: 0.1295805\tbest: 0.1292625 (811)\ttotal: 493ms\tremaining: 985ms\n",
            "Stopped by overfitting detector  (750 iterations wait)\n",
            "\n",
            "bestTest = 0.1292625308\n",
            "bestIteration = 811\n",
            "\n",
            "Shrink model to first 812 iterations.\n",
            "5 FOLD NMAE = 0.06995067106457668\n",
            "0:\tlearn: 0.0502740\ttest: 0.1286259\tbest: 0.1286259 (0)\ttotal: 505us\tremaining: 1.52s\n",
            "1000:\tlearn: 0.0237649\ttest: 0.1197797\tbest: 0.1195583 (548)\ttotal: 495ms\tremaining: 989ms\n",
            "Stopped by overfitting detector  (750 iterations wait)\n",
            "\n",
            "bestTest = 0.1195583414\n",
            "bestIteration = 548\n",
            "\n",
            "Shrink model to first 549 iterations.\n",
            "6 FOLD NMAE = 0.08769781117008939\n",
            "0:\tlearn: 0.0502325\ttest: 0.1295899\tbest: 0.1295899 (0)\ttotal: 515us\tremaining: 1.55s\n",
            "Stopped by overfitting detector  (750 iterations wait)\n",
            "\n",
            "bestTest = 0.1255628767\n",
            "bestIteration = 128\n",
            "\n",
            "Shrink model to first 129 iterations.\n",
            "7 FOLD NMAE = 0.11085016762787789\n",
            "0:\tlearn: 0.0506902\ttest: 0.1167981\tbest: 0.1167981 (0)\ttotal: 722us\tremaining: 2.17s\n",
            "1000:\tlearn: 0.0242265\ttest: 0.1068988\tbest: 0.1067125 (865)\ttotal: 497ms\tremaining: 993ms\n",
            "2000:\tlearn: 0.0225761\ttest: 0.1068123\tbest: 0.1066851 (1520)\ttotal: 995ms\tremaining: 497ms\n",
            "Stopped by overfitting detector  (750 iterations wait)\n",
            "\n",
            "bestTest = 0.1066851116\n",
            "bestIteration = 1520\n",
            "\n",
            "Shrink model to first 1521 iterations.\n",
            "8 FOLD NMAE = 0.07856952307733979\n",
            "0:\tlearn: 0.0503565\ttest: 0.1250565\tbest: 0.1250565 (0)\ttotal: 612us\tremaining: 1.83s\n",
            "1000:\tlearn: 0.0244788\ttest: 0.1117000\tbest: 0.1116994 (999)\ttotal: 501ms\tremaining: 1s\n",
            "2000:\tlearn: 0.0227128\ttest: 0.1114191\tbest: 0.1114177 (1997)\ttotal: 1.03s\tremaining: 513ms\n",
            "2999:\tlearn: 0.0218302\ttest: 0.1111758\tbest: 0.1110680 (2828)\ttotal: 1.53s\tremaining: 0us\n",
            "\n",
            "bestTest = 0.1110680083\n",
            "bestIteration = 2828\n",
            "\n",
            "Shrink model to first 2829 iterations.\n",
            "9 FOLD NMAE = 0.07483431827658943\n",
            "0:\tlearn: 0.0510569\ttest: 0.1180992\tbest: 0.1180992 (0)\ttotal: 595us\tremaining: 1.78s\n",
            "Stopped by overfitting detector  (750 iterations wait)\n",
            "\n",
            "bestTest = 0.1180665362\n",
            "bestIteration = 57\n",
            "\n",
            "Shrink model to first 58 iterations.\n",
            "10 FOLD NMAE = 0.10630925230602259\n",
            "10FOLD Mean of NMAE = 0.09212901264937343\n"
          ]
        }
      ]
    },
    {
      "cell_type": "code",
      "source": [
        "# 검증 성능 확인하기\n",
        "val_list = [etr_val, rf_val, gbr_val, xgb_val, lgb_val, hgbr_val, ngb_val, cat_val]\n",
        "for val in val_list :\n",
        "  print(\"{:.8f}\".format(np.mean(val))) "
      ],
      "metadata": {
        "colab": {
          "base_uri": "https://localhost:8080/"
        },
        "id": "YPS60UjxswxC",
        "outputId": "060cfea3-3458-4407-c636-f1e2dd53066e"
      },
      "execution_count": null,
      "outputs": [
        {
          "output_type": "stream",
          "name": "stdout",
          "text": [
            "0.08505176\n",
            "0.08622819\n",
            "0.08355386\n",
            "0.08958724\n",
            "0.09235365\n",
            "0.09174617\n",
            "0.08950489\n",
            "0.09212901\n"
          ]
        }
      ]
    },
    {
      "cell_type": "markdown",
      "source": [
        "`kfold 전보다 성능이 훨씬 떨어짐`"
      ],
      "metadata": {
        "id": "yOyruwIxtcxd"
      }
    },
    {
      "cell_type": "code",
      "source": [
        "# # kfold 전 모델링\n",
        "pred_etr = etr.predict(X_test0)\n",
        "pred_rf = rf.predict(X_test0)\n",
        "pred_gbr = gbr.predict(X_test0)\n",
        "pred_xgb = xgb.predict(X_test0)\n",
        "pred_lgb = lgb.predict(X_test0)\n",
        "pred_hgb = hgb.predict(X_test0)\n",
        "pred_ngb = ngb.predict(X_test0)\n",
        "pred_cat = cat_reg.predict(X_test0)"
      ],
      "metadata": {
        "id": "dU4Zng7qsyZH"
      },
      "execution_count": null,
      "outputs": []
    },
    {
      "cell_type": "code",
      "source": [
        "submit = pd.read_csv('sample_submission.csv')\n",
        "# lgb, hgb를 제외한 나머지만 사용\n",
        "submit['actual_productivity'] = (pred_etr + pred_rf + pred_gbr + pred_xgb + pred_ngb + pred_cat) / 6\n",
        "submit"
      ],
      "metadata": {
        "colab": {
          "base_uri": "https://localhost:8080/",
          "height": 424
        },
        "id": "j7-2FpKduSpG",
        "outputId": "979897db-83fe-474b-8869-80bec0a693f6"
      },
      "execution_count": null,
      "outputs": [
        {
          "output_type": "execute_result",
          "data": {
            "text/plain": [
              "            ID  actual_productivity\n",
              "0    TEST_0000             0.314522\n",
              "1    TEST_0001             0.308818\n",
              "2    TEST_0002             0.288389\n",
              "3    TEST_0003             0.313121\n",
              "4    TEST_0004             0.381916\n",
              "..         ...                  ...\n",
              "813  TEST_0813             0.352022\n",
              "814  TEST_0814             0.360864\n",
              "815  TEST_0815             0.352369\n",
              "816  TEST_0816             0.284440\n",
              "817  TEST_0817             0.292187\n",
              "\n",
              "[818 rows x 2 columns]"
            ],
            "text/html": [
              "\n",
              "  <div id=\"df-b7f26ce9-4d50-46c8-8373-3553537f9473\">\n",
              "    <div class=\"colab-df-container\">\n",
              "      <div>\n",
              "<style scoped>\n",
              "    .dataframe tbody tr th:only-of-type {\n",
              "        vertical-align: middle;\n",
              "    }\n",
              "\n",
              "    .dataframe tbody tr th {\n",
              "        vertical-align: top;\n",
              "    }\n",
              "\n",
              "    .dataframe thead th {\n",
              "        text-align: right;\n",
              "    }\n",
              "</style>\n",
              "<table border=\"1\" class=\"dataframe\">\n",
              "  <thead>\n",
              "    <tr style=\"text-align: right;\">\n",
              "      <th></th>\n",
              "      <th>ID</th>\n",
              "      <th>actual_productivity</th>\n",
              "    </tr>\n",
              "  </thead>\n",
              "  <tbody>\n",
              "    <tr>\n",
              "      <th>0</th>\n",
              "      <td>TEST_0000</td>\n",
              "      <td>0.314522</td>\n",
              "    </tr>\n",
              "    <tr>\n",
              "      <th>1</th>\n",
              "      <td>TEST_0001</td>\n",
              "      <td>0.308818</td>\n",
              "    </tr>\n",
              "    <tr>\n",
              "      <th>2</th>\n",
              "      <td>TEST_0002</td>\n",
              "      <td>0.288389</td>\n",
              "    </tr>\n",
              "    <tr>\n",
              "      <th>3</th>\n",
              "      <td>TEST_0003</td>\n",
              "      <td>0.313121</td>\n",
              "    </tr>\n",
              "    <tr>\n",
              "      <th>4</th>\n",
              "      <td>TEST_0004</td>\n",
              "      <td>0.381916</td>\n",
              "    </tr>\n",
              "    <tr>\n",
              "      <th>...</th>\n",
              "      <td>...</td>\n",
              "      <td>...</td>\n",
              "    </tr>\n",
              "    <tr>\n",
              "      <th>813</th>\n",
              "      <td>TEST_0813</td>\n",
              "      <td>0.352022</td>\n",
              "    </tr>\n",
              "    <tr>\n",
              "      <th>814</th>\n",
              "      <td>TEST_0814</td>\n",
              "      <td>0.360864</td>\n",
              "    </tr>\n",
              "    <tr>\n",
              "      <th>815</th>\n",
              "      <td>TEST_0815</td>\n",
              "      <td>0.352369</td>\n",
              "    </tr>\n",
              "    <tr>\n",
              "      <th>816</th>\n",
              "      <td>TEST_0816</td>\n",
              "      <td>0.284440</td>\n",
              "    </tr>\n",
              "    <tr>\n",
              "      <th>817</th>\n",
              "      <td>TEST_0817</td>\n",
              "      <td>0.292187</td>\n",
              "    </tr>\n",
              "  </tbody>\n",
              "</table>\n",
              "<p>818 rows × 2 columns</p>\n",
              "</div>\n",
              "      <button class=\"colab-df-convert\" onclick=\"convertToInteractive('df-b7f26ce9-4d50-46c8-8373-3553537f9473')\"\n",
              "              title=\"Convert this dataframe to an interactive table.\"\n",
              "              style=\"display:none;\">\n",
              "        \n",
              "  <svg xmlns=\"http://www.w3.org/2000/svg\" height=\"24px\"viewBox=\"0 0 24 24\"\n",
              "       width=\"24px\">\n",
              "    <path d=\"M0 0h24v24H0V0z\" fill=\"none\"/>\n",
              "    <path d=\"M18.56 5.44l.94 2.06.94-2.06 2.06-.94-2.06-.94-.94-2.06-.94 2.06-2.06.94zm-11 1L8.5 8.5l.94-2.06 2.06-.94-2.06-.94L8.5 2.5l-.94 2.06-2.06.94zm10 10l.94 2.06.94-2.06 2.06-.94-2.06-.94-.94-2.06-.94 2.06-2.06.94z\"/><path d=\"M17.41 7.96l-1.37-1.37c-.4-.4-.92-.59-1.43-.59-.52 0-1.04.2-1.43.59L10.3 9.45l-7.72 7.72c-.78.78-.78 2.05 0 2.83L4 21.41c.39.39.9.59 1.41.59.51 0 1.02-.2 1.41-.59l7.78-7.78 2.81-2.81c.8-.78.8-2.07 0-2.86zM5.41 20L4 18.59l7.72-7.72 1.47 1.35L5.41 20z\"/>\n",
              "  </svg>\n",
              "      </button>\n",
              "      \n",
              "  <style>\n",
              "    .colab-df-container {\n",
              "      display:flex;\n",
              "      flex-wrap:wrap;\n",
              "      gap: 12px;\n",
              "    }\n",
              "\n",
              "    .colab-df-convert {\n",
              "      background-color: #E8F0FE;\n",
              "      border: none;\n",
              "      border-radius: 50%;\n",
              "      cursor: pointer;\n",
              "      display: none;\n",
              "      fill: #1967D2;\n",
              "      height: 32px;\n",
              "      padding: 0 0 0 0;\n",
              "      width: 32px;\n",
              "    }\n",
              "\n",
              "    .colab-df-convert:hover {\n",
              "      background-color: #E2EBFA;\n",
              "      box-shadow: 0px 1px 2px rgba(60, 64, 67, 0.3), 0px 1px 3px 1px rgba(60, 64, 67, 0.15);\n",
              "      fill: #174EA6;\n",
              "    }\n",
              "\n",
              "    [theme=dark] .colab-df-convert {\n",
              "      background-color: #3B4455;\n",
              "      fill: #D2E3FC;\n",
              "    }\n",
              "\n",
              "    [theme=dark] .colab-df-convert:hover {\n",
              "      background-color: #434B5C;\n",
              "      box-shadow: 0px 1px 3px 1px rgba(0, 0, 0, 0.15);\n",
              "      filter: drop-shadow(0px 1px 2px rgba(0, 0, 0, 0.3));\n",
              "      fill: #FFFFFF;\n",
              "    }\n",
              "  </style>\n",
              "\n",
              "      <script>\n",
              "        const buttonEl =\n",
              "          document.querySelector('#df-b7f26ce9-4d50-46c8-8373-3553537f9473 button.colab-df-convert');\n",
              "        buttonEl.style.display =\n",
              "          google.colab.kernel.accessAllowed ? 'block' : 'none';\n",
              "\n",
              "        async function convertToInteractive(key) {\n",
              "          const element = document.querySelector('#df-b7f26ce9-4d50-46c8-8373-3553537f9473');\n",
              "          const dataTable =\n",
              "            await google.colab.kernel.invokeFunction('convertToInteractive',\n",
              "                                                     [key], {});\n",
              "          if (!dataTable) return;\n",
              "\n",
              "          const docLinkHtml = 'Like what you see? Visit the ' +\n",
              "            '<a target=\"_blank\" href=https://colab.research.google.com/notebooks/data_table.ipynb>data table notebook</a>'\n",
              "            + ' to learn more about interactive tables.';\n",
              "          element.innerHTML = '';\n",
              "          dataTable['output_type'] = 'display_data';\n",
              "          await google.colab.output.renderOutput(dataTable, element);\n",
              "          const docLink = document.createElement('div');\n",
              "          docLink.innerHTML = docLinkHtml;\n",
              "          element.appendChild(docLink);\n",
              "        }\n",
              "      </script>\n",
              "    </div>\n",
              "  </div>\n",
              "  "
            ]
          },
          "metadata": {},
          "execution_count": 56
        }
      ]
    },
    {
      "cell_type": "code",
      "source": [
        "submit.to_csv('submit_13.csv', index=False)"
      ],
      "metadata": {
        "id": "hxmvd88vu8Mo"
      },
      "execution_count": null,
      "outputs": []
    }
  ]
}