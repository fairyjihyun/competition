{
  "nbformat": 4,
  "nbformat_minor": 0,
  "metadata": {
    "colab": {
      "provenance": [],
      "machine_shape": "hm",
      "authorship_tag": "ABX9TyP9NgJGAgFvC0z2VKHfsVrR",
      "include_colab_link": true
    },
    "kernelspec": {
      "name": "python3",
      "display_name": "Python 3"
    },
    "language_info": {
      "name": "python"
    },
    "accelerator": "GPU",
    "gpuClass": "standard"
  },
  "cells": [
    {
      "cell_type": "markdown",
      "metadata": {
        "id": "view-in-github",
        "colab_type": "text"
      },
      "source": [
        "<a href=\"https://colab.research.google.com/github/hamzzihyun/competition/blob/main/DACON/%ED%95%B4%EC%99%B8%EB%B6%80%EB%8F%99%EC%82%B0%EC%9B%94%EC%84%B8%EC%98%88%EC%B8%A1AI.ipynb\" target=\"_parent\"><img src=\"https://colab.research.google.com/assets/colab-badge.svg\" alt=\"Open In Colab\"/></a>"
      ]
    },
    {
      "cell_type": "code",
      "source": [
        "# 라이브러리 설치\n",
        "!pip install Bio\n",
        "!pip install catboost"
      ],
      "metadata": {
        "id": "QTXu4ULK2emk"
      },
      "execution_count": null,
      "outputs": []
    },
    {
      "cell_type": "code",
      "source": [
        "from google.colab import drive\n",
        "drive.mount('/content/drive')"
      ],
      "metadata": {
        "colab": {
          "base_uri": "https://localhost:8080/"
        },
        "id": "k88_X6F-9tuN",
        "outputId": "362c6ad4-e94f-495a-a97c-0225e7b75c39"
      },
      "execution_count": null,
      "outputs": [
        {
          "output_type": "stream",
          "name": "stdout",
          "text": [
            "Mounted at /content/drive\n"
          ]
        }
      ]
    },
    {
      "cell_type": "markdown",
      "source": [
        "## Import"
      ],
      "metadata": {
        "id": "swUAeQQ795AE"
      }
    },
    {
      "cell_type": "code",
      "source": [
        "import sys\n",
        "import random\n",
        "import pandas as pd\n",
        "import numpy as np\n",
        "import os\n",
        "import torch\n",
        "import pickle\n",
        "from tqdm import tqdm\n",
        "import Bio\n",
        "from Bio.SeqUtils.ProtParam import ProteinAnalysis\n",
        "\n",
        "import matplotlib.pyplot as plt\n",
        "import seaborn as sns\n",
        "\n",
        "from sklearn.preprocessing import OneHotEncoder\n",
        "\n",
        "from tqdm import tqdm\n",
        "import sklearn\n",
        "import catboost\n",
        "from sklearn.metrics import f1_score\n",
        "import warnings\n",
        "\n",
        "# from pycaret.regression import *\n",
        "\n",
        "warnings.filterwarnings(action='ignore')\n",
        "print('파이썬 버전 : '+sys.version)\n",
        "print('catboost 버전 : '+catboost.__version__)\n",
        "print('torch 버전 : '+torch.__version__)\n",
        "print('numpy 버전 : '+np.__version__)\n",
        "print('pandas 버전 : '+pd.__version__)\n",
        "print('sklearn 버전 : '+sklearn.__version__)\n",
        "!nvidia-smi # gpu 환경 A100"
      ],
      "metadata": {
        "id": "jJ2oFquO95sN",
        "colab": {
          "base_uri": "https://localhost:8080/"
        },
        "outputId": "a9a207f8-128f-4a30-d214-468edf572549"
      },
      "execution_count": null,
      "outputs": [
        {
          "output_type": "stream",
          "name": "stdout",
          "text": [
            "파이썬 버전 : 3.8.16 (default, Dec  7 2022, 01:12:13) \n",
            "[GCC 7.5.0]\n",
            "catboost 버전 : 1.1.1\n",
            "torch 버전 : 1.13.0+cu116\n",
            "numpy 버전 : 1.21.6\n",
            "pandas 버전 : 1.3.5\n",
            "sklearn 버전 : 1.0.2\n",
            "Sat Dec 24 06:05:44 2022       \n",
            "+-----------------------------------------------------------------------------+\n",
            "| NVIDIA-SMI 460.32.03    Driver Version: 460.32.03    CUDA Version: 11.2     |\n",
            "|-------------------------------+----------------------+----------------------+\n",
            "| GPU  Name        Persistence-M| Bus-Id        Disp.A | Volatile Uncorr. ECC |\n",
            "| Fan  Temp  Perf  Pwr:Usage/Cap|         Memory-Usage | GPU-Util  Compute M. |\n",
            "|                               |                      |               MIG M. |\n",
            "|===============================+======================+======================|\n",
            "|   0  Tesla T4            Off  | 00000000:00:04.0 Off |                    0 |\n",
            "| N/A   42C    P0    26W /  70W |      0MiB / 15109MiB |      0%      Default |\n",
            "|                               |                      |                  N/A |\n",
            "+-------------------------------+----------------------+----------------------+\n",
            "                                                                               \n",
            "+-----------------------------------------------------------------------------+\n",
            "| Processes:                                                                  |\n",
            "|  GPU   GI   CI        PID   Type   Process name                  GPU Memory |\n",
            "|        ID   ID                                                   Usage      |\n",
            "|=============================================================================|\n",
            "|  No running processes found                                                 |\n",
            "+-----------------------------------------------------------------------------+\n"
          ]
        }
      ]
    },
    {
      "cell_type": "markdown",
      "source": [
        "## Fixed RandomSeed"
      ],
      "metadata": {
        "id": "E7eBTO1L-HWI"
      }
    },
    {
      "cell_type": "code",
      "source": [
        "def seed_everything(seed):\n",
        "    random.seed(seed)\n",
        "    os.environ['PYTHONHASHSEED'] = str(seed)\n",
        "    np.random.seed(seed)\n",
        "\n",
        "seed_everything(42) # Seed 고정"
      ],
      "metadata": {
        "id": "bF9n6V2F-Bgy"
      },
      "execution_count": null,
      "outputs": []
    },
    {
      "cell_type": "markdown",
      "source": [
        "## Data Load"
      ],
      "metadata": {
        "id": "fPVmwQy2-J1H"
      }
    },
    {
      "cell_type": "code",
      "source": [
        "path = '/content/drive/MyDrive/Colab Notebooks/DACON/해외 부동산 월세 예측 AI'"
      ],
      "metadata": {
        "id": "oOWRU1FKOeA5"
      },
      "execution_count": null,
      "outputs": []
    },
    {
      "cell_type": "code",
      "source": [
        "train = pd.read_csv(path + '/open/train.csv')\n",
        "test = pd.read_csv(path + '/open/test.csv')"
      ],
      "metadata": {
        "id": "UkB8aD-x-G7L"
      },
      "execution_count": null,
      "outputs": []
    },
    {
      "cell_type": "code",
      "source": [
        "def get_x_y(df):\n",
        "  if 'monthlyRent(us_dollar)' in df.columns:\n",
        "    df_x = df.drop(columns=['ID','monthlyRent(us_dollar)'])\n",
        "    df_y = df['monthlyRent(us_dollar)']\n",
        "    return df_x, df_y\n",
        "  else:\n",
        "    df_x = df.drop(columns=['ID'])\n",
        "    return df_x"
      ],
      "metadata": {
        "id": "dUKYXkkE2lZg"
      },
      "execution_count": null,
      "outputs": []
    },
    {
      "cell_type": "code",
      "source": [
        "train_x, train_y = get_x_y(train)\n",
        "test_x = get_x_y(test)"
      ],
      "metadata": {
        "id": "LtsPDcc82mrz"
      },
      "execution_count": null,
      "outputs": []
    },
    {
      "cell_type": "code",
      "source": [
        "print(train_x.shape)\n",
        "print(train_x.columns)\n",
        "train_x.head()"
      ],
      "metadata": {
        "colab": {
          "base_uri": "https://localhost:8080/",
          "height": 413
        },
        "id": "O10pCadCvKjB",
        "outputId": "724299eb-0611-4280-e83a-a3fe7bc78f0d"
      },
      "execution_count": null,
      "outputs": [
        {
          "output_type": "stream",
          "name": "stdout",
          "text": [
            "(8692, 10)\n",
            "Index(['propertyType', 'bedrooms', 'latitude', 'longitude', 'suburbName',\n",
            "       'distanceMetro(km)', 'distanceAirport(km)', 'distanceHospital(km)',\n",
            "       'distanceRailway(km)', 'area(square_meters)'],\n",
            "      dtype='object')\n"
          ]
        },
        {
          "output_type": "execute_result",
          "data": {
            "text/plain": [
              "        propertyType  bedrooms   latitude  longitude   suburbName  \\\n",
              "0          Apartment         3  28.638710  77.295822   Delhi East   \n",
              "1  Independent Floor         1  28.498940  77.207191  Delhi South   \n",
              "2  Independent Floor         3  28.714123  77.154404  Delhi North   \n",
              "3  Independent Floor         3  28.704330  77.149956        Other   \n",
              "4          Apartment         4  28.577915  77.049446       Dwarka   \n",
              "\n",
              "   distanceMetro(km)  distanceAirport(km)  distanceHospital(km)  \\\n",
              "0           0.312579            22.646032             11.726966   \n",
              "1           2.486167            13.500583              7.527761   \n",
              "2           1.528794            18.918243             17.135939   \n",
              "3           0.967121            17.749252             16.251937   \n",
              "4           0.834506             4.288189             15.541840   \n",
              "\n",
              "   distanceRailway(km)  area(square_meters)  \n",
              "0             7.352495                83.61  \n",
              "1            15.877066                83.61  \n",
              "2            10.315737                78.97  \n",
              "3             9.797817               162.58  \n",
              "4            18.179806               218.32  "
            ],
            "text/html": [
              "\n",
              "  <div id=\"df-27ba5921-89be-433a-ad21-eed96a61ef9b\">\n",
              "    <div class=\"colab-df-container\">\n",
              "      <div>\n",
              "<style scoped>\n",
              "    .dataframe tbody tr th:only-of-type {\n",
              "        vertical-align: middle;\n",
              "    }\n",
              "\n",
              "    .dataframe tbody tr th {\n",
              "        vertical-align: top;\n",
              "    }\n",
              "\n",
              "    .dataframe thead th {\n",
              "        text-align: right;\n",
              "    }\n",
              "</style>\n",
              "<table border=\"1\" class=\"dataframe\">\n",
              "  <thead>\n",
              "    <tr style=\"text-align: right;\">\n",
              "      <th></th>\n",
              "      <th>propertyType</th>\n",
              "      <th>bedrooms</th>\n",
              "      <th>latitude</th>\n",
              "      <th>longitude</th>\n",
              "      <th>suburbName</th>\n",
              "      <th>distanceMetro(km)</th>\n",
              "      <th>distanceAirport(km)</th>\n",
              "      <th>distanceHospital(km)</th>\n",
              "      <th>distanceRailway(km)</th>\n",
              "      <th>area(square_meters)</th>\n",
              "    </tr>\n",
              "  </thead>\n",
              "  <tbody>\n",
              "    <tr>\n",
              "      <th>0</th>\n",
              "      <td>Apartment</td>\n",
              "      <td>3</td>\n",
              "      <td>28.638710</td>\n",
              "      <td>77.295822</td>\n",
              "      <td>Delhi East</td>\n",
              "      <td>0.312579</td>\n",
              "      <td>22.646032</td>\n",
              "      <td>11.726966</td>\n",
              "      <td>7.352495</td>\n",
              "      <td>83.61</td>\n",
              "    </tr>\n",
              "    <tr>\n",
              "      <th>1</th>\n",
              "      <td>Independent Floor</td>\n",
              "      <td>1</td>\n",
              "      <td>28.498940</td>\n",
              "      <td>77.207191</td>\n",
              "      <td>Delhi South</td>\n",
              "      <td>2.486167</td>\n",
              "      <td>13.500583</td>\n",
              "      <td>7.527761</td>\n",
              "      <td>15.877066</td>\n",
              "      <td>83.61</td>\n",
              "    </tr>\n",
              "    <tr>\n",
              "      <th>2</th>\n",
              "      <td>Independent Floor</td>\n",
              "      <td>3</td>\n",
              "      <td>28.714123</td>\n",
              "      <td>77.154404</td>\n",
              "      <td>Delhi North</td>\n",
              "      <td>1.528794</td>\n",
              "      <td>18.918243</td>\n",
              "      <td>17.135939</td>\n",
              "      <td>10.315737</td>\n",
              "      <td>78.97</td>\n",
              "    </tr>\n",
              "    <tr>\n",
              "      <th>3</th>\n",
              "      <td>Independent Floor</td>\n",
              "      <td>3</td>\n",
              "      <td>28.704330</td>\n",
              "      <td>77.149956</td>\n",
              "      <td>Other</td>\n",
              "      <td>0.967121</td>\n",
              "      <td>17.749252</td>\n",
              "      <td>16.251937</td>\n",
              "      <td>9.797817</td>\n",
              "      <td>162.58</td>\n",
              "    </tr>\n",
              "    <tr>\n",
              "      <th>4</th>\n",
              "      <td>Apartment</td>\n",
              "      <td>4</td>\n",
              "      <td>28.577915</td>\n",
              "      <td>77.049446</td>\n",
              "      <td>Dwarka</td>\n",
              "      <td>0.834506</td>\n",
              "      <td>4.288189</td>\n",
              "      <td>15.541840</td>\n",
              "      <td>18.179806</td>\n",
              "      <td>218.32</td>\n",
              "    </tr>\n",
              "  </tbody>\n",
              "</table>\n",
              "</div>\n",
              "      <button class=\"colab-df-convert\" onclick=\"convertToInteractive('df-27ba5921-89be-433a-ad21-eed96a61ef9b')\"\n",
              "              title=\"Convert this dataframe to an interactive table.\"\n",
              "              style=\"display:none;\">\n",
              "        \n",
              "  <svg xmlns=\"http://www.w3.org/2000/svg\" height=\"24px\"viewBox=\"0 0 24 24\"\n",
              "       width=\"24px\">\n",
              "    <path d=\"M0 0h24v24H0V0z\" fill=\"none\"/>\n",
              "    <path d=\"M18.56 5.44l.94 2.06.94-2.06 2.06-.94-2.06-.94-.94-2.06-.94 2.06-2.06.94zm-11 1L8.5 8.5l.94-2.06 2.06-.94-2.06-.94L8.5 2.5l-.94 2.06-2.06.94zm10 10l.94 2.06.94-2.06 2.06-.94-2.06-.94-.94-2.06-.94 2.06-2.06.94z\"/><path d=\"M17.41 7.96l-1.37-1.37c-.4-.4-.92-.59-1.43-.59-.52 0-1.04.2-1.43.59L10.3 9.45l-7.72 7.72c-.78.78-.78 2.05 0 2.83L4 21.41c.39.39.9.59 1.41.59.51 0 1.02-.2 1.41-.59l7.78-7.78 2.81-2.81c.8-.78.8-2.07 0-2.86zM5.41 20L4 18.59l7.72-7.72 1.47 1.35L5.41 20z\"/>\n",
              "  </svg>\n",
              "      </button>\n",
              "      \n",
              "  <style>\n",
              "    .colab-df-container {\n",
              "      display:flex;\n",
              "      flex-wrap:wrap;\n",
              "      gap: 12px;\n",
              "    }\n",
              "\n",
              "    .colab-df-convert {\n",
              "      background-color: #E8F0FE;\n",
              "      border: none;\n",
              "      border-radius: 50%;\n",
              "      cursor: pointer;\n",
              "      display: none;\n",
              "      fill: #1967D2;\n",
              "      height: 32px;\n",
              "      padding: 0 0 0 0;\n",
              "      width: 32px;\n",
              "    }\n",
              "\n",
              "    .colab-df-convert:hover {\n",
              "      background-color: #E2EBFA;\n",
              "      box-shadow: 0px 1px 2px rgba(60, 64, 67, 0.3), 0px 1px 3px 1px rgba(60, 64, 67, 0.15);\n",
              "      fill: #174EA6;\n",
              "    }\n",
              "\n",
              "    [theme=dark] .colab-df-convert {\n",
              "      background-color: #3B4455;\n",
              "      fill: #D2E3FC;\n",
              "    }\n",
              "\n",
              "    [theme=dark] .colab-df-convert:hover {\n",
              "      background-color: #434B5C;\n",
              "      box-shadow: 0px 1px 3px 1px rgba(0, 0, 0, 0.15);\n",
              "      filter: drop-shadow(0px 1px 2px rgba(0, 0, 0, 0.3));\n",
              "      fill: #FFFFFF;\n",
              "    }\n",
              "  </style>\n",
              "\n",
              "      <script>\n",
              "        const buttonEl =\n",
              "          document.querySelector('#df-27ba5921-89be-433a-ad21-eed96a61ef9b button.colab-df-convert');\n",
              "        buttonEl.style.display =\n",
              "          google.colab.kernel.accessAllowed ? 'block' : 'none';\n",
              "\n",
              "        async function convertToInteractive(key) {\n",
              "          const element = document.querySelector('#df-27ba5921-89be-433a-ad21-eed96a61ef9b');\n",
              "          const dataTable =\n",
              "            await google.colab.kernel.invokeFunction('convertToInteractive',\n",
              "                                                     [key], {});\n",
              "          if (!dataTable) return;\n",
              "\n",
              "          const docLinkHtml = 'Like what you see? Visit the ' +\n",
              "            '<a target=\"_blank\" href=https://colab.research.google.com/notebooks/data_table.ipynb>data table notebook</a>'\n",
              "            + ' to learn more about interactive tables.';\n",
              "          element.innerHTML = '';\n",
              "          dataTable['output_type'] = 'display_data';\n",
              "          await google.colab.output.renderOutput(dataTable, element);\n",
              "          const docLink = document.createElement('div');\n",
              "          docLink.innerHTML = docLinkHtml;\n",
              "          element.appendChild(docLink);\n",
              "        }\n",
              "      </script>\n",
              "    </div>\n",
              "  </div>\n",
              "  "
            ]
          },
          "metadata": {},
          "execution_count": 9
        }
      ]
    },
    {
      "cell_type": "code",
      "source": [
        "train_x.info()"
      ],
      "metadata": {
        "colab": {
          "base_uri": "https://localhost:8080/"
        },
        "id": "soXC6QK4vLr0",
        "outputId": "6c0acb8d-2e6d-4217-ea6c-0ea756234765"
      },
      "execution_count": null,
      "outputs": [
        {
          "output_type": "stream",
          "name": "stdout",
          "text": [
            "<class 'pandas.core.frame.DataFrame'>\n",
            "RangeIndex: 8692 entries, 0 to 8691\n",
            "Data columns (total 10 columns):\n",
            " #   Column                Non-Null Count  Dtype  \n",
            "---  ------                --------------  -----  \n",
            " 0   propertyType          8692 non-null   object \n",
            " 1   bedrooms              8692 non-null   int64  \n",
            " 2   latitude              8692 non-null   float64\n",
            " 3   longitude             8692 non-null   float64\n",
            " 4   suburbName            8692 non-null   object \n",
            " 5   distanceMetro(km)     8692 non-null   float64\n",
            " 6   distanceAirport(km)   8692 non-null   float64\n",
            " 7   distanceHospital(km)  8692 non-null   float64\n",
            " 8   distanceRailway(km)   8692 non-null   float64\n",
            " 9   area(square_meters)   8692 non-null   float64\n",
            "dtypes: float64(7), int64(1), object(2)\n",
            "memory usage: 679.2+ KB\n"
          ]
        }
      ]
    },
    {
      "cell_type": "code",
      "source": [
        "print(test_x.shape)\n",
        "print(test_x.columns)\n",
        "test_x.head()"
      ],
      "metadata": {
        "colab": {
          "base_uri": "https://localhost:8080/",
          "height": 448
        },
        "id": "5cqjGSdivMnd",
        "outputId": "68bf2de1-f790-4ad7-faaf-3e688fd2b655"
      },
      "execution_count": null,
      "outputs": [
        {
          "output_type": "stream",
          "name": "stdout",
          "text": [
            "(8693, 10)\n",
            "Index(['propertyType', 'bedrooms', 'latitude', 'longitude', 'suburbName',\n",
            "       'distanceMetro(km)', 'distanceAirport(km)', 'distanceHospital(km)',\n",
            "       'distanceRailway(km)', 'area(square_meters)'],\n",
            "      dtype='object')\n"
          ]
        },
        {
          "output_type": "execute_result",
          "data": {
            "text/plain": [
              "        propertyType  bedrooms   latitude  longitude     suburbName  \\\n",
              "0  Independent House         1  28.644199  77.162407  Delhi Central   \n",
              "1  Independent Floor         3  28.724508  77.087051     West Delhi   \n",
              "2  Independent Floor         3  28.672693  77.103973     West Delhi   \n",
              "3  Independent Floor         1  28.645021  77.169235  Delhi Central   \n",
              "4  Independent Floor         1  28.607435  77.289627     Delhi East   \n",
              "\n",
              "   distanceMetro(km)  distanceAirport(km)  distanceHospital(km)  \\\n",
              "0           0.675741            12.480545              9.653289   \n",
              "1           1.992787            18.799390             21.086929   \n",
              "2           0.678442            13.190977             15.514042   \n",
              "3           0.003422            12.968327              9.448341   \n",
              "4           0.299808            20.878677              9.180785   \n",
              "\n",
              "   distanceRailway(km)  area(square_meters)  \n",
              "0             5.706151                55.74  \n",
              "1            15.963967                88.26  \n",
              "2            11.916831               111.48  \n",
              "3             5.045234                59.92  \n",
              "4             7.736478                27.87  "
            ],
            "text/html": [
              "\n",
              "  <div id=\"df-e5eae57b-6817-42fe-a2c1-b489233d18d5\">\n",
              "    <div class=\"colab-df-container\">\n",
              "      <div>\n",
              "<style scoped>\n",
              "    .dataframe tbody tr th:only-of-type {\n",
              "        vertical-align: middle;\n",
              "    }\n",
              "\n",
              "    .dataframe tbody tr th {\n",
              "        vertical-align: top;\n",
              "    }\n",
              "\n",
              "    .dataframe thead th {\n",
              "        text-align: right;\n",
              "    }\n",
              "</style>\n",
              "<table border=\"1\" class=\"dataframe\">\n",
              "  <thead>\n",
              "    <tr style=\"text-align: right;\">\n",
              "      <th></th>\n",
              "      <th>propertyType</th>\n",
              "      <th>bedrooms</th>\n",
              "      <th>latitude</th>\n",
              "      <th>longitude</th>\n",
              "      <th>suburbName</th>\n",
              "      <th>distanceMetro(km)</th>\n",
              "      <th>distanceAirport(km)</th>\n",
              "      <th>distanceHospital(km)</th>\n",
              "      <th>distanceRailway(km)</th>\n",
              "      <th>area(square_meters)</th>\n",
              "    </tr>\n",
              "  </thead>\n",
              "  <tbody>\n",
              "    <tr>\n",
              "      <th>0</th>\n",
              "      <td>Independent House</td>\n",
              "      <td>1</td>\n",
              "      <td>28.644199</td>\n",
              "      <td>77.162407</td>\n",
              "      <td>Delhi Central</td>\n",
              "      <td>0.675741</td>\n",
              "      <td>12.480545</td>\n",
              "      <td>9.653289</td>\n",
              "      <td>5.706151</td>\n",
              "      <td>55.74</td>\n",
              "    </tr>\n",
              "    <tr>\n",
              "      <th>1</th>\n",
              "      <td>Independent Floor</td>\n",
              "      <td>3</td>\n",
              "      <td>28.724508</td>\n",
              "      <td>77.087051</td>\n",
              "      <td>West Delhi</td>\n",
              "      <td>1.992787</td>\n",
              "      <td>18.799390</td>\n",
              "      <td>21.086929</td>\n",
              "      <td>15.963967</td>\n",
              "      <td>88.26</td>\n",
              "    </tr>\n",
              "    <tr>\n",
              "      <th>2</th>\n",
              "      <td>Independent Floor</td>\n",
              "      <td>3</td>\n",
              "      <td>28.672693</td>\n",
              "      <td>77.103973</td>\n",
              "      <td>West Delhi</td>\n",
              "      <td>0.678442</td>\n",
              "      <td>13.190977</td>\n",
              "      <td>15.514042</td>\n",
              "      <td>11.916831</td>\n",
              "      <td>111.48</td>\n",
              "    </tr>\n",
              "    <tr>\n",
              "      <th>3</th>\n",
              "      <td>Independent Floor</td>\n",
              "      <td>1</td>\n",
              "      <td>28.645021</td>\n",
              "      <td>77.169235</td>\n",
              "      <td>Delhi Central</td>\n",
              "      <td>0.003422</td>\n",
              "      <td>12.968327</td>\n",
              "      <td>9.448341</td>\n",
              "      <td>5.045234</td>\n",
              "      <td>59.92</td>\n",
              "    </tr>\n",
              "    <tr>\n",
              "      <th>4</th>\n",
              "      <td>Independent Floor</td>\n",
              "      <td>1</td>\n",
              "      <td>28.607435</td>\n",
              "      <td>77.289627</td>\n",
              "      <td>Delhi East</td>\n",
              "      <td>0.299808</td>\n",
              "      <td>20.878677</td>\n",
              "      <td>9.180785</td>\n",
              "      <td>7.736478</td>\n",
              "      <td>27.87</td>\n",
              "    </tr>\n",
              "  </tbody>\n",
              "</table>\n",
              "</div>\n",
              "      <button class=\"colab-df-convert\" onclick=\"convertToInteractive('df-e5eae57b-6817-42fe-a2c1-b489233d18d5')\"\n",
              "              title=\"Convert this dataframe to an interactive table.\"\n",
              "              style=\"display:none;\">\n",
              "        \n",
              "  <svg xmlns=\"http://www.w3.org/2000/svg\" height=\"24px\"viewBox=\"0 0 24 24\"\n",
              "       width=\"24px\">\n",
              "    <path d=\"M0 0h24v24H0V0z\" fill=\"none\"/>\n",
              "    <path d=\"M18.56 5.44l.94 2.06.94-2.06 2.06-.94-2.06-.94-.94-2.06-.94 2.06-2.06.94zm-11 1L8.5 8.5l.94-2.06 2.06-.94-2.06-.94L8.5 2.5l-.94 2.06-2.06.94zm10 10l.94 2.06.94-2.06 2.06-.94-2.06-.94-.94-2.06-.94 2.06-2.06.94z\"/><path d=\"M17.41 7.96l-1.37-1.37c-.4-.4-.92-.59-1.43-.59-.52 0-1.04.2-1.43.59L10.3 9.45l-7.72 7.72c-.78.78-.78 2.05 0 2.83L4 21.41c.39.39.9.59 1.41.59.51 0 1.02-.2 1.41-.59l7.78-7.78 2.81-2.81c.8-.78.8-2.07 0-2.86zM5.41 20L4 18.59l7.72-7.72 1.47 1.35L5.41 20z\"/>\n",
              "  </svg>\n",
              "      </button>\n",
              "      \n",
              "  <style>\n",
              "    .colab-df-container {\n",
              "      display:flex;\n",
              "      flex-wrap:wrap;\n",
              "      gap: 12px;\n",
              "    }\n",
              "\n",
              "    .colab-df-convert {\n",
              "      background-color: #E8F0FE;\n",
              "      border: none;\n",
              "      border-radius: 50%;\n",
              "      cursor: pointer;\n",
              "      display: none;\n",
              "      fill: #1967D2;\n",
              "      height: 32px;\n",
              "      padding: 0 0 0 0;\n",
              "      width: 32px;\n",
              "    }\n",
              "\n",
              "    .colab-df-convert:hover {\n",
              "      background-color: #E2EBFA;\n",
              "      box-shadow: 0px 1px 2px rgba(60, 64, 67, 0.3), 0px 1px 3px 1px rgba(60, 64, 67, 0.15);\n",
              "      fill: #174EA6;\n",
              "    }\n",
              "\n",
              "    [theme=dark] .colab-df-convert {\n",
              "      background-color: #3B4455;\n",
              "      fill: #D2E3FC;\n",
              "    }\n",
              "\n",
              "    [theme=dark] .colab-df-convert:hover {\n",
              "      background-color: #434B5C;\n",
              "      box-shadow: 0px 1px 3px 1px rgba(0, 0, 0, 0.15);\n",
              "      filter: drop-shadow(0px 1px 2px rgba(0, 0, 0, 0.3));\n",
              "      fill: #FFFFFF;\n",
              "    }\n",
              "  </style>\n",
              "\n",
              "      <script>\n",
              "        const buttonEl =\n",
              "          document.querySelector('#df-e5eae57b-6817-42fe-a2c1-b489233d18d5 button.colab-df-convert');\n",
              "        buttonEl.style.display =\n",
              "          google.colab.kernel.accessAllowed ? 'block' : 'none';\n",
              "\n",
              "        async function convertToInteractive(key) {\n",
              "          const element = document.querySelector('#df-e5eae57b-6817-42fe-a2c1-b489233d18d5');\n",
              "          const dataTable =\n",
              "            await google.colab.kernel.invokeFunction('convertToInteractive',\n",
              "                                                     [key], {});\n",
              "          if (!dataTable) return;\n",
              "\n",
              "          const docLinkHtml = 'Like what you see? Visit the ' +\n",
              "            '<a target=\"_blank\" href=https://colab.research.google.com/notebooks/data_table.ipynb>data table notebook</a>'\n",
              "            + ' to learn more about interactive tables.';\n",
              "          element.innerHTML = '';\n",
              "          dataTable['output_type'] = 'display_data';\n",
              "          await google.colab.output.renderOutput(dataTable, element);\n",
              "          const docLink = document.createElement('div');\n",
              "          docLink.innerHTML = docLinkHtml;\n",
              "          element.appendChild(docLink);\n",
              "        }\n",
              "      </script>\n",
              "    </div>\n",
              "  </div>\n",
              "  "
            ]
          },
          "metadata": {},
          "execution_count": 11
        }
      ]
    },
    {
      "cell_type": "code",
      "source": [
        "# feature selection\n",
        "corrmat = train.corr()\n",
        "print(corrmat['monthlyRent(us_dollar)'])"
      ],
      "metadata": {
        "colab": {
          "base_uri": "https://localhost:8080/"
        },
        "id": "ozt4AUZrvNgc",
        "outputId": "20039a11-cc08-4ca2-fd56-7cb6e9f1c8c7"
      },
      "execution_count": null,
      "outputs": [
        {
          "output_type": "stream",
          "name": "stdout",
          "text": [
            "bedrooms                  0.632692\n",
            "latitude                 -0.067949\n",
            "longitude                -0.013542\n",
            "distanceMetro(km)        -0.030421\n",
            "distanceAirport(km)      -0.078037\n",
            "distanceHospital(km)     -0.142462\n",
            "distanceRailway(km)      -0.027647\n",
            "area(square_meters)       0.770978\n",
            "monthlyRent(us_dollar)    1.000000\n",
            "Name: monthlyRent(us_dollar), dtype: float64\n"
          ]
        }
      ]
    },
    {
      "cell_type": "code",
      "source": [
        "fig, axs = plt.subplots(figsize=(16,8), ncols=4, nrows=2)\n",
        "\n",
        "lm_features = ['bedrooms','latitude','longitude','distanceMetro(km)','distanceAirport(km)',\n",
        "               'distanceHospital(km)','distanceRailway(km)','area(square_meters)']\n",
        "for i, feature in enumerate(lm_features):\n",
        "  row = int(i/4) # 2행\n",
        "  col = i%4\n",
        "\n",
        "  sns.regplot(x=feature, y='monthlyRent(us_dollar)', data=train, ax=axs[row][col])"
      ],
      "metadata": {
        "colab": {
          "base_uri": "https://localhost:8080/",
          "height": 404
        },
        "id": "75gw0--YvOzP",
        "outputId": "236a8b8f-1463-4a74-e1df-146348c29bc6"
      },
      "execution_count": null,
      "outputs": [
        {
          "output_type": "display_data",
          "data": {
            "text/plain": [
              "<Figure size 1152x576 with 8 Axes>"
            ],
            "image/png": "[encoded data removed]"
          },
          "metadata": {
            "needs_background": "light"
          }
        }
      ]
    },
    {
      "cell_type": "markdown",
      "source": [
        "## Data Pre-processing"
      ],
      "metadata": {
        "id": "tPrVa3L1-UZG"
      }
    },
    {
      "cell_type": "code",
      "source": [
        "# qualitative column one-hot encoding\n",
        "qual_col = ['propertyType','suburbName']\n",
        "ohe = OneHotEncoder(sparse=False)\n",
        "\n",
        "for i in qual_col:\n",
        "    train_x = pd.concat([train_x, pd.DataFrame(ohe.fit_transform(train_x[[i]]), columns=ohe.categories_[0])], axis=1)\n",
        "    \n",
        "    for qual_value in np.unique(test_x[i]): \n",
        "        if qual_value not in np.unique(ohe.categories_): \n",
        "            ohe.categories_ = np.append(ohe.categories_, qual_value)\n",
        "    # One Hot Encoder가 Test 데이터로부터 Fitting되는 것은 Data Leakage이므로, Test 데이터에는 Train 데이터로 Fitting된 One Hot Encoder로부터 transform만 수행되어야 합니다.\n",
        "    test_x = pd.concat([test_x, pd.DataFrame(ohe.transform(test_x[[i]]), columns=ohe.categories_[0])], axis=1)\n",
        "    \n",
        "train_x = train_x.drop(qual_col, axis=1)\n",
        "test_x = test_x.drop(qual_col, axis=1)\n",
        "print('Done.')"
      ],
      "metadata": {
        "colab": {
          "base_uri": "https://localhost:8080/"
        },
        "id": "G6N8lS8o-OHe",
        "outputId": "1a26db36-4821-4214-aca9-4cd5f94e6c42"
      },
      "execution_count": null,
      "outputs": [
        {
          "output_type": "stream",
          "name": "stdout",
          "text": [
            "Done.\n"
          ]
        }
      ]
    },
    {
      "cell_type": "markdown",
      "source": [
        "## Modeling"
      ],
      "metadata": {
        "id": "QD7HgWW5tGex"
      }
    },
    {
      "cell_type": "code",
      "source": [
        "X = train_x.copy()\n",
        "y = train_y\n",
        "X_test0 = test_x.copy()"
      ],
      "metadata": {
        "id": "72O6p7tEat2o"
      },
      "execution_count": null,
      "outputs": []
    },
    {
      "cell_type": "code",
      "source": [
        "# train 및 test 데이터 분할\n",
        "from sklearn.model_selection import train_test_split\n",
        "\n",
        "X_train, X_valid, y_train, y_valid = train_test_split(X, y, test_size=0.2, random_state=0)\n",
        "X_train.shape, X_valid.shape"
      ],
      "metadata": {
        "colab": {
          "base_uri": "https://localhost:8080/"
        },
        "id": "3qXSh4_dbA6E",
        "outputId": "7b34236b-b5d6-45a8-c97a-a282e82f94c3"
      },
      "execution_count": null,
      "outputs": [
        {
          "output_type": "execute_result",
          "data": {
            "text/plain": [
              "((6953, 24), (1739, 24))"
            ]
          },
          "metadata": {},
          "execution_count": 16
        }
      ]
    },
    {
      "cell_type": "code",
      "source": [
        "# 평가 지표 생성\n",
        "from sklearn.metrics import mean_squared_error\n",
        "from sklearn.metrics import make_scorer\n",
        "\n",
        "def RMSE(y_pred, y):\n",
        "    return mean_squared_error(y_pred, y)**0.5\n",
        "\n",
        "rmse_score = make_scorer(RMSE, greater_is_better=False)"
      ],
      "metadata": {
        "id": "zSkE_GiZcc1t"
      },
      "execution_count": null,
      "outputs": []
    },
    {
      "cell_type": "code",
      "source": [
        "from sklearn.ensemble import RandomForestRegressor, GradientBoostingRegressor\n",
        "from sklearn.tree import DecisionTreeRegressor\n",
        "from sklearn.ensemble import ExtraTreesRegressor\n",
        "from xgboost import XGBRegressor\n",
        "from lightgbm import LGBMRegressor\n",
        "from sklearn.linear_model import ElasticNet\n",
        "from sklearn.ensemble import AdaBoostRegressor\n",
        "from catboost import CatBoostRegressor, Pool\n",
        "from sklearn.ensemble import HistGradientBoostingRegressor\n",
        "from sklearn.linear_model import LinearRegression, Lasso, Ridge, ElasticNet"
      ],
      "metadata": {
        "id": "iURtpaBEcnFk"
      },
      "execution_count": null,
      "outputs": []
    },
    {
      "cell_type": "code",
      "source": [
        "etr=ExtraTreesRegressor(n_estimators=200)\n",
        "lr=LinearRegression()\n",
        "rg=Ridge()\n",
        "rf=RandomForestRegressor(random_state = 42, criterion = 'mse')\n",
        "gbr=GradientBoostingRegressor(random_state = 42, max_depth = 4, learning_rate=0.09, loss='huber', n_estimators=130)\n",
        "xgb=XGBRegressor(random_state = 42, learning_rate=0.05, n_estimators=200)\n",
        "lgb=LGBMRegressor(random_state = 42, learning_rate=0.05, n_estimators=200)\n",
        "ada=AdaBoostRegressor(random_state = 42, learning_rate=0.03, n_estimators=100)\n",
        "hgb=HistGradientBoostingRegressor(random_state=42, scoring=rmse_score, learning_rate=0.09)\n",
        "cat_reg=CatBoostRegressor(depth = 4, random_state = 42, loss_function = 'RMSE', n_estimators = 3000, learning_rate = 0.03, verbose = 0)"
      ],
      "metadata": {
        "id": "rDBGgzcxconi"
      },
      "execution_count": null,
      "outputs": []
    },
    {
      "cell_type": "code",
      "source": [
        "etr.fit(X_train,y_train)\n",
        "lr.fit(X_train,y_train)\n",
        "rg.fit(X_train,y_train)\n",
        "rf.fit(X_train,y_train)\n",
        "gbr.fit(X_train,y_train)\n",
        "xgb.fit(X_train,y_train)\n",
        "lgb.fit(X_train,y_train)\n",
        "ada.fit(X_train,y_train)\n",
        "hgb.fit(X_train,y_train)\n",
        "cat_reg.fit(X_train,y_train)"
      ],
      "metadata": {
        "colab": {
          "base_uri": "https://localhost:8080/"
        },
        "id": "6V__R9DZdDms",
        "outputId": "aaa597ee-23c3-4d86-f35e-b1653b272be1"
      },
      "execution_count": null,
      "outputs": [
        {
          "output_type": "stream",
          "name": "stdout",
          "text": [
            "[06:13:59] WARNING: /workspace/src/objective/regression_obj.cu:152: reg:linear is now deprecated in favor of reg:squarederror.\n"
          ]
        },
        {
          "output_type": "execute_result",
          "data": {
            "text/plain": [
              "<catboost.core.CatBoostRegressor at 0x7fa8b738c6a0>"
            ]
          },
          "metadata": {},
          "execution_count": 20
        }
      ]
    },
    {
      "cell_type": "code",
      "source": [
        "y_etr=etr.predict(X_valid)\n",
        "y_lr=lr.predict(X_valid)\n",
        "y_rg=rg.predict(X_valid)\n",
        "y_rf=rf.predict(X_valid)\n",
        "y_gbr=gbr.predict(X_valid)\n",
        "y_xgb=xgb.predict(X_valid)\n",
        "y_lgb=lgb.predict(X_valid)\n",
        "y_ada=ada.predict(X_valid)\n",
        "y_hgb=hgb.predict(X_valid)\n",
        "y_cat=cat_reg.predict(X_valid)"
      ],
      "metadata": {
        "id": "wMbMGugCdhSo"
      },
      "execution_count": null,
      "outputs": []
    },
    {
      "cell_type": "code",
      "source": [
        "score_etr=RMSE(y_valid, y_etr)\n",
        "score_lr=RMSE(y_valid, y_lr)\n",
        "score_rg=RMSE(y_valid, y_rg)\n",
        "score_rf=RMSE(y_valid, y_rf)\n",
        "score_gbr=RMSE(y_valid, y_gbr)\n",
        "score_xgb=RMSE(y_valid, y_xgb)\n",
        "score_lgb=RMSE(y_valid, y_lgb)\n",
        "score_ada=RMSE(y_valid, y_ada)\n",
        "score_hgb=RMSE(y_valid, y_hgb)\n",
        "score_cat=RMSE(y_valid, y_cat)"
      ],
      "metadata": {
        "id": "WsskcqQ-djVe"
      },
      "execution_count": null,
      "outputs": []
    },
    {
      "cell_type": "code",
      "source": [
        "print(score_etr)\n",
        "print(score_lr)\n",
        "print(score_rg)\n",
        "print(score_rf)\n",
        "print(score_gbr)\n",
        "print(score_xgb)\n",
        "print(score_lgb)\n",
        "print(score_ada)\n",
        "print(score_hgb)\n",
        "print(score_cat)"
      ],
      "metadata": {
        "colab": {
          "base_uri": "https://localhost:8080/"
        },
        "id": "kUCgLEFWdmUN",
        "outputId": "f7aed528-09e8-49c9-cb9f-eac84c9cf57c"
      },
      "execution_count": null,
      "outputs": [
        {
          "output_type": "stream",
          "name": "stdout",
          "text": [
            "104.7875632879067\n",
            "489.3287729863109\n",
            "412.49805682193386\n",
            "104.57371995953588\n",
            "106.28105982174984\n",
            "108.0228432172248\n",
            "103.10428083724939\n",
            "124.07297901682087\n",
            "103.69233973777838\n",
            "101.99571165236516\n"
          ]
        }
      ]
    },
    {
      "cell_type": "markdown",
      "source": [
        "좋은 결과를 보이고 있는 모델들만 선정해줍니다. => ETR + RF + LGB + HGB + CAT"
      ],
      "metadata": {
        "id": "Ajo1_tJ0duMF"
      }
    },
    {
      "cell_type": "markdown",
      "source": [
        "### Kfold"
      ],
      "metadata": {
        "id": "yv6auk03DT4I"
      }
    },
    {
      "cell_type": "code",
      "source": [
        "from sklearn.model_selection import KFold\n",
        "kf = KFold(n_splits = 15, random_state = 42, shuffle = True)"
      ],
      "metadata": {
        "id": "-TxND3dS3vzu"
      },
      "execution_count": null,
      "outputs": []
    },
    {
      "cell_type": "code",
      "source": [
        "X = train_x.copy()\n",
        "# 로그변환\n",
        "y = np.log1p(train_y)\n",
        "target = test_x.copy()"
      ],
      "metadata": {
        "id": "TEBClf_d4cS1"
      },
      "execution_count": null,
      "outputs": []
    },
    {
      "cell_type": "code",
      "source": [
        "# ExtraTreesRegression\n",
        "etr_pred = np.zeros(target.shape[0])\n",
        "etr_val = []\n",
        "for n, (tr_idx, val_idx) in enumerate(kf.split(X, y)) :\n",
        "    tr_x, tr_y = X.iloc[tr_idx], y.iloc[tr_idx]\n",
        "    val_x, val_y = X.iloc[val_idx], np.expm1(y.iloc[val_idx])\n",
        "    \n",
        "    etr = ExtraTreesRegressor(n_estimators=200)\n",
        "    etr.fit(tr_x, tr_y)\n",
        "    \n",
        "    val_pred = np.expm1(etr.predict(val_x))\n",
        "    val_rmse = RMSE(val_y, val_pred)\n",
        "    etr_val.append(val_rmse)\n",
        "    print(f'{n + 1} FOLD rmse = {val_rmse}')\n",
        "    \n",
        "    target_data = Pool(data = target, label = None)\n",
        "    fold_pred = etr.predict(target) / 15\n",
        "    etr_pred += fold_pred\n",
        "print(f'10FOLD Mean of rmse = {np.mean(etr_val)}')"
      ],
      "metadata": {
        "colab": {
          "base_uri": "https://localhost:8080/"
        },
        "id": "70tOnu4-4wBZ",
        "outputId": "7c52903d-c59d-493f-d620-087111dc74f6"
      },
      "execution_count": null,
      "outputs": [
        {
          "output_type": "stream",
          "name": "stdout",
          "text": [
            "1 FOLD rmse = 111.46462737360264\n",
            "2 FOLD rmse = 100.45311267239926\n",
            "3 FOLD rmse = 84.54286654436915\n",
            "4 FOLD rmse = 87.36257211341945\n",
            "5 FOLD rmse = 93.76850366951035\n",
            "6 FOLD rmse = 83.62145103573465\n",
            "7 FOLD rmse = 100.34384428615095\n",
            "8 FOLD rmse = 95.03663933607515\n",
            "9 FOLD rmse = 107.11618307762413\n",
            "10 FOLD rmse = 100.7043274681064\n",
            "11 FOLD rmse = 106.10051602080082\n",
            "12 FOLD rmse = 91.2549671232047\n",
            "13 FOLD rmse = 101.85977634937468\n",
            "14 FOLD rmse = 102.66276673753784\n",
            "15 FOLD rmse = 106.1724800620179\n",
            "10FOLD Mean of rmse = 98.16430892466187\n"
          ]
        }
      ]
    },
    {
      "cell_type": "code",
      "source": [
        "# RandomForestRegressor\n",
        "rf_pred = np.zeros(target.shape[0])\n",
        "rf_val = []\n",
        "for n, (tr_idx, val_idx) in enumerate(kf.split(X, y)) :\n",
        "    tr_x, tr_y = X.iloc[tr_idx], y.iloc[tr_idx]\n",
        "    val_x, val_y = X.iloc[val_idx], np.expm1(y.iloc[val_idx])\n",
        "    \n",
        "    rf = RandomForestRegressor(random_state = 42, criterion = 'mse')\n",
        "    rf.fit(tr_x, tr_y)\n",
        "    \n",
        "    val_pred = np.expm1(rf.predict(val_x))\n",
        "    val_rmse = RMSE(val_y, val_pred)\n",
        "    rf_val.append(val_rmse)\n",
        "    print(f'{n + 1} FOLD rmse = {val_rmse}')\n",
        "    \n",
        "    fold_pred = rf.predict(target) / 15\n",
        "    rf_pred += fold_pred\n",
        "print(f'10FOLD Mean of rmse = {np.mean(rf_val)}')"
      ],
      "metadata": {
        "colab": {
          "base_uri": "https://localhost:8080/"
        },
        "id": "wjEAQPUJ45O1",
        "outputId": "c6645a58-c65b-487b-9cea-972080d7538e"
      },
      "execution_count": null,
      "outputs": [
        {
          "output_type": "stream",
          "name": "stdout",
          "text": [
            "1 FOLD rmse = 112.41418376002139\n",
            "2 FOLD rmse = 103.89078080299377\n",
            "3 FOLD rmse = 86.20665037166646\n",
            "4 FOLD rmse = 90.57929067733687\n",
            "5 FOLD rmse = 87.23886350813818\n",
            "6 FOLD rmse = 84.30242808927896\n",
            "7 FOLD rmse = 97.67432630211044\n",
            "8 FOLD rmse = 99.0208655953665\n",
            "9 FOLD rmse = 113.04323681338644\n",
            "10 FOLD rmse = 96.5972960749064\n",
            "11 FOLD rmse = 97.61211362394751\n",
            "12 FOLD rmse = 87.52072385573098\n",
            "13 FOLD rmse = 107.93487937708423\n",
            "14 FOLD rmse = 98.12317238344299\n",
            "15 FOLD rmse = 108.7328450464327\n",
            "10FOLD Mean of rmse = 98.0594437521229\n"
          ]
        }
      ]
    },
    {
      "cell_type": "code",
      "source": [
        "# lgbr\n",
        "lgb_pred = np.zeros(target.shape[0])\n",
        "lgb_val = []\n",
        "for n, (tr_idx, val_idx) in enumerate(kf.split(X, y)) :\n",
        "    tr_x, tr_y = X.iloc[tr_idx], y.iloc[tr_idx]\n",
        "    val_x, val_y = X.iloc[val_idx], np.expm1(y.iloc[val_idx])\n",
        "    \n",
        "    lgb = LGBMRegressor(random_state = 42, learning_rate=0.05, n_estimators=200)\n",
        "    lgb.fit(tr_x, tr_y)\n",
        "    \n",
        "    val_pred = np.expm1(lgb.predict(val_x))\n",
        "    val_rmse = RMSE(val_y, val_pred)\n",
        "    lgb_val.append(val_rmse)\n",
        "    print(f'{n + 1} FOLD rmse = {val_rmse}')\n",
        "    \n",
        "    fold_pred = lgb.predict(target) / 15\n",
        "    lgb_pred += fold_pred\n",
        "print(f'10FOLD Mean of rmse = {np.mean(lgb_val)}')"
      ],
      "metadata": {
        "colab": {
          "base_uri": "https://localhost:8080/"
        },
        "id": "myo6pCEE5Alc",
        "outputId": "10bb3a99-eca8-480c-cafa-5ec615615757"
      },
      "execution_count": null,
      "outputs": [
        {
          "output_type": "stream",
          "name": "stdout",
          "text": [
            "1 FOLD rmse = 106.6130823403455\n",
            "2 FOLD rmse = 97.32133776215265\n",
            "3 FOLD rmse = 83.96242097416625\n",
            "4 FOLD rmse = 91.57482520332033\n",
            "5 FOLD rmse = 87.35192943481192\n",
            "6 FOLD rmse = 87.71865867857976\n",
            "7 FOLD rmse = 95.0030718579577\n",
            "8 FOLD rmse = 97.15129155267253\n",
            "9 FOLD rmse = 117.44332961451924\n",
            "10 FOLD rmse = 90.89965764122407\n",
            "11 FOLD rmse = 97.00766546027697\n",
            "12 FOLD rmse = 84.48050240847151\n",
            "13 FOLD rmse = 104.72073304192041\n",
            "14 FOLD rmse = 100.64262229149283\n",
            "15 FOLD rmse = 101.05038370273078\n",
            "10FOLD Mean of rmse = 96.19610079764284\n"
          ]
        }
      ]
    },
    {
      "cell_type": "code",
      "source": [
        "# HGBRegressor\n",
        "hgbr_pred = np.zeros(target.shape[0])\n",
        "hgbr_val = []\n",
        "for n, (tr_idx, val_idx) in enumerate(kf.split(X, y)) :\n",
        "    tr_x, tr_y = X.iloc[tr_idx], y.iloc[tr_idx]\n",
        "    val_x, val_y = X.iloc[val_idx], np.expm1(y.iloc[val_idx])\n",
        "    \n",
        "    hgbr = HistGradientBoostingRegressor(random_state=42, scoring=rmse_score, learning_rate=0.09)\n",
        "    hgbr.fit(tr_x, tr_y)\n",
        "    \n",
        "    val_pred = np.expm1(hgbr.predict(val_x))\n",
        "    val_rmse = RMSE(val_y, val_pred)\n",
        "    hgbr_val.append(val_rmse)\n",
        "    print(f'{n + 1} FOLD rmse = {val_rmse}')\n",
        "    \n",
        "    fold_pred = hgbr.predict(target) / 15\n",
        "    hgbr_pred += fold_pred\n",
        "print(f'10FOLD Mean of rmse = {np.mean(hgbr_val)}')"
      ],
      "metadata": {
        "colab": {
          "base_uri": "https://localhost:8080/"
        },
        "id": "vKCS86rp5Hwk",
        "outputId": "13650b9d-fd40-48b6-e319-72bfa292e2b8"
      },
      "execution_count": null,
      "outputs": [
        {
          "output_type": "stream",
          "name": "stdout",
          "text": [
            "1 FOLD rmse = 108.86974067479193\n",
            "2 FOLD rmse = 99.77226582947111\n",
            "3 FOLD rmse = 85.66239881922742\n",
            "4 FOLD rmse = 91.55664421810432\n",
            "5 FOLD rmse = 86.77973892158975\n",
            "6 FOLD rmse = 89.07568455905825\n",
            "7 FOLD rmse = 94.91466087985037\n",
            "8 FOLD rmse = 98.06075041088347\n",
            "9 FOLD rmse = 117.80360275989018\n",
            "10 FOLD rmse = 91.19163330867495\n",
            "11 FOLD rmse = 98.77644312134233\n",
            "12 FOLD rmse = 81.56104297354545\n",
            "13 FOLD rmse = 103.70162297546027\n",
            "14 FOLD rmse = 98.92726920588616\n",
            "15 FOLD rmse = 102.75686379658693\n",
            "10FOLD Mean of rmse = 96.62735749695752\n"
          ]
        }
      ]
    },
    {
      "cell_type": "code",
      "source": [
        "# cat\n",
        "cat_pred = np.zeros(target.shape[0])\n",
        "cat_val = []\n",
        "for n, (tr_idx, val_idx) in enumerate(kf.split(X, y)) :\n",
        "    tr_x, tr_y = X.iloc[tr_idx], y.iloc[tr_idx]\n",
        "    val_x, val_y = X.iloc[val_idx], np.expm1(y.iloc[val_idx])\n",
        "    \n",
        "    tr_data = Pool(data = tr_x, label = tr_y)\n",
        "    val_data = Pool(data = val_x, label = val_y)\n",
        "    \n",
        "    cat = CatBoostRegressor(depth = 4, random_state = 42, loss_function = 'RMSE', n_estimators = 3000, learning_rate = 0.03, verbose = 0)\n",
        "    cat.fit(tr_data, eval_set = val_data, early_stopping_rounds = 750, verbose = 1000)\n",
        "    \n",
        "    val_pred = np.expm1(cat.predict(val_x))\n",
        "    val_rmse = RMSE(val_y, val_pred)\n",
        "    cat_val.append(val_rmse)\n",
        "    print(f'{n + 1} FOLD rmse = {val_rmse}')\n",
        "    \n",
        "    target_data = Pool(data = target, label = None)\n",
        "    fold_pred = cat.predict(target) / 15\n",
        "    cat_pred += fold_pred\n",
        "print(f'10FOLD Mean of rmse = {np.mean(cat_val)}')"
      ],
      "metadata": {
        "colab": {
          "base_uri": "https://localhost:8080/"
        },
        "id": "iw7Dz2WZnIUa",
        "outputId": "543ca38e-8baf-4f20-8ed1-f902610cc1f0"
      },
      "execution_count": null,
      "outputs": [
        {
          "output_type": "stream",
          "name": "stdout",
          "text": [
            "0:\tlearn: 0.6223971\ttest: 414.9445461\tbest: 414.9445461 (0)\ttotal: 1.88ms\tremaining: 5.64s\n",
            "1000:\tlearn: 0.2359210\ttest: 414.6127467\tbest: 414.6127467 (1000)\ttotal: 1.36s\tremaining: 2.72s\n",
            "2000:\tlearn: 0.2157765\ttest: 414.6065489\tbest: 414.6065370 (1989)\ttotal: 2.71s\tremaining: 1.35s\n",
            "2999:\tlearn: 0.2032583\ttest: 414.6039690\tbest: 414.6039165 (2995)\ttotal: 4.03s\tremaining: 0us\n",
            "\n",
            "bestTest = 414.6039165\n",
            "bestIteration = 2995\n",
            "\n",
            "Shrink model to first 2996 iterations.\n",
            "1 FOLD rmse = 108.07736803500802\n",
            "0:\tlearn: 0.6233054\ttest: 394.9101616\tbest: 394.9101616 (0)\ttotal: 1.59ms\tremaining: 4.79s\n",
            "1000:\tlearn: 0.2355767\ttest: 394.6362429\tbest: 394.6362429 (1000)\ttotal: 1.32s\tremaining: 2.63s\n",
            "2000:\tlearn: 0.2158552\ttest: 394.6313718\tbest: 394.6313312 (1996)\ttotal: 2.64s\tremaining: 1.32s\n",
            "2999:\tlearn: 0.2036328\ttest: 394.6289767\tbest: 394.6289584 (2991)\ttotal: 4.01s\tremaining: 0us\n",
            "\n",
            "bestTest = 394.6289584\n",
            "bestIteration = 2991\n",
            "\n",
            "Shrink model to first 2992 iterations.\n",
            "2 FOLD rmse = 95.78901710611348\n",
            "0:\tlearn: 0.6213397\ttest: 398.0975142\tbest: 398.0975142 (0)\ttotal: 1.45ms\tremaining: 4.34s\n",
            "1000:\tlearn: 0.2362093\ttest: 397.7876812\tbest: 397.7876812 (1000)\ttotal: 1.31s\tremaining: 2.61s\n",
            "2000:\tlearn: 0.2169146\ttest: 397.7846114\tbest: 397.7845479 (1994)\ttotal: 2.64s\tremaining: 1.32s\n",
            "2999:\tlearn: 0.2047713\ttest: 397.7820782\tbest: 397.7820758 (2995)\ttotal: 3.97s\tremaining: 0us\n",
            "\n",
            "bestTest = 397.7820758\n",
            "bestIteration = 2995\n",
            "\n",
            "Shrink model to first 2996 iterations.\n",
            "3 FOLD rmse = 86.34676376338163\n",
            "0:\tlearn: 0.6252103\ttest: 389.5313109\tbest: 389.5313109 (0)\ttotal: 1.58ms\tremaining: 4.74s\n",
            "1000:\tlearn: 0.2375619\ttest: 389.2563326\tbest: 389.2563326 (1000)\ttotal: 1.31s\tremaining: 2.61s\n",
            "2000:\tlearn: 0.2171136\ttest: 389.2525206\tbest: 389.2525115 (1997)\ttotal: 2.65s\tremaining: 1.32s\n",
            "2999:\tlearn: 0.2048123\ttest: 389.2511493\tbest: 389.2511294 (2988)\ttotal: 3.96s\tremaining: 0us\n",
            "\n",
            "bestTest = 389.2511294\n",
            "bestIteration = 2988\n",
            "\n",
            "Shrink model to first 2989 iterations.\n",
            "4 FOLD rmse = 88.51186698803458\n",
            "0:\tlearn: 0.6246664\ttest: 390.5333845\tbest: 390.5333845 (0)\ttotal: 1.51ms\tremaining: 4.53s\n",
            "1000:\tlearn: 0.2377849\ttest: 390.2345687\tbest: 390.2344300 (979)\ttotal: 1.33s\tremaining: 2.66s\n",
            "2000:\tlearn: 0.2168731\ttest: 390.2322568\tbest: 390.2322099 (1985)\ttotal: 2.7s\tremaining: 1.35s\n",
            "2999:\tlearn: 0.2043594\ttest: 390.2302387\tbest: 390.2301291 (2958)\ttotal: 4.02s\tremaining: 0us\n",
            "\n",
            "bestTest = 390.2301291\n",
            "bestIteration = 2958\n",
            "\n",
            "Shrink model to first 2959 iterations.\n",
            "5 FOLD rmse = 88.85263155689894\n",
            "0:\tlearn: 0.6260076\ttest: 363.1921426\tbest: 363.1921426 (0)\ttotal: 1.65ms\tremaining: 4.94s\n",
            "1000:\tlearn: 0.2363126\ttest: 362.9272921\tbest: 362.9272036 (994)\ttotal: 1.34s\tremaining: 2.68s\n",
            "2000:\tlearn: 0.2170364\ttest: 362.9251889\tbest: 362.9251406 (1993)\ttotal: 2.67s\tremaining: 1.33s\n",
            "2999:\tlearn: 0.2052940\ttest: 362.9244335\tbest: 362.9243970 (2988)\ttotal: 4.02s\tremaining: 0us\n",
            "\n",
            "bestTest = 362.924397\n",
            "bestIteration = 2988\n",
            "\n",
            "Shrink model to first 2989 iterations.\n",
            "6 FOLD rmse = 81.5090011178108\n",
            "0:\tlearn: 0.6227830\ttest: 388.3561929\tbest: 388.3561929 (0)\ttotal: 1.49ms\tremaining: 4.46s\n",
            "1000:\tlearn: 0.2355036\ttest: 388.0878101\tbest: 388.0877560 (993)\ttotal: 1.32s\tremaining: 2.64s\n",
            "2000:\tlearn: 0.2150776\ttest: 388.0863525\tbest: 388.0862666 (1576)\ttotal: 2.64s\tremaining: 1.32s\n",
            "2999:\tlearn: 0.2026641\ttest: 388.0856603\tbest: 388.0854315 (2622)\ttotal: 3.96s\tremaining: 0us\n",
            "\n",
            "bestTest = 388.0854315\n",
            "bestIteration = 2622\n",
            "\n",
            "Shrink model to first 2623 iterations.\n",
            "7 FOLD rmse = 92.88869798499773\n",
            "0:\tlearn: 0.6243097\ttest: 394.0540536\tbest: 394.0540536 (0)\ttotal: 1.39ms\tremaining: 4.17s\n",
            "1000:\tlearn: 0.2371856\ttest: 393.7679889\tbest: 393.7679889 (1000)\ttotal: 1.3s\tremaining: 2.6s\n",
            "2000:\tlearn: 0.2165671\ttest: 393.7600039\tbest: 393.7600039 (2000)\ttotal: 2.64s\tremaining: 1.32s\n",
            "2999:\tlearn: 0.2039402\ttest: 393.7576743\tbest: 393.7575462 (2972)\ttotal: 3.96s\tremaining: 0us\n",
            "\n",
            "bestTest = 393.7575462\n",
            "bestIteration = 2972\n",
            "\n",
            "Shrink model to first 2973 iterations.\n",
            "8 FOLD rmse = 94.4055859772573\n",
            "0:\tlearn: 0.6230919\ttest: 397.7130705\tbest: 397.7130705 (0)\ttotal: 1.7ms\tremaining: 5.09s\n",
            "1000:\tlearn: 0.2338705\ttest: 397.4406975\tbest: 397.4406975 (1000)\ttotal: 1.3s\tremaining: 2.59s\n",
            "2000:\tlearn: 0.2136142\ttest: 397.4339625\tbest: 397.4339443 (1970)\ttotal: 2.59s\tremaining: 1.29s\n",
            "2999:\tlearn: 0.2017993\ttest: 397.4315572\tbest: 397.4315220 (2993)\ttotal: 3.89s\tremaining: 0us\n",
            "\n",
            "bestTest = 397.431522\n",
            "bestIteration = 2993\n",
            "\n",
            "Shrink model to first 2994 iterations.\n",
            "9 FOLD rmse = 113.42679141322841\n",
            "0:\tlearn: 0.6237441\ttest: 400.5645449\tbest: 400.5645449 (0)\ttotal: 1.34ms\tremaining: 4.03s\n",
            "1000:\tlearn: 0.2358715\ttest: 400.2641729\tbest: 400.2638663 (874)\ttotal: 1.31s\tremaining: 2.62s\n",
            "2000:\tlearn: 0.2154034\ttest: 400.2613199\tbest: 400.2611257 (1905)\ttotal: 2.61s\tremaining: 1.3s\n",
            "2999:\tlearn: 0.2028300\ttest: 400.2604743\tbest: 400.2603663 (2885)\ttotal: 3.89s\tremaining: 0us\n",
            "\n",
            "bestTest = 400.2603663\n",
            "bestIteration = 2885\n",
            "\n",
            "Shrink model to first 2886 iterations.\n",
            "10 FOLD rmse = 91.54427917727212\n",
            "0:\tlearn: 0.6248892\ttest: 387.3082639\tbest: 387.3082639 (0)\ttotal: 1.57ms\tremaining: 4.72s\n",
            "1000:\tlearn: 0.2353489\ttest: 387.0379797\tbest: 387.0379797 (1000)\ttotal: 1.27s\tremaining: 2.54s\n",
            "2000:\tlearn: 0.2148897\ttest: 387.0337768\tbest: 387.0337768 (2000)\ttotal: 2.58s\tremaining: 1.29s\n",
            "2999:\tlearn: 0.2023532\ttest: 387.0312911\tbest: 387.0312911 (2999)\ttotal: 3.87s\tremaining: 0us\n",
            "\n",
            "bestTest = 387.0312911\n",
            "bestIteration = 2999\n",
            "\n",
            "11 FOLD rmse = 99.9720642381089\n",
            "0:\tlearn: 0.6236341\ttest: 398.9710415\tbest: 398.9710415 (0)\ttotal: 1.33ms\tremaining: 4s\n",
            "1000:\tlearn: 0.2362251\ttest: 398.6623438\tbest: 398.6622796 (990)\ttotal: 1.29s\tremaining: 2.59s\n",
            "2000:\tlearn: 0.2156296\ttest: 398.6576031\tbest: 398.6574638 (1971)\ttotal: 2.58s\tremaining: 1.29s\n",
            "2999:\tlearn: 0.2032356\ttest: 398.6560606\tbest: 398.6559986 (2980)\ttotal: 3.88s\tremaining: 0us\n",
            "\n",
            "bestTest = 398.6559986\n",
            "bestIteration = 2980\n",
            "\n",
            "Shrink model to first 2981 iterations.\n",
            "12 FOLD rmse = 83.31543085960709\n",
            "0:\tlearn: 0.6241841\ttest: 381.9120328\tbest: 381.9120328 (0)\ttotal: 1.41ms\tremaining: 4.22s\n",
            "1000:\tlearn: 0.2364982\ttest: 381.6512218\tbest: 381.6512191 (996)\ttotal: 1.29s\tremaining: 2.57s\n",
            "2000:\tlearn: 0.2158614\ttest: 381.6469614\tbest: 381.6469514 (1996)\ttotal: 2.59s\tremaining: 1.29s\n",
            "2999:\tlearn: 0.2037012\ttest: 381.6444813\tbest: 381.6444559 (2994)\ttotal: 4.13s\tremaining: 0us\n",
            "\n",
            "bestTest = 381.6444559\n",
            "bestIteration = 2994\n",
            "\n",
            "Shrink model to first 2995 iterations.\n",
            "13 FOLD rmse = 105.27445764122481\n",
            "0:\tlearn: 0.6238814\ttest: 382.3643284\tbest: 382.3643284 (0)\ttotal: 2.06ms\tremaining: 6.2s\n",
            "1000:\tlearn: 0.2372209\ttest: 382.1136505\tbest: 382.1136505 (1000)\ttotal: 1.95s\tremaining: 3.9s\n",
            "2000:\tlearn: 0.2164985\ttest: 382.1100587\tbest: 382.1100587 (2000)\ttotal: 3.72s\tremaining: 1.86s\n",
            "2999:\tlearn: 0.2040980\ttest: 382.1080584\tbest: 382.1080311 (2996)\ttotal: 5.02s\tremaining: 0us\n",
            "\n",
            "bestTest = 382.1080311\n",
            "bestIteration = 2996\n",
            "\n",
            "Shrink model to first 2997 iterations.\n",
            "14 FOLD rmse = 98.67823088679341\n",
            "0:\tlearn: 0.6244500\ttest: 383.7521795\tbest: 383.7521795 (0)\ttotal: 1.38ms\tremaining: 4.13s\n",
            "1000:\tlearn: 0.2348226\ttest: 383.4785996\tbest: 383.4785996 (1000)\ttotal: 1.3s\tremaining: 2.6s\n",
            "2000:\tlearn: 0.2150592\ttest: 383.4756188\tbest: 383.4755850 (1982)\ttotal: 2.6s\tremaining: 1.3s\n",
            "Stopped by overfitting detector  (750 iterations wait)\n",
            "\n",
            "bestTest = 383.4755304\n",
            "bestIteration = 2057\n",
            "\n",
            "Shrink model to first 2058 iterations.\n",
            "15 FOLD rmse = 97.60145014521376\n",
            "10FOLD Mean of rmse = 95.07957579273007\n"
          ]
        }
      ]
    },
    {
      "cell_type": "code",
      "source": [
        "# 검증 성능 확인하기\n",
        "val_list = [etr_val, rf_val, lgb_val, hgbr_val, cat_val]\n",
        "for val in val_list :\n",
        "  print(\"{:.8f}\".format(np.mean(val))) "
      ],
      "metadata": {
        "colab": {
          "base_uri": "https://localhost:8080/"
        },
        "id": "1PRkkyKL5Rfe",
        "outputId": "433a8766-8c6b-4473-9bd4-17dcc0ba5e37"
      },
      "execution_count": null,
      "outputs": [
        {
          "output_type": "stream",
          "name": "stdout",
          "text": [
            "98.16430892\n",
            "98.05944375\n",
            "96.19610080\n",
            "96.62735750\n",
            "95.07957579\n"
          ]
        }
      ]
    },
    {
      "cell_type": "code",
      "source": [
        "98.13111494\n",
        "97.90444913\n",
        "96.42575716\n",
        "96.63385996\n",
        "95.10002097"
      ],
      "metadata": {
        "id": "7kSDDJw6xMro"
      },
      "execution_count": null,
      "outputs": []
    },
    {
      "cell_type": "markdown",
      "source": [
        "## Submit"
      ],
      "metadata": {
        "id": "1Ue3L19y-hB-"
      }
    },
    {
      "cell_type": "code",
      "source": [
        "submit = pd.read_csv(path + '/open/sample_submission.csv')\n",
        "submit['monthlyRent(us_dollar)']  = (np.expm1(etr_pred) + np.expm1(rf_pred) + np.expm1(lgb_pred) + np.expm1(hgbr_pred)  + np.expm1(cat_pred)) / 5\n",
        "submit"
      ],
      "metadata": {
        "colab": {
          "base_uri": "https://localhost:8080/",
          "height": 424
        },
        "id": "O2j3H3So-isG",
        "outputId": "104b8e3a-9a42-4221-bb48-7eeadabc2a6a"
      },
      "execution_count": null,
      "outputs": [
        {
          "output_type": "execute_result",
          "data": {
            "text/plain": [
              "             ID  monthlyRent(us_dollar)\n",
              "0     Test_0000              189.291006\n",
              "1     Test_0001              247.424434\n",
              "2     Test_0002              323.684742\n",
              "3     Test_0003              175.443744\n",
              "4     Test_0004               80.123568\n",
              "...         ...                     ...\n",
              "8688  Test_8688              361.326600\n",
              "8689  Test_8689              344.170890\n",
              "8690  Test_8690              209.311239\n",
              "8691  Test_8691              162.259368\n",
              "8692  Test_8692              202.762489\n",
              "\n",
              "[8693 rows x 2 columns]"
            ],
            "text/html": [
              "\n",
              "  <div id=\"df-160be493-0558-4257-89b1-60b1b12c6a74\">\n",
              "    <div class=\"colab-df-container\">\n",
              "      <div>\n",
              "<style scoped>\n",
              "    .dataframe tbody tr th:only-of-type {\n",
              "        vertical-align: middle;\n",
              "    }\n",
              "\n",
              "    .dataframe tbody tr th {\n",
              "        vertical-align: top;\n",
              "    }\n",
              "\n",
              "    .dataframe thead th {\n",
              "        text-align: right;\n",
              "    }\n",
              "</style>\n",
              "<table border=\"1\" class=\"dataframe\">\n",
              "  <thead>\n",
              "    <tr style=\"text-align: right;\">\n",
              "      <th></th>\n",
              "      <th>ID</th>\n",
              "      <th>monthlyRent(us_dollar)</th>\n",
              "    </tr>\n",
              "  </thead>\n",
              "  <tbody>\n",
              "    <tr>\n",
              "      <th>0</th>\n",
              "      <td>Test_0000</td>\n",
              "      <td>189.291006</td>\n",
              "    </tr>\n",
              "    <tr>\n",
              "      <th>1</th>\n",
              "      <td>Test_0001</td>\n",
              "      <td>247.424434</td>\n",
              "    </tr>\n",
              "    <tr>\n",
              "      <th>2</th>\n",
              "      <td>Test_0002</td>\n",
              "      <td>323.684742</td>\n",
              "    </tr>\n",
              "    <tr>\n",
              "      <th>3</th>\n",
              "      <td>Test_0003</td>\n",
              "      <td>175.443744</td>\n",
              "    </tr>\n",
              "    <tr>\n",
              "      <th>4</th>\n",
              "      <td>Test_0004</td>\n",
              "      <td>80.123568</td>\n",
              "    </tr>\n",
              "    <tr>\n",
              "      <th>...</th>\n",
              "      <td>...</td>\n",
              "      <td>...</td>\n",
              "    </tr>\n",
              "    <tr>\n",
              "      <th>8688</th>\n",
              "      <td>Test_8688</td>\n",
              "      <td>361.326600</td>\n",
              "    </tr>\n",
              "    <tr>\n",
              "      <th>8689</th>\n",
              "      <td>Test_8689</td>\n",
              "      <td>344.170890</td>\n",
              "    </tr>\n",
              "    <tr>\n",
              "      <th>8690</th>\n",
              "      <td>Test_8690</td>\n",
              "      <td>209.311239</td>\n",
              "    </tr>\n",
              "    <tr>\n",
              "      <th>8691</th>\n",
              "      <td>Test_8691</td>\n",
              "      <td>162.259368</td>\n",
              "    </tr>\n",
              "    <tr>\n",
              "      <th>8692</th>\n",
              "      <td>Test_8692</td>\n",
              "      <td>202.762489</td>\n",
              "    </tr>\n",
              "  </tbody>\n",
              "</table>\n",
              "<p>8693 rows × 2 columns</p>\n",
              "</div>\n",
              "      <button class=\"colab-df-convert\" onclick=\"convertToInteractive('df-160be493-0558-4257-89b1-60b1b12c6a74')\"\n",
              "              title=\"Convert this dataframe to an interactive table.\"\n",
              "              style=\"display:none;\">\n",
              "        \n",
              "  <svg xmlns=\"http://www.w3.org/2000/svg\" height=\"24px\"viewBox=\"0 0 24 24\"\n",
              "       width=\"24px\">\n",
              "    <path d=\"M0 0h24v24H0V0z\" fill=\"none\"/>\n",
              "    <path d=\"M18.56 5.44l.94 2.06.94-2.06 2.06-.94-2.06-.94-.94-2.06-.94 2.06-2.06.94zm-11 1L8.5 8.5l.94-2.06 2.06-.94-2.06-.94L8.5 2.5l-.94 2.06-2.06.94zm10 10l.94 2.06.94-2.06 2.06-.94-2.06-.94-.94-2.06-.94 2.06-2.06.94z\"/><path d=\"M17.41 7.96l-1.37-1.37c-.4-.4-.92-.59-1.43-.59-.52 0-1.04.2-1.43.59L10.3 9.45l-7.72 7.72c-.78.78-.78 2.05 0 2.83L4 21.41c.39.39.9.59 1.41.59.51 0 1.02-.2 1.41-.59l7.78-7.78 2.81-2.81c.8-.78.8-2.07 0-2.86zM5.41 20L4 18.59l7.72-7.72 1.47 1.35L5.41 20z\"/>\n",
              "  </svg>\n",
              "      </button>\n",
              "      \n",
              "  <style>\n",
              "    .colab-df-container {\n",
              "      display:flex;\n",
              "      flex-wrap:wrap;\n",
              "      gap: 12px;\n",
              "    }\n",
              "\n",
              "    .colab-df-convert {\n",
              "      background-color: #E8F0FE;\n",
              "      border: none;\n",
              "      border-radius: 50%;\n",
              "      cursor: pointer;\n",
              "      display: none;\n",
              "      fill: #1967D2;\n",
              "      height: 32px;\n",
              "      padding: 0 0 0 0;\n",
              "      width: 32px;\n",
              "    }\n",
              "\n",
              "    .colab-df-convert:hover {\n",
              "      background-color: #E2EBFA;\n",
              "      box-shadow: 0px 1px 2px rgba(60, 64, 67, 0.3), 0px 1px 3px 1px rgba(60, 64, 67, 0.15);\n",
              "      fill: #174EA6;\n",
              "    }\n",
              "\n",
              "    [theme=dark] .colab-df-convert {\n",
              "      background-color: #3B4455;\n",
              "      fill: #D2E3FC;\n",
              "    }\n",
              "\n",
              "    [theme=dark] .colab-df-convert:hover {\n",
              "      background-color: #434B5C;\n",
              "      box-shadow: 0px 1px 3px 1px rgba(0, 0, 0, 0.15);\n",
              "      filter: drop-shadow(0px 1px 2px rgba(0, 0, 0, 0.3));\n",
              "      fill: #FFFFFF;\n",
              "    }\n",
              "  </style>\n",
              "\n",
              "      <script>\n",
              "        const buttonEl =\n",
              "          document.querySelector('#df-160be493-0558-4257-89b1-60b1b12c6a74 button.colab-df-convert');\n",
              "        buttonEl.style.display =\n",
              "          google.colab.kernel.accessAllowed ? 'block' : 'none';\n",
              "\n",
              "        async function convertToInteractive(key) {\n",
              "          const element = document.querySelector('#df-160be493-0558-4257-89b1-60b1b12c6a74');\n",
              "          const dataTable =\n",
              "            await google.colab.kernel.invokeFunction('convertToInteractive',\n",
              "                                                     [key], {});\n",
              "          if (!dataTable) return;\n",
              "\n",
              "          const docLinkHtml = 'Like what you see? Visit the ' +\n",
              "            '<a target=\"_blank\" href=https://colab.research.google.com/notebooks/data_table.ipynb>data table notebook</a>'\n",
              "            + ' to learn more about interactive tables.';\n",
              "          element.innerHTML = '';\n",
              "          dataTable['output_type'] = 'display_data';\n",
              "          await google.colab.output.renderOutput(dataTable, element);\n",
              "          const docLink = document.createElement('div');\n",
              "          docLink.innerHTML = docLinkHtml;\n",
              "          element.appendChild(docLink);\n",
              "        }\n",
              "      </script>\n",
              "    </div>\n",
              "  </div>\n",
              "  "
            ]
          },
          "metadata": {},
          "execution_count": 32
        }
      ]
    },
    {
      "cell_type": "code",
      "source": [
        "submit.to_csv(path + '/제출/월세(15).csv', index=False)"
      ],
      "metadata": {
        "id": "WCg2bwf35trC"
      },
      "execution_count": null,
      "outputs": []
    }
  ]
}