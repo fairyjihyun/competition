{
  "nbformat": 4,
  "nbformat_minor": 0,
  "metadata": {
    "colab": {
      "provenance": [],
      "machine_shape": "hm",
      "collapsed_sections": [
        "ljjz-0j-p1-Q"
      ],
      "authorship_tag": "ABX9TyPrhSN86x5qjs8otmCEpx3l",
      "include_colab_link": true
    },
    "kernelspec": {
      "name": "python3",
      "display_name": "Python 3"
    },
    "language_info": {
      "name": "python"
    },
    "accelerator": "GPU",
    "gpuClass": "standard"
  },
  "cells": [
    {
      "cell_type": "markdown",
      "metadata": {
        "id": "view-in-github",
        "colab_type": "text"
      },
      "source": [
        "<a href=\"https://colab.research.google.com/github/fairyjihyun/competition/blob/main/DACON/%EC%B6%95%EA%B5%AC%EC%84%A0%EC%88%98%EC%9C%A0%EB%A7%9D%EC%97%AC%EB%B6%80%EC%98%88%EC%B8%A1AI.ipynb\" target=\"_parent\"><img src=\"https://colab.research.google.com/assets/colab-badge.svg\" alt=\"Open In Colab\"/></a>"
      ]
    },
    {
      "cell_type": "code",
      "source": [
        "from google.colab import drive\n",
        "drive.mount('/content/drive')"
      ],
      "metadata": {
        "colab": {
          "base_uri": "https://localhost:8080/"
        },
        "id": "0IpImoPZFjJn",
        "outputId": "ed1e694f-6a91-4a07-b70a-f642988b061a"
      },
      "execution_count": null,
      "outputs": [
        {
          "output_type": "stream",
          "name": "stdout",
          "text": [
            "Drive already mounted at /content/drive; to attempt to forcibly remount, call drive.mount(\"/content/drive\", force_remount=True).\n"
          ]
        }
      ]
    },
    {
      "cell_type": "code",
      "source": [
        "import random\n",
        "import os\n",
        "\n",
        "import pandas as pd\n",
        "import numpy as np\n",
        "import matplotlib.pyplot as plt\n",
        "import seaborn as sns\n",
        "\n",
        "from sklearn.preprocessing import LabelEncoder\n",
        "\n",
        "from sklearn.ensemble import RandomForestClassifier\n",
        "\n",
        "## 경고 무시\n",
        "import warnings\n",
        "warnings.filterwarnings('ignore')\n",
        "\n",
        "## 결과확인을 용이하게 하는 코드\n",
        "from IPython.core.interactiveshell import InteractiveShell\n",
        "InteractiveShell.ast_node_interactivity = \"all\""
      ],
      "metadata": {
        "id": "myk8jeHOF6fW"
      },
      "execution_count": null,
      "outputs": []
    },
    {
      "cell_type": "code",
      "source": [
        "# 변수 고정\n",
        "class CFG:\n",
        "    user_seed = 42\n",
        "    target = 'Prospect'"
      ],
      "metadata": {
        "id": "sh3tytBOIdKp"
      },
      "execution_count": null,
      "outputs": []
    },
    {
      "cell_type": "code",
      "source": [
        "# seed 고정\n",
        "def seed_everything(seed):\n",
        "    random.seed(seed)\n",
        "    os.environ['PYTHONHASHSEED'] = str(seed)\n",
        "    np.random.seed(seed)\n",
        "\n",
        "seed_everything(CFG.user_seed)"
      ],
      "metadata": {
        "id": "L6dc3TvNIfFh"
      },
      "execution_count": null,
      "outputs": []
    },
    {
      "cell_type": "code",
      "execution_count": null,
      "metadata": {
        "id": "nIs4FWp9EQ_e"
      },
      "outputs": [],
      "source": [
        "path = '/content/drive/MyDrive/Colab Notebooks/DACON/축구선수의 유망 여부 예측 AI/open/'"
      ]
    },
    {
      "cell_type": "code",
      "source": [
        "train = pd.read_csv(path + 'train.csv')\n",
        "test = pd.read_csv(path + 'test.csv')"
      ],
      "metadata": {
        "id": "FihsXfe-Itq5"
      },
      "execution_count": null,
      "outputs": []
    },
    {
      "cell_type": "markdown",
      "source": [
        "## EDA"
      ],
      "metadata": {
        "id": "ljjz-0j-p1-Q"
      }
    },
    {
      "cell_type": "code",
      "source": [
        "print('Shape:', train.shape, '\\n')\n",
        "print(train.columns, '\\n')\n",
        "train.head()"
      ],
      "metadata": {
        "colab": {
          "base_uri": "https://localhost:8080/"
        },
        "id": "04jvLeiIp-qJ",
        "outputId": "cd58b884-fa01-4eef-b15f-cee1e515963a"
      },
      "execution_count": null,
      "outputs": [
        {
          "output_type": "stream",
          "name": "stdout",
          "text": [
            "Shape: (3019, 66) \n",
            "\n",
            "Index(['ID', 'Age', 'Height', 'Weight', 'Position', 'PreferredFoot',\n",
            "       'AttackingWorkRate', 'DefensiveWorkRate', 'PaceTotal', 'ShootingTotal',\n",
            "       'PassingTotal', 'DribblingTotal', 'DefendingTotal', 'PhysicalityTotal',\n",
            "       'Crossing', 'Finishing', 'HeadingAccuracy', 'ShortPassing', 'Volleys',\n",
            "       'Dribbling', 'Curve', 'FKAccuracy', 'LongPassing', 'BallControl',\n",
            "       'Acceleration', 'SprintSpeed', 'Agility', 'Reactions', 'Balance',\n",
            "       'ShotPower', 'Jumping', 'Stamina', 'Strength', 'LongShots',\n",
            "       'Aggression', 'Interceptions', 'Positioning', 'Vision', 'Penalties',\n",
            "       'Composure', 'Marking', 'StandingTackle', 'SlidingTackle', 'GKDiving',\n",
            "       'GKHandling', 'GKKicking', 'GKPositioning', 'GKReflexes', 'STRating',\n",
            "       'LWRating', 'LFRating', 'CFRating', 'RFRating', 'RWRating', 'CAMRating',\n",
            "       'LMRating', 'CMRating', 'RMRating', 'LWBRating', 'CDMRating',\n",
            "       'RWBRating', 'LBRating', 'CBRating', 'RBRating', 'GKRating',\n",
            "       'Prospect'],\n",
            "      dtype='object') \n",
            "\n"
          ]
        },
        {
          "output_type": "execute_result",
          "data": {
            "text/plain": [
              "           ID  Age  Height  Weight Position PreferredFoot AttackingWorkRate  \\\n",
              "0  TRAIN_0000   21     182      82       CB         Right            Medium   \n",
              "1  TRAIN_0001   21     160      75       ST          Left              High   \n",
              "2  TRAIN_0002   18     165      60       RB         Right            Medium   \n",
              "3  TRAIN_0003   20     190      72       CB         Right            Medium   \n",
              "4  TRAIN_0004   21     181      77       ST         Right              High   \n",
              "\n",
              "  DefensiveWorkRate  PaceTotal  ShootingTotal  ...  CMRating  RMRating  \\\n",
              "0            Medium     4.6377         2.1053  ...    4.9315    4.8649   \n",
              "1            Medium     7.3913         7.3684  ...    5.8904    6.4865   \n",
              "2            Medium     6.2319         3.2895  ...    4.9315    5.2703   \n",
              "3            Medium     4.7826         1.0526  ...    2.3288    2.2973   \n",
              "4            Medium     8.2609         7.3684  ...    6.3014    7.5676   \n",
              "\n",
              "   LWBRating  CDMRating  RWBRating  LBRating  CBRating  RBRating  GKRating  \\\n",
              "0     6.1972     6.0000     6.1972    6.4286    6.5278    6.4286     0.875   \n",
              "1     5.2113     4.4286     5.2113    5.0000    4.1667    5.0000     1.250   \n",
              "2     5.7746     5.1429     5.7746    5.8571    5.0000    5.8571     0.750   \n",
              "3     4.0845     3.7143     4.0845    4.5714    4.5833    4.5714     0.875   \n",
              "4     5.2113     4.2857     5.2113    4.7143    3.3333    4.7143     1.125   \n",
              "\n",
              "   Prospect  \n",
              "0         0  \n",
              "1         0  \n",
              "2         0  \n",
              "3         0  \n",
              "4         0  \n",
              "\n",
              "[5 rows x 66 columns]"
            ],
            "text/html": [
              "\n",
              "  <div id=\"df-caaaa8c8-f43d-40b8-81af-3420fe2660cd\">\n",
              "    <div class=\"colab-df-container\">\n",
              "      <div>\n",
              "<style scoped>\n",
              "    .dataframe tbody tr th:only-of-type {\n",
              "        vertical-align: middle;\n",
              "    }\n",
              "\n",
              "    .dataframe tbody tr th {\n",
              "        vertical-align: top;\n",
              "    }\n",
              "\n",
              "    .dataframe thead th {\n",
              "        text-align: right;\n",
              "    }\n",
              "</style>\n",
              "<table border=\"1\" class=\"dataframe\">\n",
              "  <thead>\n",
              "    <tr style=\"text-align: right;\">\n",
              "      <th></th>\n",
              "      <th>ID</th>\n",
              "      <th>Age</th>\n",
              "      <th>Height</th>\n",
              "      <th>Weight</th>\n",
              "      <th>Position</th>\n",
              "      <th>PreferredFoot</th>\n",
              "      <th>AttackingWorkRate</th>\n",
              "      <th>DefensiveWorkRate</th>\n",
              "      <th>PaceTotal</th>\n",
              "      <th>ShootingTotal</th>\n",
              "      <th>...</th>\n",
              "      <th>CMRating</th>\n",
              "      <th>RMRating</th>\n",
              "      <th>LWBRating</th>\n",
              "      <th>CDMRating</th>\n",
              "      <th>RWBRating</th>\n",
              "      <th>LBRating</th>\n",
              "      <th>CBRating</th>\n",
              "      <th>RBRating</th>\n",
              "      <th>GKRating</th>\n",
              "      <th>Prospect</th>\n",
              "    </tr>\n",
              "  </thead>\n",
              "  <tbody>\n",
              "    <tr>\n",
              "      <th>0</th>\n",
              "      <td>TRAIN_0000</td>\n",
              "      <td>21</td>\n",
              "      <td>182</td>\n",
              "      <td>82</td>\n",
              "      <td>CB</td>\n",
              "      <td>Right</td>\n",
              "      <td>Medium</td>\n",
              "      <td>Medium</td>\n",
              "      <td>4.6377</td>\n",
              "      <td>2.1053</td>\n",
              "      <td>...</td>\n",
              "      <td>4.9315</td>\n",
              "      <td>4.8649</td>\n",
              "      <td>6.1972</td>\n",
              "      <td>6.0000</td>\n",
              "      <td>6.1972</td>\n",
              "      <td>6.4286</td>\n",
              "      <td>6.5278</td>\n",
              "      <td>6.4286</td>\n",
              "      <td>0.875</td>\n",
              "      <td>0</td>\n",
              "    </tr>\n",
              "    <tr>\n",
              "      <th>1</th>\n",
              "      <td>TRAIN_0001</td>\n",
              "      <td>21</td>\n",
              "      <td>160</td>\n",
              "      <td>75</td>\n",
              "      <td>ST</td>\n",
              "      <td>Left</td>\n",
              "      <td>High</td>\n",
              "      <td>Medium</td>\n",
              "      <td>7.3913</td>\n",
              "      <td>7.3684</td>\n",
              "      <td>...</td>\n",
              "      <td>5.8904</td>\n",
              "      <td>6.4865</td>\n",
              "      <td>5.2113</td>\n",
              "      <td>4.4286</td>\n",
              "      <td>5.2113</td>\n",
              "      <td>5.0000</td>\n",
              "      <td>4.1667</td>\n",
              "      <td>5.0000</td>\n",
              "      <td>1.250</td>\n",
              "      <td>0</td>\n",
              "    </tr>\n",
              "    <tr>\n",
              "      <th>2</th>\n",
              "      <td>TRAIN_0002</td>\n",
              "      <td>18</td>\n",
              "      <td>165</td>\n",
              "      <td>60</td>\n",
              "      <td>RB</td>\n",
              "      <td>Right</td>\n",
              "      <td>Medium</td>\n",
              "      <td>Medium</td>\n",
              "      <td>6.2319</td>\n",
              "      <td>3.2895</td>\n",
              "      <td>...</td>\n",
              "      <td>4.9315</td>\n",
              "      <td>5.2703</td>\n",
              "      <td>5.7746</td>\n",
              "      <td>5.1429</td>\n",
              "      <td>5.7746</td>\n",
              "      <td>5.8571</td>\n",
              "      <td>5.0000</td>\n",
              "      <td>5.8571</td>\n",
              "      <td>0.750</td>\n",
              "      <td>0</td>\n",
              "    </tr>\n",
              "    <tr>\n",
              "      <th>3</th>\n",
              "      <td>TRAIN_0003</td>\n",
              "      <td>20</td>\n",
              "      <td>190</td>\n",
              "      <td>72</td>\n",
              "      <td>CB</td>\n",
              "      <td>Right</td>\n",
              "      <td>Medium</td>\n",
              "      <td>Medium</td>\n",
              "      <td>4.7826</td>\n",
              "      <td>1.0526</td>\n",
              "      <td>...</td>\n",
              "      <td>2.3288</td>\n",
              "      <td>2.2973</td>\n",
              "      <td>4.0845</td>\n",
              "      <td>3.7143</td>\n",
              "      <td>4.0845</td>\n",
              "      <td>4.5714</td>\n",
              "      <td>4.5833</td>\n",
              "      <td>4.5714</td>\n",
              "      <td>0.875</td>\n",
              "      <td>0</td>\n",
              "    </tr>\n",
              "    <tr>\n",
              "      <th>4</th>\n",
              "      <td>TRAIN_0004</td>\n",
              "      <td>21</td>\n",
              "      <td>181</td>\n",
              "      <td>77</td>\n",
              "      <td>ST</td>\n",
              "      <td>Right</td>\n",
              "      <td>High</td>\n",
              "      <td>Medium</td>\n",
              "      <td>8.2609</td>\n",
              "      <td>7.3684</td>\n",
              "      <td>...</td>\n",
              "      <td>6.3014</td>\n",
              "      <td>7.5676</td>\n",
              "      <td>5.2113</td>\n",
              "      <td>4.2857</td>\n",
              "      <td>5.2113</td>\n",
              "      <td>4.7143</td>\n",
              "      <td>3.3333</td>\n",
              "      <td>4.7143</td>\n",
              "      <td>1.125</td>\n",
              "      <td>0</td>\n",
              "    </tr>\n",
              "  </tbody>\n",
              "</table>\n",
              "<p>5 rows × 66 columns</p>\n",
              "</div>\n",
              "      <button class=\"colab-df-convert\" onclick=\"convertToInteractive('df-caaaa8c8-f43d-40b8-81af-3420fe2660cd')\"\n",
              "              title=\"Convert this dataframe to an interactive table.\"\n",
              "              style=\"display:none;\">\n",
              "        \n",
              "  <svg xmlns=\"http://www.w3.org/2000/svg\" height=\"24px\"viewBox=\"0 0 24 24\"\n",
              "       width=\"24px\">\n",
              "    <path d=\"M0 0h24v24H0V0z\" fill=\"none\"/>\n",
              "    <path d=\"M18.56 5.44l.94 2.06.94-2.06 2.06-.94-2.06-.94-.94-2.06-.94 2.06-2.06.94zm-11 1L8.5 8.5l.94-2.06 2.06-.94-2.06-.94L8.5 2.5l-.94 2.06-2.06.94zm10 10l.94 2.06.94-2.06 2.06-.94-2.06-.94-.94-2.06-.94 2.06-2.06.94z\"/><path d=\"M17.41 7.96l-1.37-1.37c-.4-.4-.92-.59-1.43-.59-.52 0-1.04.2-1.43.59L10.3 9.45l-7.72 7.72c-.78.78-.78 2.05 0 2.83L4 21.41c.39.39.9.59 1.41.59.51 0 1.02-.2 1.41-.59l7.78-7.78 2.81-2.81c.8-.78.8-2.07 0-2.86zM5.41 20L4 18.59l7.72-7.72 1.47 1.35L5.41 20z\"/>\n",
              "  </svg>\n",
              "      </button>\n",
              "      \n",
              "  <style>\n",
              "    .colab-df-container {\n",
              "      display:flex;\n",
              "      flex-wrap:wrap;\n",
              "      gap: 12px;\n",
              "    }\n",
              "\n",
              "    .colab-df-convert {\n",
              "      background-color: #E8F0FE;\n",
              "      border: none;\n",
              "      border-radius: 50%;\n",
              "      cursor: pointer;\n",
              "      display: none;\n",
              "      fill: #1967D2;\n",
              "      height: 32px;\n",
              "      padding: 0 0 0 0;\n",
              "      width: 32px;\n",
              "    }\n",
              "\n",
              "    .colab-df-convert:hover {\n",
              "      background-color: #E2EBFA;\n",
              "      box-shadow: 0px 1px 2px rgba(60, 64, 67, 0.3), 0px 1px 3px 1px rgba(60, 64, 67, 0.15);\n",
              "      fill: #174EA6;\n",
              "    }\n",
              "\n",
              "    [theme=dark] .colab-df-convert {\n",
              "      background-color: #3B4455;\n",
              "      fill: #D2E3FC;\n",
              "    }\n",
              "\n",
              "    [theme=dark] .colab-df-convert:hover {\n",
              "      background-color: #434B5C;\n",
              "      box-shadow: 0px 1px 3px 1px rgba(0, 0, 0, 0.15);\n",
              "      filter: drop-shadow(0px 1px 2px rgba(0, 0, 0, 0.3));\n",
              "      fill: #FFFFFF;\n",
              "    }\n",
              "  </style>\n",
              "\n",
              "      <script>\n",
              "        const buttonEl =\n",
              "          document.querySelector('#df-caaaa8c8-f43d-40b8-81af-3420fe2660cd button.colab-df-convert');\n",
              "        buttonEl.style.display =\n",
              "          google.colab.kernel.accessAllowed ? 'block' : 'none';\n",
              "\n",
              "        async function convertToInteractive(key) {\n",
              "          const element = document.querySelector('#df-caaaa8c8-f43d-40b8-81af-3420fe2660cd');\n",
              "          const dataTable =\n",
              "            await google.colab.kernel.invokeFunction('convertToInteractive',\n",
              "                                                     [key], {});\n",
              "          if (!dataTable) return;\n",
              "\n",
              "          const docLinkHtml = 'Like what you see? Visit the ' +\n",
              "            '<a target=\"_blank\" href=https://colab.research.google.com/notebooks/data_table.ipynb>data table notebook</a>'\n",
              "            + ' to learn more about interactive tables.';\n",
              "          element.innerHTML = '';\n",
              "          dataTable['output_type'] = 'display_data';\n",
              "          await google.colab.output.renderOutput(dataTable, element);\n",
              "          const docLink = document.createElement('div');\n",
              "          docLink.innerHTML = docLinkHtml;\n",
              "          element.appendChild(docLink);\n",
              "        }\n",
              "      </script>\n",
              "    </div>\n",
              "  </div>\n",
              "  "
            ]
          },
          "metadata": {},
          "execution_count": 7
        }
      ]
    },
    {
      "cell_type": "code",
      "source": [
        "# 결측치 및 데이터 타입 확인\n",
        "print('결측치 합계: ', train.isna().sum().sum(), '\\n')\n",
        "train.info()"
      ],
      "metadata": {
        "colab": {
          "base_uri": "https://localhost:8080/"
        },
        "id": "iCNgH5mtqTPJ",
        "outputId": "9c670ac4-2be8-40f8-f789-5acb33897132"
      },
      "execution_count": null,
      "outputs": [
        {
          "output_type": "stream",
          "name": "stdout",
          "text": [
            "결측치 합계:  0 \n",
            "\n",
            "<class 'pandas.core.frame.DataFrame'>\n",
            "RangeIndex: 3019 entries, 0 to 3018\n",
            "Data columns (total 66 columns):\n",
            " #   Column             Non-Null Count  Dtype  \n",
            "---  ------             --------------  -----  \n",
            " 0   ID                 3019 non-null   object \n",
            " 1   Age                3019 non-null   int64  \n",
            " 2   Height             3019 non-null   int64  \n",
            " 3   Weight             3019 non-null   int64  \n",
            " 4   Position           3019 non-null   object \n",
            " 5   PreferredFoot      3019 non-null   object \n",
            " 6   AttackingWorkRate  3019 non-null   object \n",
            " 7   DefensiveWorkRate  3019 non-null   object \n",
            " 8   PaceTotal          3019 non-null   float64\n",
            " 9   ShootingTotal      3019 non-null   float64\n",
            " 10  PassingTotal       3019 non-null   float64\n",
            " 11  DribblingTotal     3019 non-null   float64\n",
            " 12  DefendingTotal     3019 non-null   float64\n",
            " 13  PhysicalityTotal   3019 non-null   float64\n",
            " 14  Crossing           3019 non-null   float64\n",
            " 15  Finishing          3019 non-null   float64\n",
            " 16  HeadingAccuracy    3019 non-null   float64\n",
            " 17  ShortPassing       3019 non-null   float64\n",
            " 18  Volleys            3019 non-null   float64\n",
            " 19  Dribbling          3019 non-null   float64\n",
            " 20  Curve              3019 non-null   float64\n",
            " 21  FKAccuracy         3019 non-null   float64\n",
            " 22  LongPassing        3019 non-null   float64\n",
            " 23  BallControl        3019 non-null   float64\n",
            " 24  Acceleration       3019 non-null   float64\n",
            " 25  SprintSpeed        3019 non-null   float64\n",
            " 26  Agility            3019 non-null   float64\n",
            " 27  Reactions          3019 non-null   float64\n",
            " 28  Balance            3019 non-null   float64\n",
            " 29  ShotPower          3019 non-null   float64\n",
            " 30  Jumping            3019 non-null   float64\n",
            " 31  Stamina            3019 non-null   float64\n",
            " 32  Strength           3019 non-null   float64\n",
            " 33  LongShots          3019 non-null   float64\n",
            " 34  Aggression         3019 non-null   float64\n",
            " 35  Interceptions      3019 non-null   float64\n",
            " 36  Positioning        3019 non-null   float64\n",
            " 37  Vision             3019 non-null   float64\n",
            " 38  Penalties          3019 non-null   float64\n",
            " 39  Composure          3019 non-null   float64\n",
            " 40  Marking            3019 non-null   float64\n",
            " 41  StandingTackle     3019 non-null   float64\n",
            " 42  SlidingTackle      3019 non-null   float64\n",
            " 43  GKDiving           3019 non-null   float64\n",
            " 44  GKHandling         3019 non-null   float64\n",
            " 45  GKKicking          3019 non-null   float64\n",
            " 46  GKPositioning      3019 non-null   float64\n",
            " 47  GKReflexes         3019 non-null   float64\n",
            " 48  STRating           3019 non-null   float64\n",
            " 49  LWRating           3019 non-null   float64\n",
            " 50  LFRating           3019 non-null   float64\n",
            " 51  CFRating           3019 non-null   float64\n",
            " 52  RFRating           3019 non-null   float64\n",
            " 53  RWRating           3019 non-null   float64\n",
            " 54  CAMRating          3019 non-null   float64\n",
            " 55  LMRating           3019 non-null   float64\n",
            " 56  CMRating           3019 non-null   float64\n",
            " 57  RMRating           3019 non-null   float64\n",
            " 58  LWBRating          3019 non-null   float64\n",
            " 59  CDMRating          3019 non-null   float64\n",
            " 60  RWBRating          3019 non-null   float64\n",
            " 61  LBRating           3019 non-null   float64\n",
            " 62  CBRating           3019 non-null   float64\n",
            " 63  RBRating           3019 non-null   float64\n",
            " 64  GKRating           3019 non-null   float64\n",
            " 65  Prospect           3019 non-null   int64  \n",
            "dtypes: float64(57), int64(4), object(5)\n",
            "memory usage: 1.5+ MB\n"
          ]
        }
      ]
    },
    {
      "cell_type": "code",
      "source": [
        "# 중복값 확인\n",
        "print('중복값 합계: ', sum(train.duplicated()))"
      ],
      "metadata": {
        "colab": {
          "base_uri": "https://localhost:8080/"
        },
        "id": "8wY-Y_GVqnxO",
        "outputId": "98ae9382-75e4-4862-e6cc-2f4d9ad091a5"
      },
      "execution_count": null,
      "outputs": [
        {
          "output_type": "stream",
          "name": "stdout",
          "text": [
            "중복값 합계:  0\n"
          ]
        }
      ]
    },
    {
      "cell_type": "code",
      "source": [
        "# 숫자 자료형\n",
        "train.describe().T"
      ],
      "metadata": {
        "colab": {
          "base_uri": "https://localhost:8080/"
        },
        "id": "1PDpCoaLqpcV",
        "outputId": "1e5932aa-6695-4af4-d960-879d74508894"
      },
      "execution_count": null,
      "outputs": [
        {
          "output_type": "execute_result",
          "data": {
            "text/plain": [
              "                count        mean       std       min       25%       50%  \\\n",
              "Age            3019.0   19.632329  1.235638   16.0000   19.0000   20.0000   \n",
              "Height         3019.0  180.892348  6.800187  160.0000  176.0000  180.0000   \n",
              "Weight         3019.0   73.081153  6.539758   49.0000   69.0000   73.0000   \n",
              "PaceTotal      3019.0    5.760521  1.298024    0.7246    4.9275    5.7971   \n",
              "ShootingTotal  3019.0    4.292595  1.624982    0.5263    3.0921    4.6053   \n",
              "...               ...         ...       ...       ...       ...       ...   \n",
              "LBRating       3019.0    4.852789  1.877633    0.0000    4.0000    5.2857   \n",
              "CBRating       3019.0    4.330720  1.880760    0.0000    3.0556    4.5833   \n",
              "RBRating       3019.0    4.852789  1.877633    0.0000    4.0000    5.2857   \n",
              "GKRating       3019.0    1.424188  1.606925    0.2500    0.7500    0.8750   \n",
              "Prospect       3019.0    0.361047  0.480384    0.0000    0.0000    0.0000   \n",
              "\n",
              "                    75%       max  \n",
              "Age             21.0000   21.0000  \n",
              "Height         185.5000  204.0000  \n",
              "Weight          77.0000   99.0000  \n",
              "PaceTotal        6.6667    9.7101  \n",
              "ShootingTotal    5.5263    9.8684  \n",
              "...                 ...       ...  \n",
              "LBRating         6.1429    9.1429  \n",
              "CBRating         5.8333    9.0278  \n",
              "RBRating         6.1429    9.1429  \n",
              "GKRating         1.1250    8.6250  \n",
              "Prospect         1.0000    1.0000  \n",
              "\n",
              "[61 rows x 8 columns]"
            ],
            "text/html": [
              "\n",
              "  <div id=\"df-a1c0bcc4-b043-4410-b012-875cc917a168\">\n",
              "    <div class=\"colab-df-container\">\n",
              "      <div>\n",
              "<style scoped>\n",
              "    .dataframe tbody tr th:only-of-type {\n",
              "        vertical-align: middle;\n",
              "    }\n",
              "\n",
              "    .dataframe tbody tr th {\n",
              "        vertical-align: top;\n",
              "    }\n",
              "\n",
              "    .dataframe thead th {\n",
              "        text-align: right;\n",
              "    }\n",
              "</style>\n",
              "<table border=\"1\" class=\"dataframe\">\n",
              "  <thead>\n",
              "    <tr style=\"text-align: right;\">\n",
              "      <th></th>\n",
              "      <th>count</th>\n",
              "      <th>mean</th>\n",
              "      <th>std</th>\n",
              "      <th>min</th>\n",
              "      <th>25%</th>\n",
              "      <th>50%</th>\n",
              "      <th>75%</th>\n",
              "      <th>max</th>\n",
              "    </tr>\n",
              "  </thead>\n",
              "  <tbody>\n",
              "    <tr>\n",
              "      <th>Age</th>\n",
              "      <td>3019.0</td>\n",
              "      <td>19.632329</td>\n",
              "      <td>1.235638</td>\n",
              "      <td>16.0000</td>\n",
              "      <td>19.0000</td>\n",
              "      <td>20.0000</td>\n",
              "      <td>21.0000</td>\n",
              "      <td>21.0000</td>\n",
              "    </tr>\n",
              "    <tr>\n",
              "      <th>Height</th>\n",
              "      <td>3019.0</td>\n",
              "      <td>180.892348</td>\n",
              "      <td>6.800187</td>\n",
              "      <td>160.0000</td>\n",
              "      <td>176.0000</td>\n",
              "      <td>180.0000</td>\n",
              "      <td>185.5000</td>\n",
              "      <td>204.0000</td>\n",
              "    </tr>\n",
              "    <tr>\n",
              "      <th>Weight</th>\n",
              "      <td>3019.0</td>\n",
              "      <td>73.081153</td>\n",
              "      <td>6.539758</td>\n",
              "      <td>49.0000</td>\n",
              "      <td>69.0000</td>\n",
              "      <td>73.0000</td>\n",
              "      <td>77.0000</td>\n",
              "      <td>99.0000</td>\n",
              "    </tr>\n",
              "    <tr>\n",
              "      <th>PaceTotal</th>\n",
              "      <td>3019.0</td>\n",
              "      <td>5.760521</td>\n",
              "      <td>1.298024</td>\n",
              "      <td>0.7246</td>\n",
              "      <td>4.9275</td>\n",
              "      <td>5.7971</td>\n",
              "      <td>6.6667</td>\n",
              "      <td>9.7101</td>\n",
              "    </tr>\n",
              "    <tr>\n",
              "      <th>ShootingTotal</th>\n",
              "      <td>3019.0</td>\n",
              "      <td>4.292595</td>\n",
              "      <td>1.624982</td>\n",
              "      <td>0.5263</td>\n",
              "      <td>3.0921</td>\n",
              "      <td>4.6053</td>\n",
              "      <td>5.5263</td>\n",
              "      <td>9.8684</td>\n",
              "    </tr>\n",
              "    <tr>\n",
              "      <th>...</th>\n",
              "      <td>...</td>\n",
              "      <td>...</td>\n",
              "      <td>...</td>\n",
              "      <td>...</td>\n",
              "      <td>...</td>\n",
              "      <td>...</td>\n",
              "      <td>...</td>\n",
              "      <td>...</td>\n",
              "    </tr>\n",
              "    <tr>\n",
              "      <th>LBRating</th>\n",
              "      <td>3019.0</td>\n",
              "      <td>4.852789</td>\n",
              "      <td>1.877633</td>\n",
              "      <td>0.0000</td>\n",
              "      <td>4.0000</td>\n",
              "      <td>5.2857</td>\n",
              "      <td>6.1429</td>\n",
              "      <td>9.1429</td>\n",
              "    </tr>\n",
              "    <tr>\n",
              "      <th>CBRating</th>\n",
              "      <td>3019.0</td>\n",
              "      <td>4.330720</td>\n",
              "      <td>1.880760</td>\n",
              "      <td>0.0000</td>\n",
              "      <td>3.0556</td>\n",
              "      <td>4.5833</td>\n",
              "      <td>5.8333</td>\n",
              "      <td>9.0278</td>\n",
              "    </tr>\n",
              "    <tr>\n",
              "      <th>RBRating</th>\n",
              "      <td>3019.0</td>\n",
              "      <td>4.852789</td>\n",
              "      <td>1.877633</td>\n",
              "      <td>0.0000</td>\n",
              "      <td>4.0000</td>\n",
              "      <td>5.2857</td>\n",
              "      <td>6.1429</td>\n",
              "      <td>9.1429</td>\n",
              "    </tr>\n",
              "    <tr>\n",
              "      <th>GKRating</th>\n",
              "      <td>3019.0</td>\n",
              "      <td>1.424188</td>\n",
              "      <td>1.606925</td>\n",
              "      <td>0.2500</td>\n",
              "      <td>0.7500</td>\n",
              "      <td>0.8750</td>\n",
              "      <td>1.1250</td>\n",
              "      <td>8.6250</td>\n",
              "    </tr>\n",
              "    <tr>\n",
              "      <th>Prospect</th>\n",
              "      <td>3019.0</td>\n",
              "      <td>0.361047</td>\n",
              "      <td>0.480384</td>\n",
              "      <td>0.0000</td>\n",
              "      <td>0.0000</td>\n",
              "      <td>0.0000</td>\n",
              "      <td>1.0000</td>\n",
              "      <td>1.0000</td>\n",
              "    </tr>\n",
              "  </tbody>\n",
              "</table>\n",
              "<p>61 rows × 8 columns</p>\n",
              "</div>\n",
              "      <button class=\"colab-df-convert\" onclick=\"convertToInteractive('df-a1c0bcc4-b043-4410-b012-875cc917a168')\"\n",
              "              title=\"Convert this dataframe to an interactive table.\"\n",
              "              style=\"display:none;\">\n",
              "        \n",
              "  <svg xmlns=\"http://www.w3.org/2000/svg\" height=\"24px\"viewBox=\"0 0 24 24\"\n",
              "       width=\"24px\">\n",
              "    <path d=\"M0 0h24v24H0V0z\" fill=\"none\"/>\n",
              "    <path d=\"M18.56 5.44l.94 2.06.94-2.06 2.06-.94-2.06-.94-.94-2.06-.94 2.06-2.06.94zm-11 1L8.5 8.5l.94-2.06 2.06-.94-2.06-.94L8.5 2.5l-.94 2.06-2.06.94zm10 10l.94 2.06.94-2.06 2.06-.94-2.06-.94-.94-2.06-.94 2.06-2.06.94z\"/><path d=\"M17.41 7.96l-1.37-1.37c-.4-.4-.92-.59-1.43-.59-.52 0-1.04.2-1.43.59L10.3 9.45l-7.72 7.72c-.78.78-.78 2.05 0 2.83L4 21.41c.39.39.9.59 1.41.59.51 0 1.02-.2 1.41-.59l7.78-7.78 2.81-2.81c.8-.78.8-2.07 0-2.86zM5.41 20L4 18.59l7.72-7.72 1.47 1.35L5.41 20z\"/>\n",
              "  </svg>\n",
              "      </button>\n",
              "      \n",
              "  <style>\n",
              "    .colab-df-container {\n",
              "      display:flex;\n",
              "      flex-wrap:wrap;\n",
              "      gap: 12px;\n",
              "    }\n",
              "\n",
              "    .colab-df-convert {\n",
              "      background-color: #E8F0FE;\n",
              "      border: none;\n",
              "      border-radius: 50%;\n",
              "      cursor: pointer;\n",
              "      display: none;\n",
              "      fill: #1967D2;\n",
              "      height: 32px;\n",
              "      padding: 0 0 0 0;\n",
              "      width: 32px;\n",
              "    }\n",
              "\n",
              "    .colab-df-convert:hover {\n",
              "      background-color: #E2EBFA;\n",
              "      box-shadow: 0px 1px 2px rgba(60, 64, 67, 0.3), 0px 1px 3px 1px rgba(60, 64, 67, 0.15);\n",
              "      fill: #174EA6;\n",
              "    }\n",
              "\n",
              "    [theme=dark] .colab-df-convert {\n",
              "      background-color: #3B4455;\n",
              "      fill: #D2E3FC;\n",
              "    }\n",
              "\n",
              "    [theme=dark] .colab-df-convert:hover {\n",
              "      background-color: #434B5C;\n",
              "      box-shadow: 0px 1px 3px 1px rgba(0, 0, 0, 0.15);\n",
              "      filter: drop-shadow(0px 1px 2px rgba(0, 0, 0, 0.3));\n",
              "      fill: #FFFFFF;\n",
              "    }\n",
              "  </style>\n",
              "\n",
              "      <script>\n",
              "        const buttonEl =\n",
              "          document.querySelector('#df-a1c0bcc4-b043-4410-b012-875cc917a168 button.colab-df-convert');\n",
              "        buttonEl.style.display =\n",
              "          google.colab.kernel.accessAllowed ? 'block' : 'none';\n",
              "\n",
              "        async function convertToInteractive(key) {\n",
              "          const element = document.querySelector('#df-a1c0bcc4-b043-4410-b012-875cc917a168');\n",
              "          const dataTable =\n",
              "            await google.colab.kernel.invokeFunction('convertToInteractive',\n",
              "                                                     [key], {});\n",
              "          if (!dataTable) return;\n",
              "\n",
              "          const docLinkHtml = 'Like what you see? Visit the ' +\n",
              "            '<a target=\"_blank\" href=https://colab.research.google.com/notebooks/data_table.ipynb>data table notebook</a>'\n",
              "            + ' to learn more about interactive tables.';\n",
              "          element.innerHTML = '';\n",
              "          dataTable['output_type'] = 'display_data';\n",
              "          await google.colab.output.renderOutput(dataTable, element);\n",
              "          const docLink = document.createElement('div');\n",
              "          docLink.innerHTML = docLinkHtml;\n",
              "          element.appendChild(docLink);\n",
              "        }\n",
              "      </script>\n",
              "    </div>\n",
              "  </div>\n",
              "  "
            ]
          },
          "metadata": {},
          "execution_count": 10
        }
      ]
    },
    {
      "cell_type": "code",
      "source": [
        "# 숫자 이외의 자료형\n",
        "train.describe(include='object').T"
      ],
      "metadata": {
        "colab": {
          "base_uri": "https://localhost:8080/"
        },
        "id": "OObOFjnKqrAw",
        "outputId": "c8dba325-bef5-4e8a-c505-9f12b68cc7a7"
      },
      "execution_count": null,
      "outputs": [
        {
          "output_type": "execute_result",
          "data": {
            "text/plain": [
              "                  count unique         top  freq\n",
              "ID                 3019   3019  TRAIN_0000     1\n",
              "Position           3019     15         CAM   612\n",
              "PreferredFoot      3019      2       Right  2284\n",
              "AttackingWorkRate  3019      3      Medium  2188\n",
              "DefensiveWorkRate  3019      3      Medium  2515"
            ],
            "text/html": [
              "\n",
              "  <div id=\"df-131a54c4-000b-4ba8-aefe-1dc95ad0b44c\">\n",
              "    <div class=\"colab-df-container\">\n",
              "      <div>\n",
              "<style scoped>\n",
              "    .dataframe tbody tr th:only-of-type {\n",
              "        vertical-align: middle;\n",
              "    }\n",
              "\n",
              "    .dataframe tbody tr th {\n",
              "        vertical-align: top;\n",
              "    }\n",
              "\n",
              "    .dataframe thead th {\n",
              "        text-align: right;\n",
              "    }\n",
              "</style>\n",
              "<table border=\"1\" class=\"dataframe\">\n",
              "  <thead>\n",
              "    <tr style=\"text-align: right;\">\n",
              "      <th></th>\n",
              "      <th>count</th>\n",
              "      <th>unique</th>\n",
              "      <th>top</th>\n",
              "      <th>freq</th>\n",
              "    </tr>\n",
              "  </thead>\n",
              "  <tbody>\n",
              "    <tr>\n",
              "      <th>ID</th>\n",
              "      <td>3019</td>\n",
              "      <td>3019</td>\n",
              "      <td>TRAIN_0000</td>\n",
              "      <td>1</td>\n",
              "    </tr>\n",
              "    <tr>\n",
              "      <th>Position</th>\n",
              "      <td>3019</td>\n",
              "      <td>15</td>\n",
              "      <td>CAM</td>\n",
              "      <td>612</td>\n",
              "    </tr>\n",
              "    <tr>\n",
              "      <th>PreferredFoot</th>\n",
              "      <td>3019</td>\n",
              "      <td>2</td>\n",
              "      <td>Right</td>\n",
              "      <td>2284</td>\n",
              "    </tr>\n",
              "    <tr>\n",
              "      <th>AttackingWorkRate</th>\n",
              "      <td>3019</td>\n",
              "      <td>3</td>\n",
              "      <td>Medium</td>\n",
              "      <td>2188</td>\n",
              "    </tr>\n",
              "    <tr>\n",
              "      <th>DefensiveWorkRate</th>\n",
              "      <td>3019</td>\n",
              "      <td>3</td>\n",
              "      <td>Medium</td>\n",
              "      <td>2515</td>\n",
              "    </tr>\n",
              "  </tbody>\n",
              "</table>\n",
              "</div>\n",
              "      <button class=\"colab-df-convert\" onclick=\"convertToInteractive('df-131a54c4-000b-4ba8-aefe-1dc95ad0b44c')\"\n",
              "              title=\"Convert this dataframe to an interactive table.\"\n",
              "              style=\"display:none;\">\n",
              "        \n",
              "  <svg xmlns=\"http://www.w3.org/2000/svg\" height=\"24px\"viewBox=\"0 0 24 24\"\n",
              "       width=\"24px\">\n",
              "    <path d=\"M0 0h24v24H0V0z\" fill=\"none\"/>\n",
              "    <path d=\"M18.56 5.44l.94 2.06.94-2.06 2.06-.94-2.06-.94-.94-2.06-.94 2.06-2.06.94zm-11 1L8.5 8.5l.94-2.06 2.06-.94-2.06-.94L8.5 2.5l-.94 2.06-2.06.94zm10 10l.94 2.06.94-2.06 2.06-.94-2.06-.94-.94-2.06-.94 2.06-2.06.94z\"/><path d=\"M17.41 7.96l-1.37-1.37c-.4-.4-.92-.59-1.43-.59-.52 0-1.04.2-1.43.59L10.3 9.45l-7.72 7.72c-.78.78-.78 2.05 0 2.83L4 21.41c.39.39.9.59 1.41.59.51 0 1.02-.2 1.41-.59l7.78-7.78 2.81-2.81c.8-.78.8-2.07 0-2.86zM5.41 20L4 18.59l7.72-7.72 1.47 1.35L5.41 20z\"/>\n",
              "  </svg>\n",
              "      </button>\n",
              "      \n",
              "  <style>\n",
              "    .colab-df-container {\n",
              "      display:flex;\n",
              "      flex-wrap:wrap;\n",
              "      gap: 12px;\n",
              "    }\n",
              "\n",
              "    .colab-df-convert {\n",
              "      background-color: #E8F0FE;\n",
              "      border: none;\n",
              "      border-radius: 50%;\n",
              "      cursor: pointer;\n",
              "      display: none;\n",
              "      fill: #1967D2;\n",
              "      height: 32px;\n",
              "      padding: 0 0 0 0;\n",
              "      width: 32px;\n",
              "    }\n",
              "\n",
              "    .colab-df-convert:hover {\n",
              "      background-color: #E2EBFA;\n",
              "      box-shadow: 0px 1px 2px rgba(60, 64, 67, 0.3), 0px 1px 3px 1px rgba(60, 64, 67, 0.15);\n",
              "      fill: #174EA6;\n",
              "    }\n",
              "\n",
              "    [theme=dark] .colab-df-convert {\n",
              "      background-color: #3B4455;\n",
              "      fill: #D2E3FC;\n",
              "    }\n",
              "\n",
              "    [theme=dark] .colab-df-convert:hover {\n",
              "      background-color: #434B5C;\n",
              "      box-shadow: 0px 1px 3px 1px rgba(0, 0, 0, 0.15);\n",
              "      filter: drop-shadow(0px 1px 2px rgba(0, 0, 0, 0.3));\n",
              "      fill: #FFFFFF;\n",
              "    }\n",
              "  </style>\n",
              "\n",
              "      <script>\n",
              "        const buttonEl =\n",
              "          document.querySelector('#df-131a54c4-000b-4ba8-aefe-1dc95ad0b44c button.colab-df-convert');\n",
              "        buttonEl.style.display =\n",
              "          google.colab.kernel.accessAllowed ? 'block' : 'none';\n",
              "\n",
              "        async function convertToInteractive(key) {\n",
              "          const element = document.querySelector('#df-131a54c4-000b-4ba8-aefe-1dc95ad0b44c');\n",
              "          const dataTable =\n",
              "            await google.colab.kernel.invokeFunction('convertToInteractive',\n",
              "                                                     [key], {});\n",
              "          if (!dataTable) return;\n",
              "\n",
              "          const docLinkHtml = 'Like what you see? Visit the ' +\n",
              "            '<a target=\"_blank\" href=https://colab.research.google.com/notebooks/data_table.ipynb>data table notebook</a>'\n",
              "            + ' to learn more about interactive tables.';\n",
              "          element.innerHTML = '';\n",
              "          dataTable['output_type'] = 'display_data';\n",
              "          await google.colab.output.renderOutput(dataTable, element);\n",
              "          const docLink = document.createElement('div');\n",
              "          docLink.innerHTML = docLinkHtml;\n",
              "          element.appendChild(docLink);\n",
              "        }\n",
              "      </script>\n",
              "    </div>\n",
              "  </div>\n",
              "  "
            ]
          },
          "metadata": {},
          "execution_count": 11
        }
      ]
    },
    {
      "cell_type": "code",
      "source": [
        "# 숫자 이외의 자료형의 값 및 개수 확인\n",
        "for col in ['Position','PreferredFoot','AttackingWorkRate','DefensiveWorkRate']:\n",
        "  print(col)\n",
        "  print(train[col].value_counts())"
      ],
      "metadata": {
        "colab": {
          "base_uri": "https://localhost:8080/"
        },
        "id": "9lL_oM5hqssx",
        "outputId": "6a5966b1-6d48-4f16-d41e-a1da725d1a6c"
      },
      "execution_count": null,
      "outputs": [
        {
          "output_type": "stream",
          "name": "stdout",
          "text": [
            "Position\n",
            "CAM    612\n",
            "CB     534\n",
            "ST     446\n",
            "GK     314\n",
            "RM     292\n",
            "CDM    144\n",
            "RB     139\n",
            "LM     134\n",
            "CM     129\n",
            "LB     118\n",
            "RWB     61\n",
            "LWB     56\n",
            "RW      20\n",
            "LW      18\n",
            "CF       2\n",
            "Name: Position, dtype: int64\n",
            "PreferredFoot\n",
            "Right    2284\n",
            "Left      735\n",
            "Name: PreferredFoot, dtype: int64\n",
            "AttackingWorkRate\n",
            "Medium    2188\n",
            "High       736\n",
            "Low         95\n",
            "Name: AttackingWorkRate, dtype: int64\n",
            "DefensiveWorkRate\n",
            "Medium    2515\n",
            "High       302\n",
            "Low        202\n",
            "Name: DefensiveWorkRate, dtype: int64\n"
          ]
        }
      ]
    },
    {
      "cell_type": "code",
      "source": [
        "# target 변수 분포 확인\n",
        "train['Prospect'].value_counts()"
      ],
      "metadata": {
        "colab": {
          "base_uri": "https://localhost:8080/"
        },
        "id": "c4cjS6rOcgpX",
        "outputId": "26b0478d-d264-4e5e-f2c2-1c2e03b5d277"
      },
      "execution_count": null,
      "outputs": [
        {
          "output_type": "execute_result",
          "data": {
            "text/plain": [
              "0    1929\n",
              "1    1090\n",
              "Name: Prospect, dtype: int64"
            ]
          },
          "metadata": {},
          "execution_count": 13
        }
      ]
    },
    {
      "cell_type": "code",
      "source": [
        "corr = train.corr()\n",
        "mask = np.zeros_like(corr)\n",
        "mask[np.triu_indices_from(mask)] = True\n",
        "with sns.axes_style(\"white\"):\n",
        "    f, ax = plt.subplots(figsize=(15, 15))\n",
        "    ax = sns.heatmap(corr,mask=mask,square=True,linewidths=.8,cmap=\"YlGnBu\")"
      ],
      "metadata": {
        "colab": {
          "base_uri": "https://localhost:8080/"
        },
        "id": "BqyTrCnOceYI",
        "outputId": "9a23c9a5-51c7-49fc-b206-30bee4a7c160"
      },
      "execution_count": null,
      "outputs": [
        {
          "output_type": "display_data",
          "data": {
            "text/plain": [
              "<Figure size 1080x1080 with 2 Axes>"
            ],
            "image/png": "[encoded data removed]"
          },
          "metadata": {}
        }
      ]
    },
    {
      "cell_type": "markdown",
      "source": [
        "## Data preprocessing"
      ],
      "metadata": {
        "id": "pnWMC_BJINbp"
      }
    },
    {
      "cell_type": "code",
      "source": [
        "# label encoding\n",
        "qual_cols = ['PreferredFoot', 'AttackingWorkRate', 'DefensiveWorkRate']\n",
        "\n",
        "for i in qual_cols:\n",
        "    le = LabelEncoder()\n",
        "    le = le.fit(train[i])\n",
        "    \n",
        "    train[i] = le.transform(train[i])\n",
        "    \n",
        "    for label in np.unique(test[i]):\n",
        "        if label not in le.classes_:\n",
        "            le.classes_ = np.append(le.classes_, label)\n",
        "    ## Label Encoder가 Test 데이터로부터 Fitting되는 것은 Data Leakage이므로, Test 데이터에는 Train 데이터로 Fitting된 Label Encoder로부터 transform만 수행되어야 합니다.\n",
        "    test[i] = le.transform(test[i])\n",
        "print('Done.')"
      ],
      "metadata": {
        "colab": {
          "base_uri": "https://localhost:8080/"
        },
        "id": "m3NYqRuJIKjk",
        "outputId": "52ba9fbc-b2dc-4e06-b04a-60967e114359"
      },
      "execution_count": null,
      "outputs": [
        {
          "output_type": "stream",
          "name": "stdout",
          "text": [
            "Done.\n"
          ]
        }
      ]
    },
    {
      "cell_type": "code",
      "source": [
        "# one-hot encoding\n",
        "qual_col = ['Position']\n",
        "one_hot_encoder = {}\n",
        "for i in qual_col:\n",
        "  cols = set(list(train[i]))\n",
        "  for fname in cols:\n",
        "    train[fname] = (train[i]==fname)\n",
        "    test[fname] = (test[i]==fname)\n",
        "  train = train.drop(columns=i)\n",
        "  test = test.drop(columns=i)\n",
        "print('Done.')"
      ],
      "metadata": {
        "colab": {
          "base_uri": "https://localhost:8080/"
        },
        "id": "u78PCZBtGFs5",
        "outputId": "e4344166-fbbe-4a02-c73b-aeb2ccece234"
      },
      "execution_count": null,
      "outputs": [
        {
          "output_type": "stream",
          "name": "stdout",
          "text": [
            "Done.\n"
          ]
        }
      ]
    },
    {
      "cell_type": "markdown",
      "source": [
        "## Modeling"
      ],
      "metadata": {
        "id": "ApuFitdvuTfo"
      }
    },
    {
      "cell_type": "code",
      "source": [
        "X = train.drop(['ID', CFG.target], axis=1)\n",
        "y = train[CFG.target]"
      ],
      "metadata": {
        "id": "5HhZdsvcI91e"
      },
      "execution_count": null,
      "outputs": []
    },
    {
      "cell_type": "markdown",
      "source": [
        "### Train / Test Split"
      ],
      "metadata": {
        "id": "e2aBmriSuV0t"
      }
    },
    {
      "cell_type": "code",
      "source": [
        "from sklearn.model_selection import train_test_split\n",
        "\n",
        "X_train, X_valid, y_train, y_valid = train_test_split(\n",
        "    X, y, test_size=0.2, random_state=42, stratify=y\n",
        ")\n",
        "print('length of X_train / x_valid:', len(X_train),'/', len(X_valid))\n",
        "print('length of y_train / y_valid:', len(y_train),'/', len(y_valid))"
      ],
      "metadata": {
        "colab": {
          "base_uri": "https://localhost:8080/"
        },
        "id": "xufC2D1-yDkE",
        "outputId": "8c079cd8-35c9-4cab-e612-48820033087c"
      },
      "execution_count": null,
      "outputs": [
        {
          "output_type": "stream",
          "name": "stdout",
          "text": [
            "length of X_train / x_valid: 2415 / 604\n",
            "length of y_train / y_valid: 2415 / 604\n"
          ]
        }
      ]
    },
    {
      "cell_type": "code",
      "source": [
        "# from sklearn.preprocessing import MinMaxScaler\n",
        "\n",
        "# scaler = MinMaxScaler().fit(X_train)\n",
        "# X_train = scaler.transform(X_train)\n",
        "# X_valid = scaler.transform(X_valid)"
      ],
      "metadata": {
        "id": "4-jAXIj6PHxg"
      },
      "execution_count": null,
      "outputs": []
    },
    {
      "cell_type": "markdown",
      "source": [
        "## Classification model fit\n"
      ],
      "metadata": {
        "id": "h-Qrxj91XvvK"
      }
    },
    {
      "cell_type": "code",
      "source": [
        "!pip install catboost"
      ],
      "metadata": {
        "id": "03UKicQ55Sz_",
        "colab": {
          "base_uri": "https://localhost:8080/"
        },
        "outputId": "ab59d977-25c4-4549-8611-af751c030b97"
      },
      "execution_count": null,
      "outputs": [
        {
          "output_type": "stream",
          "name": "stdout",
          "text": [
            "Looking in indexes: https://pypi.org/simple, https://us-python.pkg.dev/colab-wheels/public/simple/\n",
            "Requirement already satisfied: catboost in /usr/local/lib/python3.7/dist-packages (1.1.1)\n",
            "Requirement already satisfied: pandas>=0.24.0 in /usr/local/lib/python3.7/dist-packages (from catboost) (1.3.5)\n",
            "Requirement already satisfied: graphviz in /usr/local/lib/python3.7/dist-packages (from catboost) (0.10.1)\n",
            "Requirement already satisfied: matplotlib in /usr/local/lib/python3.7/dist-packages (from catboost) (3.2.2)\n",
            "Requirement already satisfied: numpy>=1.16.0 in /usr/local/lib/python3.7/dist-packages (from catboost) (1.21.6)\n",
            "Requirement already satisfied: six in /usr/local/lib/python3.7/dist-packages (from catboost) (1.15.0)\n",
            "Requirement already satisfied: scipy in /usr/local/lib/python3.7/dist-packages (from catboost) (1.7.3)\n",
            "Requirement already satisfied: plotly in /usr/local/lib/python3.7/dist-packages (from catboost) (5.5.0)\n",
            "Requirement already satisfied: pytz>=2017.3 in /usr/local/lib/python3.7/dist-packages (from pandas>=0.24.0->catboost) (2022.6)\n",
            "Requirement already satisfied: python-dateutil>=2.7.3 in /usr/local/lib/python3.7/dist-packages (from pandas>=0.24.0->catboost) (2.8.2)\n",
            "Requirement already satisfied: cycler>=0.10 in /usr/local/lib/python3.7/dist-packages (from matplotlib->catboost) (0.11.0)\n",
            "Requirement already satisfied: kiwisolver>=1.0.1 in /usr/local/lib/python3.7/dist-packages (from matplotlib->catboost) (1.4.4)\n",
            "Requirement already satisfied: pyparsing!=2.0.4,!=2.1.2,!=2.1.6,>=2.0.1 in /usr/local/lib/python3.7/dist-packages (from matplotlib->catboost) (3.0.9)\n",
            "Requirement already satisfied: typing-extensions in /usr/local/lib/python3.7/dist-packages (from kiwisolver>=1.0.1->matplotlib->catboost) (4.1.1)\n",
            "Requirement already satisfied: tenacity>=6.2.0 in /usr/local/lib/python3.7/dist-packages (from plotly->catboost) (8.1.0)\n"
          ]
        }
      ]
    },
    {
      "cell_type": "code",
      "source": [
        "from sklearn.ensemble import RandomForestClassifier\n",
        "from xgboost import XGBClassifier\n",
        "from lightgbm import LGBMClassifier\n",
        "from catboost import CatBoostClassifier, Pool\n",
        "from sklearn.metrics import precision_recall_fscore_support, accuracy_score\n",
        "from sklearn.metrics import f1_score\n",
        "from sklearn import metrics"
      ],
      "metadata": {
        "id": "D_CdZjDg138V"
      },
      "execution_count": null,
      "outputs": []
    },
    {
      "cell_type": "code",
      "source": [
        "model1 = RandomForestClassifier(random_state = CFG.user_seed)\n",
        "model2 = XGBClassifier(random_state = CFG.user_seed)\n",
        "model3 = LGBMClassifier(random_state = CFG.user_seed, n_estimators=1000, reg_lambda=1)\n",
        "model4 = CatBoostClassifier(random_state = CFG.user_seed, verbose=False)"
      ],
      "metadata": {
        "id": "FgHUl4kmjLP7"
      },
      "execution_count": null,
      "outputs": []
    },
    {
      "cell_type": "code",
      "source": [
        "model1.fit(X_train, y_train)\n",
        "model2.fit(X_train, y_train)\n",
        "model3.fit(X_train, y_train)\n",
        "model4.fit(X_train, y_train)"
      ],
      "metadata": {
        "colab": {
          "base_uri": "https://localhost:8080/"
        },
        "id": "1ucFOI17262n",
        "outputId": "3744bb4f-4e32-4e75-ff19-27683b881d36"
      },
      "execution_count": null,
      "outputs": [
        {
          "output_type": "execute_result",
          "data": {
            "text/plain": [
              "RandomForestClassifier(random_state=42)"
            ]
          },
          "metadata": {},
          "execution_count": 25
        },
        {
          "output_type": "execute_result",
          "data": {
            "text/plain": [
              "XGBClassifier(random_state=42)"
            ]
          },
          "metadata": {},
          "execution_count": 25
        },
        {
          "output_type": "execute_result",
          "data": {
            "text/plain": [
              "LGBMClassifier(n_estimators=1000, random_state=42, reg_lambda=1)"
            ]
          },
          "metadata": {},
          "execution_count": 25
        },
        {
          "output_type": "execute_result",
          "data": {
            "text/plain": [
              "<catboost.core.CatBoostClassifier at 0x7f9c8c0d9750>"
            ]
          },
          "metadata": {},
          "execution_count": 25
        }
      ]
    },
    {
      "cell_type": "code",
      "source": [
        "# RF\n",
        "y_pred = model1.predict(X_valid)\n",
        "\n",
        "print('macro f1-score:', metrics.f1_score(y_valid, y_pred, average='macro'))\n",
        "print(metrics.classification_report(y_valid, y_pred))"
      ],
      "metadata": {
        "colab": {
          "base_uri": "https://localhost:8080/"
        },
        "id": "ILYEAtsu3L7w",
        "outputId": "33b21899-7472-48c1-c131-605f498e1a35"
      },
      "execution_count": null,
      "outputs": [
        {
          "output_type": "stream",
          "name": "stdout",
          "text": [
            "macro f1-score: 0.7327568770226537\n",
            "              precision    recall  f1-score   support\n",
            "\n",
            "           0       0.78      0.89      0.83       386\n",
            "           1       0.73      0.56      0.64       218\n",
            "\n",
            "    accuracy                           0.77       604\n",
            "   macro avg       0.76      0.72      0.73       604\n",
            "weighted avg       0.76      0.77      0.76       604\n",
            "\n"
          ]
        }
      ]
    },
    {
      "cell_type": "code",
      "source": [
        "# XGB\n",
        "y_pred = model2.predict(X_valid)\n",
        "\n",
        "print('macro f1-score:', metrics.f1_score(y_valid, y_pred, average='macro'))\n",
        "print(metrics.classification_report(y_valid, y_pred))"
      ],
      "metadata": {
        "colab": {
          "base_uri": "https://localhost:8080/"
        },
        "id": "QtXMq6uU3Vu5",
        "outputId": "566355eb-38d5-48c8-ee93-518884932a1e"
      },
      "execution_count": null,
      "outputs": [
        {
          "output_type": "stream",
          "name": "stdout",
          "text": [
            "macro f1-score: 0.7535881131386749\n",
            "              precision    recall  f1-score   support\n",
            "\n",
            "           0       0.80      0.87      0.83       386\n",
            "           1       0.72      0.63      0.67       218\n",
            "\n",
            "    accuracy                           0.78       604\n",
            "   macro avg       0.76      0.75      0.75       604\n",
            "weighted avg       0.78      0.78      0.78       604\n",
            "\n"
          ]
        }
      ]
    },
    {
      "cell_type": "code",
      "source": [
        "# LGBM\n",
        "y_pred = model3.predict(X_valid)\n",
        "\n",
        "print('macro f1-score:', metrics.f1_score(y_valid, y_pred, average='macro'))\n",
        "print(metrics.classification_report(y_valid, y_pred))"
      ],
      "metadata": {
        "colab": {
          "base_uri": "https://localhost:8080/"
        },
        "id": "dXs_Bgx23buO",
        "outputId": "804b4418-5ca6-4fbb-a649-b0f187310ae0"
      },
      "execution_count": null,
      "outputs": [
        {
          "output_type": "stream",
          "name": "stdout",
          "text": [
            "macro f1-score: 0.740449252497934\n",
            "              precision    recall  f1-score   support\n",
            "\n",
            "           0       0.81      0.83      0.82       386\n",
            "           1       0.68      0.65      0.66       218\n",
            "\n",
            "    accuracy                           0.76       604\n",
            "   macro avg       0.74      0.74      0.74       604\n",
            "weighted avg       0.76      0.76      0.76       604\n",
            "\n"
          ]
        }
      ]
    },
    {
      "cell_type": "code",
      "source": [
        "# Catboost\n",
        "y_pred = model4.predict(X_valid)\n",
        "\n",
        "print('macro f1-score:', metrics.f1_score(y_valid, y_pred, average='macro'))\n",
        "print(metrics.classification_report(y_valid, y_pred))"
      ],
      "metadata": {
        "colab": {
          "base_uri": "https://localhost:8080/"
        },
        "id": "RgPLp29d3h9e",
        "outputId": "7aa54fbd-2919-4fd5-9bf6-302f4c01e966"
      },
      "execution_count": null,
      "outputs": [
        {
          "output_type": "stream",
          "name": "stdout",
          "text": [
            "macro f1-score: 0.7442947773070422\n",
            "              precision    recall  f1-score   support\n",
            "\n",
            "           0       0.80      0.87      0.83       386\n",
            "           1       0.72      0.61      0.66       218\n",
            "\n",
            "    accuracy                           0.77       604\n",
            "   macro avg       0.76      0.74      0.74       604\n",
            "weighted avg       0.77      0.77      0.77       604\n",
            "\n"
          ]
        }
      ]
    },
    {
      "cell_type": "markdown",
      "source": [
        "현재 파일 점수\n",
        "- RF : 0.7407\n",
        "- XGB : 0.7535\n",
        "- LGBM : 0.7404\n",
        "- Cat : 0.7442"
      ],
      "metadata": {
        "id": "eer6v_d3ZrYs"
      }
    },
    {
      "cell_type": "markdown",
      "source": [
        "## Inference"
      ],
      "metadata": {
        "id": "ql2giRkwJIsi"
      }
    },
    {
      "cell_type": "code",
      "source": [
        "X_test = test.drop(['ID'], axis=1)\n",
        "\n",
        "## pred\n",
        "pred1 = model1.predict(X_test)\n",
        "pred2 = model2.predict(X_test)\n",
        "pred3 = model3.predict(X_test)\n",
        "pred4 = model4.predict(X_test)\n",
        "\n",
        "pred = (pred1 + pred2 + pred3 + pred4)/4"
      ],
      "metadata": {
        "id": "Gj3E0wSEJCDk"
      },
      "execution_count": null,
      "outputs": []
    },
    {
      "cell_type": "code",
      "source": [
        "submit = pd.read_csv(path + 'sample_submission.csv')"
      ],
      "metadata": {
        "id": "XP8rCDcVJLKe"
      },
      "execution_count": null,
      "outputs": []
    },
    {
      "cell_type": "code",
      "source": [
        "submit[CFG.target] = pred"
      ],
      "metadata": {
        "id": "gYkbiNonJNHg"
      },
      "execution_count": null,
      "outputs": []
    },
    {
      "cell_type": "code",
      "source": [
        "# Voting ensemble\n",
        "submit['Prospect'] = submit['Prospect'].apply(lambda x: 0 if x < 0.5 else 1)"
      ],
      "metadata": {
        "id": "DnvGfTqG_is-"
      },
      "execution_count": null,
      "outputs": []
    },
    {
      "cell_type": "code",
      "source": [
        "submit"
      ],
      "metadata": {
        "colab": {
          "base_uri": "https://localhost:8080/",
          "height": 424
        },
        "id": "1JbA6DoAAF70",
        "outputId": "648fee01-6b4e-4ad9-e703-4e189a71203c"
      },
      "execution_count": null,
      "outputs": [
        {
          "output_type": "execute_result",
          "data": {
            "text/plain": [
              "             ID  Prospect\n",
              "0     TEST_0000         1\n",
              "1     TEST_0001         1\n",
              "2     TEST_0002         0\n",
              "3     TEST_0003         0\n",
              "4     TEST_0004         1\n",
              "...         ...       ...\n",
              "1621  TEST_1621         0\n",
              "1622  TEST_1622         0\n",
              "1623  TEST_1623         0\n",
              "1624  TEST_1624         1\n",
              "1625  TEST_1625         1\n",
              "\n",
              "[1626 rows x 2 columns]"
            ],
            "text/html": [
              "\n",
              "  <div id=\"df-b588ba27-3760-4df8-bc18-ae48ffd9b99e\">\n",
              "    <div class=\"colab-df-container\">\n",
              "      <div>\n",
              "<style scoped>\n",
              "    .dataframe tbody tr th:only-of-type {\n",
              "        vertical-align: middle;\n",
              "    }\n",
              "\n",
              "    .dataframe tbody tr th {\n",
              "        vertical-align: top;\n",
              "    }\n",
              "\n",
              "    .dataframe thead th {\n",
              "        text-align: right;\n",
              "    }\n",
              "</style>\n",
              "<table border=\"1\" class=\"dataframe\">\n",
              "  <thead>\n",
              "    <tr style=\"text-align: right;\">\n",
              "      <th></th>\n",
              "      <th>ID</th>\n",
              "      <th>Prospect</th>\n",
              "    </tr>\n",
              "  </thead>\n",
              "  <tbody>\n",
              "    <tr>\n",
              "      <th>0</th>\n",
              "      <td>TEST_0000</td>\n",
              "      <td>1</td>\n",
              "    </tr>\n",
              "    <tr>\n",
              "      <th>1</th>\n",
              "      <td>TEST_0001</td>\n",
              "      <td>1</td>\n",
              "    </tr>\n",
              "    <tr>\n",
              "      <th>2</th>\n",
              "      <td>TEST_0002</td>\n",
              "      <td>0</td>\n",
              "    </tr>\n",
              "    <tr>\n",
              "      <th>3</th>\n",
              "      <td>TEST_0003</td>\n",
              "      <td>0</td>\n",
              "    </tr>\n",
              "    <tr>\n",
              "      <th>4</th>\n",
              "      <td>TEST_0004</td>\n",
              "      <td>1</td>\n",
              "    </tr>\n",
              "    <tr>\n",
              "      <th>...</th>\n",
              "      <td>...</td>\n",
              "      <td>...</td>\n",
              "    </tr>\n",
              "    <tr>\n",
              "      <th>1621</th>\n",
              "      <td>TEST_1621</td>\n",
              "      <td>0</td>\n",
              "    </tr>\n",
              "    <tr>\n",
              "      <th>1622</th>\n",
              "      <td>TEST_1622</td>\n",
              "      <td>0</td>\n",
              "    </tr>\n",
              "    <tr>\n",
              "      <th>1623</th>\n",
              "      <td>TEST_1623</td>\n",
              "      <td>0</td>\n",
              "    </tr>\n",
              "    <tr>\n",
              "      <th>1624</th>\n",
              "      <td>TEST_1624</td>\n",
              "      <td>1</td>\n",
              "    </tr>\n",
              "    <tr>\n",
              "      <th>1625</th>\n",
              "      <td>TEST_1625</td>\n",
              "      <td>1</td>\n",
              "    </tr>\n",
              "  </tbody>\n",
              "</table>\n",
              "<p>1626 rows × 2 columns</p>\n",
              "</div>\n",
              "      <button class=\"colab-df-convert\" onclick=\"convertToInteractive('df-b588ba27-3760-4df8-bc18-ae48ffd9b99e')\"\n",
              "              title=\"Convert this dataframe to an interactive table.\"\n",
              "              style=\"display:none;\">\n",
              "        \n",
              "  <svg xmlns=\"http://www.w3.org/2000/svg\" height=\"24px\"viewBox=\"0 0 24 24\"\n",
              "       width=\"24px\">\n",
              "    <path d=\"M0 0h24v24H0V0z\" fill=\"none\"/>\n",
              "    <path d=\"M18.56 5.44l.94 2.06.94-2.06 2.06-.94-2.06-.94-.94-2.06-.94 2.06-2.06.94zm-11 1L8.5 8.5l.94-2.06 2.06-.94-2.06-.94L8.5 2.5l-.94 2.06-2.06.94zm10 10l.94 2.06.94-2.06 2.06-.94-2.06-.94-.94-2.06-.94 2.06-2.06.94z\"/><path d=\"M17.41 7.96l-1.37-1.37c-.4-.4-.92-.59-1.43-.59-.52 0-1.04.2-1.43.59L10.3 9.45l-7.72 7.72c-.78.78-.78 2.05 0 2.83L4 21.41c.39.39.9.59 1.41.59.51 0 1.02-.2 1.41-.59l7.78-7.78 2.81-2.81c.8-.78.8-2.07 0-2.86zM5.41 20L4 18.59l7.72-7.72 1.47 1.35L5.41 20z\"/>\n",
              "  </svg>\n",
              "      </button>\n",
              "      \n",
              "  <style>\n",
              "    .colab-df-container {\n",
              "      display:flex;\n",
              "      flex-wrap:wrap;\n",
              "      gap: 12px;\n",
              "    }\n",
              "\n",
              "    .colab-df-convert {\n",
              "      background-color: #E8F0FE;\n",
              "      border: none;\n",
              "      border-radius: 50%;\n",
              "      cursor: pointer;\n",
              "      display: none;\n",
              "      fill: #1967D2;\n",
              "      height: 32px;\n",
              "      padding: 0 0 0 0;\n",
              "      width: 32px;\n",
              "    }\n",
              "\n",
              "    .colab-df-convert:hover {\n",
              "      background-color: #E2EBFA;\n",
              "      box-shadow: 0px 1px 2px rgba(60, 64, 67, 0.3), 0px 1px 3px 1px rgba(60, 64, 67, 0.15);\n",
              "      fill: #174EA6;\n",
              "    }\n",
              "\n",
              "    [theme=dark] .colab-df-convert {\n",
              "      background-color: #3B4455;\n",
              "      fill: #D2E3FC;\n",
              "    }\n",
              "\n",
              "    [theme=dark] .colab-df-convert:hover {\n",
              "      background-color: #434B5C;\n",
              "      box-shadow: 0px 1px 3px 1px rgba(0, 0, 0, 0.15);\n",
              "      filter: drop-shadow(0px 1px 2px rgba(0, 0, 0, 0.3));\n",
              "      fill: #FFFFFF;\n",
              "    }\n",
              "  </style>\n",
              "\n",
              "      <script>\n",
              "        const buttonEl =\n",
              "          document.querySelector('#df-b588ba27-3760-4df8-bc18-ae48ffd9b99e button.colab-df-convert');\n",
              "        buttonEl.style.display =\n",
              "          google.colab.kernel.accessAllowed ? 'block' : 'none';\n",
              "\n",
              "        async function convertToInteractive(key) {\n",
              "          const element = document.querySelector('#df-b588ba27-3760-4df8-bc18-ae48ffd9b99e');\n",
              "          const dataTable =\n",
              "            await google.colab.kernel.invokeFunction('convertToInteractive',\n",
              "                                                     [key], {});\n",
              "          if (!dataTable) return;\n",
              "\n",
              "          const docLinkHtml = 'Like what you see? Visit the ' +\n",
              "            '<a target=\"_blank\" href=https://colab.research.google.com/notebooks/data_table.ipynb>data table notebook</a>'\n",
              "            + ' to learn more about interactive tables.';\n",
              "          element.innerHTML = '';\n",
              "          dataTable['output_type'] = 'display_data';\n",
              "          await google.colab.output.renderOutput(dataTable, element);\n",
              "          const docLink = document.createElement('div');\n",
              "          docLink.innerHTML = docLinkHtml;\n",
              "          element.appendChild(docLink);\n",
              "        }\n",
              "      </script>\n",
              "    </div>\n",
              "  </div>\n",
              "  "
            ]
          },
          "metadata": {},
          "execution_count": 34
        }
      ]
    },
    {
      "cell_type": "code",
      "source": [
        "submit.to_csv(path + 'submit(10).csv', index = False)"
      ],
      "metadata": {
        "id": "ynD3JjERJOgk"
      },
      "execution_count": null,
      "outputs": []
    }
  ]
}